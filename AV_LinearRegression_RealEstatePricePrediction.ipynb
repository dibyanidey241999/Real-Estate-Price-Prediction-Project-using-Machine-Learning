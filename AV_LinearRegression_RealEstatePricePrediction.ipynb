{
 "cells": [
  {
   "cell_type": "code",
   "execution_count": 152,
   "id": "8b333c45",
   "metadata": {},
   "outputs": [],
   "source": [
    "import os\n",
    "import pandas as pd\n",
    "import numpy as np\n",
    "import matplotlib.pyplot as plt\n",
    "import seaborn as sns\n",
    "import warnings\n",
    "warnings.filterwarnings('ignore')"
   ]
  },
  {
   "cell_type": "code",
   "execution_count": 153,
   "id": "83113eec",
   "metadata": {},
   "outputs": [],
   "source": [
    "df = pd.read_csv('Bengaluru_House_Data.csv')"
   ]
  },
  {
   "cell_type": "code",
   "execution_count": 154,
   "id": "45f142b3",
   "metadata": {},
   "outputs": [
    {
     "data": {
      "text/html": [
       "<div>\n",
       "<style scoped>\n",
       "    .dataframe tbody tr th:only-of-type {\n",
       "        vertical-align: middle;\n",
       "    }\n",
       "\n",
       "    .dataframe tbody tr th {\n",
       "        vertical-align: top;\n",
       "    }\n",
       "\n",
       "    .dataframe thead th {\n",
       "        text-align: right;\n",
       "    }\n",
       "</style>\n",
       "<table border=\"1\" class=\"dataframe\">\n",
       "  <thead>\n",
       "    <tr style=\"text-align: right;\">\n",
       "      <th></th>\n",
       "      <th>area_type</th>\n",
       "      <th>availability</th>\n",
       "      <th>location</th>\n",
       "      <th>size</th>\n",
       "      <th>society</th>\n",
       "      <th>total_sqft</th>\n",
       "      <th>bath</th>\n",
       "      <th>balcony</th>\n",
       "      <th>price</th>\n",
       "    </tr>\n",
       "  </thead>\n",
       "  <tbody>\n",
       "    <tr>\n",
       "      <th>0</th>\n",
       "      <td>Super built-up  Area</td>\n",
       "      <td>19-Dec</td>\n",
       "      <td>Electronic City Phase II</td>\n",
       "      <td>2 BHK</td>\n",
       "      <td>Coomee</td>\n",
       "      <td>1056</td>\n",
       "      <td>2.0</td>\n",
       "      <td>1.0</td>\n",
       "      <td>39.07</td>\n",
       "    </tr>\n",
       "    <tr>\n",
       "      <th>1</th>\n",
       "      <td>Plot  Area</td>\n",
       "      <td>Ready To Move</td>\n",
       "      <td>Chikka Tirupathi</td>\n",
       "      <td>4 Bedroom</td>\n",
       "      <td>Theanmp</td>\n",
       "      <td>2600</td>\n",
       "      <td>5.0</td>\n",
       "      <td>3.0</td>\n",
       "      <td>120.00</td>\n",
       "    </tr>\n",
       "    <tr>\n",
       "      <th>2</th>\n",
       "      <td>Built-up  Area</td>\n",
       "      <td>Ready To Move</td>\n",
       "      <td>Uttarahalli</td>\n",
       "      <td>3 BHK</td>\n",
       "      <td>NaN</td>\n",
       "      <td>1440</td>\n",
       "      <td>2.0</td>\n",
       "      <td>3.0</td>\n",
       "      <td>62.00</td>\n",
       "    </tr>\n",
       "    <tr>\n",
       "      <th>3</th>\n",
       "      <td>Super built-up  Area</td>\n",
       "      <td>Ready To Move</td>\n",
       "      <td>Lingadheeranahalli</td>\n",
       "      <td>3 BHK</td>\n",
       "      <td>Soiewre</td>\n",
       "      <td>1521</td>\n",
       "      <td>3.0</td>\n",
       "      <td>1.0</td>\n",
       "      <td>95.00</td>\n",
       "    </tr>\n",
       "    <tr>\n",
       "      <th>4</th>\n",
       "      <td>Super built-up  Area</td>\n",
       "      <td>Ready To Move</td>\n",
       "      <td>Kothanur</td>\n",
       "      <td>2 BHK</td>\n",
       "      <td>NaN</td>\n",
       "      <td>1200</td>\n",
       "      <td>2.0</td>\n",
       "      <td>1.0</td>\n",
       "      <td>51.00</td>\n",
       "    </tr>\n",
       "  </tbody>\n",
       "</table>\n",
       "</div>"
      ],
      "text/plain": [
       "              area_type   availability                  location       size  \\\n",
       "0  Super built-up  Area         19-Dec  Electronic City Phase II      2 BHK   \n",
       "1            Plot  Area  Ready To Move          Chikka Tirupathi  4 Bedroom   \n",
       "2        Built-up  Area  Ready To Move               Uttarahalli      3 BHK   \n",
       "3  Super built-up  Area  Ready To Move        Lingadheeranahalli      3 BHK   \n",
       "4  Super built-up  Area  Ready To Move                  Kothanur      2 BHK   \n",
       "\n",
       "   society total_sqft  bath  balcony   price  \n",
       "0  Coomee        1056   2.0      1.0   39.07  \n",
       "1  Theanmp       2600   5.0      3.0  120.00  \n",
       "2      NaN       1440   2.0      3.0   62.00  \n",
       "3  Soiewre       1521   3.0      1.0   95.00  \n",
       "4      NaN       1200   2.0      1.0   51.00  "
      ]
     },
     "execution_count": 154,
     "metadata": {},
     "output_type": "execute_result"
    }
   ],
   "source": [
    "df.head()"
   ]
  },
  {
   "cell_type": "code",
   "execution_count": 155,
   "id": "3c505506",
   "metadata": {},
   "outputs": [
    {
     "name": "stdout",
     "output_type": "stream",
     "text": [
      "<class 'pandas.core.frame.DataFrame'>\n",
      "RangeIndex: 13320 entries, 0 to 13319\n",
      "Data columns (total 9 columns):\n",
      " #   Column        Non-Null Count  Dtype  \n",
      "---  ------        --------------  -----  \n",
      " 0   area_type     13320 non-null  object \n",
      " 1   availability  13320 non-null  object \n",
      " 2   location      13319 non-null  object \n",
      " 3   size          13304 non-null  object \n",
      " 4   society       7818 non-null   object \n",
      " 5   total_sqft    13320 non-null  object \n",
      " 6   bath          13247 non-null  float64\n",
      " 7   balcony       12711 non-null  float64\n",
      " 8   price         13320 non-null  float64\n",
      "dtypes: float64(3), object(6)\n",
      "memory usage: 936.7+ KB\n"
     ]
    }
   ],
   "source": [
    "df.info()"
   ]
  },
  {
   "cell_type": "markdown",
   "id": "67d4b3b6",
   "metadata": {},
   "source": [
    "Size and total_sqft are of object type. But, they should be numeric. So, there must be some fishy values. "
   ]
  },
  {
   "cell_type": "markdown",
   "id": "f6615110",
   "metadata": {},
   "source": [
    "# DATA CLEANSING"
   ]
  },
  {
   "cell_type": "code",
   "execution_count": 156,
   "id": "29fba05d",
   "metadata": {},
   "outputs": [
    {
     "data": {
      "text/plain": [
       "array(['2 BHK', '4 Bedroom', '3 BHK', '4 BHK', '6 Bedroom', '3 Bedroom',\n",
       "       '1 BHK', '1 RK', '1 Bedroom', '8 Bedroom', '2 Bedroom',\n",
       "       '7 Bedroom', '5 BHK', '7 BHK', '6 BHK', '5 Bedroom', '11 BHK',\n",
       "       '9 BHK', nan, '9 Bedroom', '27 BHK', '10 Bedroom', '11 Bedroom',\n",
       "       '10 BHK', '19 BHK', '16 BHK', '43 Bedroom', '14 BHK', '8 BHK',\n",
       "       '12 Bedroom', '13 BHK', '18 Bedroom'], dtype=object)"
      ]
     },
     "execution_count": 156,
     "metadata": {},
     "output_type": "execute_result"
    }
   ],
   "source": [
    "df['size'].unique()"
   ]
  },
  {
   "cell_type": "code",
   "execution_count": 157,
   "id": "8a884343",
   "metadata": {},
   "outputs": [
    {
     "data": {
      "text/plain": [
       "'3'"
      ]
     },
     "execution_count": 157,
     "metadata": {},
     "output_type": "execute_result"
    }
   ],
   "source": [
    "df['size'][10].split()[0]"
   ]
  },
  {
   "cell_type": "code",
   "execution_count": 158,
   "id": "b8c3d3af",
   "metadata": {},
   "outputs": [
    {
     "data": {
      "text/plain": [
       "0        2.0\n",
       "1        4.0\n",
       "2        3.0\n",
       "3        3.0\n",
       "4        2.0\n",
       "        ... \n",
       "13315    5.0\n",
       "13316    4.0\n",
       "13317    2.0\n",
       "13318    4.0\n",
       "13319    1.0\n",
       "Name: bhk, Length: 13320, dtype: float64"
      ]
     },
     "execution_count": 158,
     "metadata": {},
     "output_type": "execute_result"
    }
   ],
   "source": [
    "#converting the column 'size' to numeric data type and storing them in new column 'bhk'\n",
    "\n",
    "df['bhk'] = df['size'].apply(lambda x: int(x.split()[0]) if type(x) == str else x)  \n",
    "df['bhk']"
   ]
  },
  {
   "cell_type": "code",
   "execution_count": 159,
   "id": "d5c21ba3",
   "metadata": {},
   "outputs": [
    {
     "data": {
      "text/plain": [
       "array(['1056', '2600', '1440', ..., '1133 - 1384', '774', '4689'],\n",
       "      dtype=object)"
      ]
     },
     "execution_count": 159,
     "metadata": {},
     "output_type": "execute_result"
    }
   ],
   "source": [
    "df['total_sqft'].unique()"
   ]
  },
  {
   "cell_type": "code",
   "execution_count": 160,
   "id": "b490a71a",
   "metadata": {},
   "outputs": [
    {
     "data": {
      "text/plain": [
       "1200          843\n",
       "1100          221\n",
       "1500          205\n",
       "2400          196\n",
       "600           180\n",
       "             ... \n",
       "943 - 1220      1\n",
       "1248.52         1\n",
       "629 - 1026      1\n",
       "3515            1\n",
       "1557            1\n",
       "Name: total_sqft, Length: 2117, dtype: int64"
      ]
     },
     "execution_count": 160,
     "metadata": {},
     "output_type": "execute_result"
    }
   ],
   "source": [
    "df['total_sqft'].value_counts()"
   ]
  },
  {
   "cell_type": "code",
   "execution_count": 161,
   "id": "d96ec0ea",
   "metadata": {},
   "outputs": [
    {
     "name": "stdout",
     "output_type": "stream",
     "text": [
      "could not convert string to float: '2100 - 2850' 2100 - 2850\n",
      "could not convert string to float: '3010 - 3410' 3010 - 3410\n",
      "could not convert string to float: '2957 - 3450' 2957 - 3450\n",
      "could not convert string to float: '3067 - 8156' 3067 - 8156\n",
      "could not convert string to float: '1042 - 1105' 1042 - 1105\n",
      "could not convert string to float: '1145 - 1340' 1145 - 1340\n",
      "could not convert string to float: '1015 - 1540' 1015 - 1540\n",
      "could not convert string to float: '1520 - 1740' 1520 - 1740\n",
      "could not convert string to float: '34.46Sq. Meter' 34.46Sq. Meter\n",
      "could not convert string to float: '1195 - 1440' 1195 - 1440\n",
      "could not convert string to float: '1200 - 2400' 1200 - 2400\n",
      "could not convert string to float: '4125Perch' 4125Perch\n",
      "could not convert string to float: '1120 - 1145' 1120 - 1145\n",
      "could not convert string to float: '4400 - 6640' 4400 - 6640\n",
      "could not convert string to float: '3090 - 5002' 3090 - 5002\n",
      "could not convert string to float: '4400 - 6800' 4400 - 6800\n",
      "could not convert string to float: '1160 - 1195' 1160 - 1195\n",
      "could not convert string to float: '1000Sq. Meter' 1000Sq. Meter\n",
      "could not convert string to float: '4000 - 5249' 4000 - 5249\n",
      "could not convert string to float: '1115 - 1130' 1115 - 1130\n",
      "could not convert string to float: '1100Sq. Yards' 1100Sq. Yards\n",
      "could not convert string to float: '520 - 645' 520 - 645\n",
      "could not convert string to float: '1000 - 1285' 1000 - 1285\n",
      "could not convert string to float: '3606 - 5091' 3606 - 5091\n",
      "could not convert string to float: '650 - 665' 650 - 665\n",
      "could not convert string to float: '633 - 666' 633 - 666\n",
      "could not convert string to float: '5.31Acres' 5.31Acres\n",
      "could not convert string to float: '30Acres' 30Acres\n",
      "could not convert string to float: '1445 - 1455' 1445 - 1455\n",
      "could not convert string to float: '884 - 1116' 884 - 1116\n",
      "could not convert string to float: '850 - 1093' 850 - 1093\n",
      "could not convert string to float: '1440 - 1884' 1440 - 1884\n",
      "could not convert string to float: '716Sq. Meter' 716Sq. Meter\n",
      "could not convert string to float: '547.34 - 827.31' 547.34 - 827.31\n",
      "could not convert string to float: '580 - 650' 580 - 650\n",
      "could not convert string to float: '3425 - 3435' 3425 - 3435\n",
      "could not convert string to float: '1804 - 2273' 1804 - 2273\n",
      "could not convert string to float: '3630 - 3800' 3630 - 3800\n",
      "could not convert string to float: '660 - 670' 660 - 670\n",
      "could not convert string to float: '4000 - 5249' 4000 - 5249\n",
      "could not convert string to float: '1500Sq. Meter' 1500Sq. Meter\n",
      "could not convert string to float: '620 - 933' 620 - 933\n",
      "could not convert string to float: '142.61Sq. Meter' 142.61Sq. Meter\n",
      "could not convert string to float: '2695 - 2940' 2695 - 2940\n",
      "could not convert string to float: '2000 - 5634' 2000 - 5634\n",
      "could not convert string to float: '1574Sq. Yards' 1574Sq. Yards\n",
      "could not convert string to float: '3450 - 3472' 3450 - 3472\n",
      "could not convert string to float: '1250 - 1305' 1250 - 1305\n",
      "could not convert string to float: '670 - 980' 670 - 980\n",
      "could not convert string to float: '1005.03 - 1252.49' 1005.03 - 1252.49\n",
      "could not convert string to float: '3630 - 3800' 3630 - 3800\n",
      "could not convert string to float: '1004 - 1204' 1004 - 1204\n",
      "could not convert string to float: '361.33Sq. Yards' 361.33Sq. Yards\n",
      "could not convert string to float: '645 - 936' 645 - 936\n",
      "could not convert string to float: '2710 - 3360' 2710 - 3360\n",
      "could not convert string to float: '2249.81 - 4112.19' 2249.81 - 4112.19\n",
      "could not convert string to float: '3436 - 3643' 3436 - 3643\n",
      "could not convert string to float: '2830 - 2882' 2830 - 2882\n",
      "could not convert string to float: '596 - 804' 596 - 804\n",
      "could not convert string to float: '1255 - 1863' 1255 - 1863\n",
      "could not convert string to float: '1300 - 1405' 1300 - 1405\n",
      "could not convert string to float: '1200 - 2400' 1200 - 2400\n",
      "could not convert string to float: '1500 - 2400' 1500 - 2400\n",
      "could not convert string to float: '117Sq. Yards' 117Sq. Yards\n",
      "could not convert string to float: '934 - 1437' 934 - 1437\n",
      "could not convert string to float: '980 - 1030' 980 - 1030\n",
      "could not convert string to float: '1564 - 1850' 1564 - 1850\n",
      "could not convert string to float: '1446 - 1506' 1446 - 1506\n",
      "could not convert string to float: '2249.81 - 4112.19' 2249.81 - 4112.19\n",
      "could not convert string to float: '1070 - 1315' 1070 - 1315\n",
      "could not convert string to float: '3040Sq. Meter' 3040Sq. Meter\n",
      "could not convert string to float: '500Sq. Yards' 500Sq. Yards\n",
      "could not convert string to float: '2806 - 3019' 2806 - 3019\n",
      "could not convert string to float: '613 - 648' 613 - 648\n",
      "could not convert string to float: '1430 - 1630' 1430 - 1630\n",
      "could not convert string to float: '704 - 730' 704 - 730\n",
      "could not convert string to float: '1482 - 1846' 1482 - 1846\n",
      "could not convert string to float: '2805 - 3565' 2805 - 3565\n",
      "could not convert string to float: '3293 - 5314' 3293 - 5314\n",
      "could not convert string to float: '1210 - 1477' 1210 - 1477\n",
      "could not convert string to float: '3369 - 3464' 3369 - 3464\n",
      "could not convert string to float: '1125 - 1500' 1125 - 1500\n",
      "could not convert string to float: '167Sq. Meter' 167Sq. Meter\n",
      "could not convert string to float: '1076 - 1199' 1076 - 1199\n",
      "could not convert string to float: '381 - 535' 381 - 535\n",
      "could not convert string to float: '2215 - 2475' 2215 - 2475\n",
      "could not convert string to float: '524 - 894' 524 - 894\n",
      "could not convert string to float: '540 - 670' 540 - 670\n",
      "could not convert string to float: '315Sq. Yards' 315Sq. Yards\n",
      "could not convert string to float: '1650 - 2538' 1650 - 2538\n",
      "could not convert string to float: '2725 - 3250' 2725 - 3250\n",
      "could not convert string to float: '1974 - 2171' 1974 - 2171\n",
      "could not convert string to float: '888 - 1290' 888 - 1290\n",
      "could not convert string to float: '1360 - 1890' 1360 - 1890\n",
      "could not convert string to float: '2466 - 2856' 2466 - 2856\n",
      "could not convert string to float: '660 - 700' 660 - 700\n",
      "could not convert string to float: '385 - 440' 385 - 440\n",
      "could not convert string to float: '2100 - 5405' 2100 - 5405\n",
      "could not convert string to float: '770 - 841' 770 - 841\n",
      "could not convert string to float: '524 - 894' 524 - 894\n",
      "could not convert string to float: '3Cents' 3Cents\n",
      "could not convert string to float: '1310 - 1615' 1310 - 1615\n",
      "could not convert string to float: '1782 - 2000' 1782 - 2000\n",
      "could not convert string to float: '188.89Sq. Yards' 188.89Sq. Yards\n",
      "could not convert string to float: '1469 - 1766' 1469 - 1766\n",
      "could not convert string to float: '204Sq. Meter' 204Sq. Meter\n",
      "could not convert string to float: '1255 - 1350' 1255 - 1350\n",
      "could not convert string to float: '870 - 1080' 870 - 1080\n",
      "could not convert string to float: '45Sq. Yards' 45Sq. Yards\n",
      "could not convert string to float: '133.3Sq. Yards' 133.3Sq. Yards\n",
      "could not convert string to float: '2580 - 2591' 2580 - 2591\n",
      "could not convert string to float: '613 - 648' 613 - 648\n",
      "could not convert string to float: '2563 - 2733' 2563 - 2733\n",
      "could not convert string to float: '605 - 624' 605 - 624\n",
      "could not convert string to float: '4260 - 4408' 4260 - 4408\n",
      "could not convert string to float: '1349 - 3324' 1349 - 3324\n",
      "could not convert string to float: '78.03Sq. Meter' 78.03Sq. Meter\n",
      "could not convert string to float: '1255 - 1350' 1255 - 1350\n",
      "could not convert string to float: '3300 - 3335' 3300 - 3335\n",
      "could not convert string to float: '1180 - 1630' 1180 - 1630\n",
      "could not convert string to float: '1365 - 1700' 1365 - 1700\n",
      "could not convert string to float: '3500 - 3600' 3500 - 3600\n",
      "could not convert string to float: '122Sq. Yards' 122Sq. Yards\n",
      "could not convert string to float: '2830 - 2882' 2830 - 2882\n",
      "could not convert string to float: '84.53Sq. Meter' 84.53Sq. Meter\n",
      "could not convert string to float: '2.09Acres' 2.09Acres\n",
      "could not convert string to float: '2830 - 2882' 2830 - 2882\n",
      "could not convert string to float: '1482 - 1684' 1482 - 1684\n",
      "could not convert string to float: '981 - 1249' 981 - 1249\n",
      "could not convert string to float: '1100 - 1225' 1100 - 1225\n",
      "could not convert string to float: '1565 - 1595' 1565 - 1595\n",
      "could not convert string to float: '24Guntha' 24Guntha\n",
      "could not convert string to float: '1270 - 1275' 1270 - 1275\n",
      "could not convert string to float: '840 - 1010' 840 - 1010\n",
      "could not convert string to float: '697Sq. Meter' 697Sq. Meter\n",
      "could not convert string to float: '2830 - 2882' 2830 - 2882\n",
      "could not convert string to float: '655 - 742' 655 - 742\n",
      "could not convert string to float: '800 - 2660' 800 - 2660\n",
      "could not convert string to float: '1408 - 1455' 1408 - 1455\n",
      "could not convert string to float: '4050 - 4075' 4050 - 4075\n",
      "could not convert string to float: '942 - 1117' 942 - 1117\n",
      "could not convert string to float: '1750 - 2640' 1750 - 2640\n",
      "could not convert string to float: '142.61Sq. Meter' 142.61Sq. Meter\n",
      "could not convert string to float: '1390 - 1600' 1390 - 1600\n",
      "could not convert string to float: '598 - 958' 598 - 958\n",
      "could not convert string to float: '1500Cents' 1500Cents\n",
      "could not convert string to float: '132Sq. Yards' 132Sq. Yards\n",
      "could not convert string to float: '1010 - 1300' 1010 - 1300\n",
      "could not convert string to float: '2Acres' 2Acres\n",
      "could not convert string to float: '3103 - 3890' 3103 - 3890\n",
      "could not convert string to float: '1450 - 1950' 1450 - 1950\n",
      "could not convert string to float: '1100Sq. Meter' 1100Sq. Meter\n",
      "could not convert string to float: '15Acres' 15Acres\n",
      "could not convert string to float: '1450 - 1595' 1450 - 1595\n",
      "could not convert string to float: '763 - 805' 763 - 805\n",
      "could not convert string to float: '3307 - 3464' 3307 - 3464\n",
      "could not convert string to float: '1.26Acres' 1.26Acres\n",
      "could not convert string to float: '620 - 934' 620 - 934\n",
      "could not convert string to float: '2462 - 2467' 2462 - 2467\n",
      "could not convert string to float: '540 - 740' 540 - 740\n",
      "could not convert string to float: '1618 - 1929' 1618 - 1929\n",
      "could not convert string to float: '3508 - 4201' 3508 - 4201\n",
      "could not convert string to float: '2249.81 - 4112.19' 2249.81 - 4112.19\n",
      "could not convert string to float: '4900 - 4940' 4900 - 4940\n",
      "could not convert string to float: '1610 - 1880' 1610 - 1880\n",
      "could not convert string to float: '755 - 770' 755 - 770\n",
      "could not convert string to float: '664 - 722' 664 - 722\n",
      "could not convert string to float: '151.11Sq. Yards' 151.11Sq. Yards\n",
      "could not convert string to float: '700 - 900' 700 - 900\n",
      "could not convert string to float: '596 - 861' 596 - 861\n",
      "could not convert string to float: '1925 - 2680' 1925 - 2680\n",
      "could not convert string to float: '615 - 985' 615 - 985\n",
      "could not convert string to float: '1200 - 2400' 1200 - 2400\n",
      "could not convert string to float: '540 - 565' 540 - 565\n",
      "could not convert string to float: '1390 - 1600' 1390 - 1600\n",
      "could not convert string to float: '750 - 800' 750 - 800\n",
      "could not convert string to float: '1660 - 1805' 1660 - 1805\n",
      "could not convert string to float: '1365 - 1700' 1365 - 1700\n",
      "could not convert string to float: '1410 - 1710' 1410 - 1710\n",
      "could not convert string to float: '1079 - 1183' 1079 - 1183\n",
      "could not convert string to float: '2800 - 2870' 2800 - 2870\n",
      "could not convert string to float: '1230 - 1290' 1230 - 1290\n",
      "could not convert string to float: '943 - 1220' 943 - 1220\n",
      "could not convert string to float: '2041 - 2090' 2041 - 2090\n",
      "could not convert string to float: '527 - 639' 527 - 639\n",
      "could not convert string to float: '645 - 936' 645 - 936\n",
      "could not convert string to float: '1Grounds' 1Grounds\n",
      "could not convert string to float: '1160 - 1315' 1160 - 1315\n",
      "could not convert string to float: '706 - 716' 706 - 716\n",
      "could not convert string to float: '2940Sq. Yards' 2940Sq. Yards\n",
      "could not convert string to float: '1791 - 4000' 1791 - 4000\n",
      "could not convert string to float: '45.06Sq. Meter' 45.06Sq. Meter\n",
      "could not convert string to float: '799 - 803' 799 - 803\n",
      "could not convert string to float: '2470 - 2790' 2470 - 2790\n",
      "could not convert string to float: '783 - 943' 783 - 943\n",
      "could not convert string to float: '4500 - 5540' 4500 - 5540\n",
      "could not convert string to float: '1255 - 1375' 1255 - 1375\n",
      "could not convert string to float: '1430 - 1630' 1430 - 1630\n",
      "could not convert string to float: '610 - 615' 610 - 615\n",
      "could not convert string to float: '854 - 960' 854 - 960\n",
      "could not convert string to float: '2650 - 2990' 2650 - 2990\n",
      "could not convert string to float: '1.25Acres' 1.25Acres\n",
      "could not convert string to float: '86.72Sq. Meter' 86.72Sq. Meter\n",
      "could not convert string to float: '381 - 535' 381 - 535\n",
      "could not convert string to float: '1230 - 1490' 1230 - 1490\n",
      "could not convert string to float: '3630 - 3800' 3630 - 3800\n",
      "could not convert string to float: '660 - 780' 660 - 780\n",
      "could not convert string to float: '1618 - 1929' 1618 - 1929\n",
      "could not convert string to float: '1150 - 1194' 1150 - 1194\n",
      "could not convert string to float: '684 - 810' 684 - 810\n",
      "could not convert string to float: '1200 - 1800' 1200 - 1800\n",
      "could not convert string to float: '1510 - 1670' 1510 - 1670\n",
      "could not convert string to float: '1550 - 1590' 1550 - 1590\n",
      "could not convert string to float: '1235 - 1410' 1235 - 1410\n",
      "could not convert string to float: '3484 - 3550' 3484 - 3550\n",
      "could not convert string to float: '38Guntha' 38Guntha\n",
      "could not convert string to float: '929 - 1078' 929 - 1078\n",
      "could not convert string to float: '2150 - 2225' 2150 - 2225\n",
      "could not convert string to float: '1520 - 1759' 1520 - 1759\n",
      "could not convert string to float: '2580 - 2591' 2580 - 2591\n",
      "could not convert string to float: '629 - 1026' 629 - 1026\n",
      "could not convert string to float: '1215 - 1495' 1215 - 1495\n",
      "could not convert string to float: '6Acres' 6Acres\n",
      "could not convert string to float: '1140 - 1250' 1140 - 1250\n",
      "could not convert string to float: '2400 - 2600' 2400 - 2600\n",
      "could not convert string to float: '1052 - 1322' 1052 - 1322\n",
      "could not convert string to float: '5666 - 5669' 5666 - 5669\n",
      "could not convert string to float: '620 - 934' 620 - 934\n",
      "could not convert string to float: '712 - 938' 712 - 938\n",
      "could not convert string to float: '1783 - 1878' 1783 - 1878\n",
      "could not convert string to float: '120Sq. Yards' 120Sq. Yards\n",
      "could not convert string to float: '24Sq. Meter' 24Sq. Meter\n",
      "could not convert string to float: '2528 - 3188' 2528 - 3188\n",
      "could not convert string to float: '650 - 760' 650 - 760\n",
      "could not convert string to float: '1400 - 1421' 1400 - 1421\n",
      "could not convert string to float: '4000 - 4450' 4000 - 4450\n",
      "could not convert string to float: '142.84Sq. Meter' 142.84Sq. Meter\n",
      "could not convert string to float: '300Sq. Yards' 300Sq. Yards\n",
      "could not convert string to float: '1115 - 1130' 1115 - 1130\n",
      "could not convert string to float: '2204 - 2362' 2204 - 2362\n",
      "could not convert string to float: '1437 - 1629' 1437 - 1629\n",
      "could not convert string to float: '850 - 1060' 850 - 1060\n",
      "could not convert string to float: '1804 - 2273' 1804 - 2273\n",
      "could not convert string to float: '1200 - 1470' 1200 - 1470\n",
      "could not convert string to float: '1020 - 1130' 1020 - 1130\n",
      "could not convert string to float: '1133 - 1384' 1133 - 1384\n",
      "could not convert string to float: '2830 - 2882' 2830 - 2882\n"
     ]
    }
   ],
   "source": [
    "# finding out the fishy values\n",
    "\n",
    "for i in df['total_sqft']:\n",
    "    try:\n",
    "        if type(float(i)) == float:\n",
    "            pass\n",
    "    except Exception as e:\n",
    "            print(e, i)"
   ]
  },
  {
   "cell_type": "markdown",
   "id": "a96e9723",
   "metadata": {},
   "source": [
    "Some values are of different units and some values have a range instead of one single numeric value. "
   ]
  },
  {
   "cell_type": "code",
   "execution_count": 162,
   "id": "55600cb1",
   "metadata": {},
   "outputs": [
    {
     "data": {
      "text/plain": [
       "['2100 ', ' 2850']"
      ]
     },
     "execution_count": 162,
     "metadata": {},
     "output_type": "execute_result"
    }
   ],
   "source": [
    "df[\"total_sqft\"][30].split(\"-\")"
   ]
  },
  {
   "cell_type": "code",
   "execution_count": 163,
   "id": "64207ebe",
   "metadata": {},
   "outputs": [
    {
     "name": "stdout",
     "output_type": "stream",
     "text": [
      "could not convert string to float: '2100 - 2850'\n",
      "could not convert string to float: '3010 - 3410'\n",
      "could not convert string to float: '2957 - 3450'\n",
      "could not convert string to float: '3067 - 8156'\n",
      "could not convert string to float: '1042 - 1105'\n",
      "could not convert string to float: '1145 - 1340'\n",
      "could not convert string to float: '1015 - 1540'\n",
      "could not convert string to float: '1520 - 1740'\n",
      "could not convert string to float: '34.46Sq. Meter'\n",
      "could not convert string to float: '1195 - 1440'\n",
      "could not convert string to float: '1200 - 2400'\n",
      "could not convert string to float: '4125Perch'\n",
      "could not convert string to float: '1120 - 1145'\n",
      "could not convert string to float: '4400 - 6640'\n",
      "could not convert string to float: '3090 - 5002'\n",
      "could not convert string to float: '4400 - 6800'\n",
      "could not convert string to float: '1160 - 1195'\n",
      "could not convert string to float: '1000Sq. Meter'\n",
      "could not convert string to float: '4000 - 5249'\n",
      "could not convert string to float: '1115 - 1130'\n",
      "could not convert string to float: '1100Sq. Yards'\n",
      "could not convert string to float: '520 - 645'\n",
      "could not convert string to float: '1000 - 1285'\n",
      "could not convert string to float: '3606 - 5091'\n",
      "could not convert string to float: '650 - 665'\n",
      "could not convert string to float: '633 - 666'\n",
      "could not convert string to float: '5.31Acres'\n",
      "could not convert string to float: '30Acres'\n",
      "could not convert string to float: '1445 - 1455'\n",
      "could not convert string to float: '884 - 1116'\n",
      "could not convert string to float: '850 - 1093'\n",
      "could not convert string to float: '1440 - 1884'\n",
      "could not convert string to float: '716Sq. Meter'\n",
      "could not convert string to float: '547.34 - 827.31'\n",
      "could not convert string to float: '580 - 650'\n",
      "could not convert string to float: '3425 - 3435'\n",
      "could not convert string to float: '1804 - 2273'\n",
      "could not convert string to float: '3630 - 3800'\n",
      "could not convert string to float: '660 - 670'\n",
      "could not convert string to float: '1500Sq. Meter'\n",
      "could not convert string to float: '620 - 933'\n",
      "could not convert string to float: '142.61Sq. Meter'\n",
      "could not convert string to float: '2695 - 2940'\n",
      "could not convert string to float: '2000 - 5634'\n",
      "could not convert string to float: '1574Sq. Yards'\n",
      "could not convert string to float: '3450 - 3472'\n",
      "could not convert string to float: '1250 - 1305'\n",
      "could not convert string to float: '670 - 980'\n",
      "could not convert string to float: '1005.03 - 1252.49'\n",
      "could not convert string to float: '1004 - 1204'\n",
      "could not convert string to float: '361.33Sq. Yards'\n",
      "could not convert string to float: '645 - 936'\n",
      "could not convert string to float: '2710 - 3360'\n",
      "could not convert string to float: '2249.81 - 4112.19'\n",
      "could not convert string to float: '3436 - 3643'\n",
      "could not convert string to float: '2830 - 2882'\n",
      "could not convert string to float: '596 - 804'\n",
      "could not convert string to float: '1255 - 1863'\n",
      "could not convert string to float: '1300 - 1405'\n",
      "could not convert string to float: '1500 - 2400'\n",
      "could not convert string to float: '117Sq. Yards'\n",
      "could not convert string to float: '934 - 1437'\n",
      "could not convert string to float: '980 - 1030'\n",
      "could not convert string to float: '1564 - 1850'\n",
      "could not convert string to float: '1446 - 1506'\n",
      "could not convert string to float: '1070 - 1315'\n",
      "could not convert string to float: '3040Sq. Meter'\n",
      "could not convert string to float: '500Sq. Yards'\n",
      "could not convert string to float: '2806 - 3019'\n",
      "could not convert string to float: '613 - 648'\n",
      "could not convert string to float: '1430 - 1630'\n",
      "could not convert string to float: '704 - 730'\n",
      "could not convert string to float: '1482 - 1846'\n",
      "could not convert string to float: '2805 - 3565'\n",
      "could not convert string to float: '3293 - 5314'\n",
      "could not convert string to float: '1210 - 1477'\n",
      "could not convert string to float: '3369 - 3464'\n",
      "could not convert string to float: '1125 - 1500'\n",
      "could not convert string to float: '167Sq. Meter'\n",
      "could not convert string to float: '1076 - 1199'\n",
      "could not convert string to float: '381 - 535'\n",
      "could not convert string to float: '2215 - 2475'\n",
      "could not convert string to float: '524 - 894'\n",
      "could not convert string to float: '540 - 670'\n",
      "could not convert string to float: '315Sq. Yards'\n",
      "could not convert string to float: '1650 - 2538'\n",
      "could not convert string to float: '2725 - 3250'\n",
      "could not convert string to float: '1974 - 2171'\n",
      "could not convert string to float: '888 - 1290'\n",
      "could not convert string to float: '1360 - 1890'\n",
      "could not convert string to float: '2466 - 2856'\n",
      "could not convert string to float: '660 - 700'\n",
      "could not convert string to float: '385 - 440'\n",
      "could not convert string to float: '2100 - 5405'\n",
      "could not convert string to float: '770 - 841'\n",
      "could not convert string to float: '3Cents'\n",
      "could not convert string to float: '1310 - 1615'\n",
      "could not convert string to float: '1782 - 2000'\n",
      "could not convert string to float: '188.89Sq. Yards'\n",
      "could not convert string to float: '1469 - 1766'\n",
      "could not convert string to float: '204Sq. Meter'\n",
      "could not convert string to float: '1255 - 1350'\n",
      "could not convert string to float: '870 - 1080'\n",
      "could not convert string to float: '45Sq. Yards'\n",
      "could not convert string to float: '133.3Sq. Yards'\n",
      "could not convert string to float: '2580 - 2591'\n",
      "could not convert string to float: '2563 - 2733'\n",
      "could not convert string to float: '605 - 624'\n",
      "could not convert string to float: '4260 - 4408'\n",
      "could not convert string to float: '1349 - 3324'\n",
      "could not convert string to float: '78.03Sq. Meter'\n",
      "could not convert string to float: '3300 - 3335'\n",
      "could not convert string to float: '1180 - 1630'\n",
      "could not convert string to float: '1365 - 1700'\n",
      "could not convert string to float: '3500 - 3600'\n",
      "could not convert string to float: '122Sq. Yards'\n",
      "could not convert string to float: '84.53Sq. Meter'\n",
      "could not convert string to float: '2.09Acres'\n",
      "could not convert string to float: '1482 - 1684'\n",
      "could not convert string to float: '981 - 1249'\n",
      "could not convert string to float: '1100 - 1225'\n",
      "could not convert string to float: '1565 - 1595'\n",
      "could not convert string to float: '24Guntha'\n",
      "could not convert string to float: '1270 - 1275'\n",
      "could not convert string to float: '840 - 1010'\n",
      "could not convert string to float: '697Sq. Meter'\n",
      "could not convert string to float: '655 - 742'\n",
      "could not convert string to float: '800 - 2660'\n",
      "could not convert string to float: '1408 - 1455'\n",
      "could not convert string to float: '4050 - 4075'\n",
      "could not convert string to float: '942 - 1117'\n",
      "could not convert string to float: '1750 - 2640'\n",
      "could not convert string to float: '1390 - 1600'\n",
      "could not convert string to float: '598 - 958'\n",
      "could not convert string to float: '1500Cents'\n",
      "could not convert string to float: '132Sq. Yards'\n",
      "could not convert string to float: '1010 - 1300'\n",
      "could not convert string to float: '2Acres'\n",
      "could not convert string to float: '3103 - 3890'\n",
      "could not convert string to float: '1450 - 1950'\n",
      "could not convert string to float: '1100Sq. Meter'\n",
      "could not convert string to float: '15Acres'\n",
      "could not convert string to float: '1450 - 1595'\n",
      "could not convert string to float: '763 - 805'\n",
      "could not convert string to float: '3307 - 3464'\n",
      "could not convert string to float: '1.26Acres'\n",
      "could not convert string to float: '620 - 934'\n",
      "could not convert string to float: '2462 - 2467'\n",
      "could not convert string to float: '540 - 740'\n",
      "could not convert string to float: '1618 - 1929'\n",
      "could not convert string to float: '3508 - 4201'\n",
      "could not convert string to float: '4900 - 4940'\n",
      "could not convert string to float: '1610 - 1880'\n",
      "could not convert string to float: '755 - 770'\n",
      "could not convert string to float: '664 - 722'\n",
      "could not convert string to float: '151.11Sq. Yards'\n",
      "could not convert string to float: '700 - 900'\n",
      "could not convert string to float: '596 - 861'\n",
      "could not convert string to float: '1925 - 2680'\n",
      "could not convert string to float: '615 - 985'\n",
      "could not convert string to float: '540 - 565'\n",
      "could not convert string to float: '750 - 800'\n",
      "could not convert string to float: '1660 - 1805'\n",
      "could not convert string to float: '1410 - 1710'\n",
      "could not convert string to float: '1079 - 1183'\n",
      "could not convert string to float: '2800 - 2870'\n",
      "could not convert string to float: '1230 - 1290'\n",
      "could not convert string to float: '943 - 1220'\n",
      "could not convert string to float: '2041 - 2090'\n",
      "could not convert string to float: '527 - 639'\n",
      "could not convert string to float: '1Grounds'\n",
      "could not convert string to float: '1160 - 1315'\n",
      "could not convert string to float: '706 - 716'\n",
      "could not convert string to float: '2940Sq. Yards'\n",
      "could not convert string to float: '1791 - 4000'\n",
      "could not convert string to float: '45.06Sq. Meter'\n",
      "could not convert string to float: '799 - 803'\n",
      "could not convert string to float: '2470 - 2790'\n",
      "could not convert string to float: '783 - 943'\n",
      "could not convert string to float: '4500 - 5540'\n",
      "could not convert string to float: '1255 - 1375'\n",
      "could not convert string to float: '610 - 615'\n",
      "could not convert string to float: '854 - 960'\n",
      "could not convert string to float: '2650 - 2990'\n",
      "could not convert string to float: '1.25Acres'\n",
      "could not convert string to float: '86.72Sq. Meter'\n",
      "could not convert string to float: '1230 - 1490'\n",
      "could not convert string to float: '660 - 780'\n",
      "could not convert string to float: '1150 - 1194'\n",
      "could not convert string to float: '684 - 810'\n",
      "could not convert string to float: '1200 - 1800'\n",
      "could not convert string to float: '1510 - 1670'\n",
      "could not convert string to float: '1550 - 1590'\n",
      "could not convert string to float: '1235 - 1410'\n",
      "could not convert string to float: '3484 - 3550'\n",
      "could not convert string to float: '38Guntha'\n",
      "could not convert string to float: '929 - 1078'\n",
      "could not convert string to float: '2150 - 2225'\n",
      "could not convert string to float: '1520 - 1759'\n",
      "could not convert string to float: '629 - 1026'\n",
      "could not convert string to float: '1215 - 1495'\n",
      "could not convert string to float: '6Acres'\n",
      "could not convert string to float: '1140 - 1250'\n",
      "could not convert string to float: '2400 - 2600'\n",
      "could not convert string to float: '1052 - 1322'\n",
      "could not convert string to float: '5666 - 5669'\n",
      "could not convert string to float: '712 - 938'\n",
      "could not convert string to float: '1783 - 1878'\n",
      "could not convert string to float: '120Sq. Yards'\n",
      "could not convert string to float: '24Sq. Meter'\n",
      "could not convert string to float: '2528 - 3188'\n",
      "could not convert string to float: '650 - 760'\n",
      "could not convert string to float: '1400 - 1421'\n",
      "could not convert string to float: '4000 - 4450'\n",
      "could not convert string to float: '142.84Sq. Meter'\n",
      "could not convert string to float: '300Sq. Yards'\n",
      "could not convert string to float: '2204 - 2362'\n",
      "could not convert string to float: '1437 - 1629'\n",
      "could not convert string to float: '850 - 1060'\n",
      "could not convert string to float: '1200 - 1470'\n",
      "could not convert string to float: '1020 - 1130'\n",
      "could not convert string to float: '1133 - 1384'\n"
     ]
    }
   ],
   "source": [
    "for i, j in enumerate(df[\"total_sqft\"].unique()):\n",
    "    try:\n",
    "        if type(float(j)) == float:\n",
    "            pass\n",
    "    except Exception as e:\n",
    "        print(e)"
   ]
  },
  {
   "cell_type": "code",
   "execution_count": 164,
   "id": "91176705",
   "metadata": {},
   "outputs": [
    {
     "data": {
      "text/plain": [
       "10000.0"
      ]
     },
     "execution_count": 164,
     "metadata": {},
     "output_type": "execute_result"
    }
   ],
   "source": [
    "a = \"1000Sq. Meter\"\n",
    "\n",
    "float((a.replace(\"Sq. Meter\", \"\"))) * 10"
   ]
  },
  {
   "cell_type": "code",
   "execution_count": 165,
   "id": "dc93619d",
   "metadata": {},
   "outputs": [],
   "source": [
    "for i, j in enumerate(df[\"total_sqft\"]):   # i = indexes; j = values\n",
    "    \n",
    "    try:\n",
    "        if type(float(j)) == float:\n",
    "            df[\"total_sqft\"][i] = float(j)  \n",
    "    \n",
    "    except:     #converting all the units to square fit\n",
    "        if \"-\" in j:\n",
    "            df[\"total_sqft\"][i] = j.split(\"-\")     # stores it in a list\n",
    "        elif \"Sq. Meter\" in j :\n",
    "            df[\"total_sqft\"][i] = float(j.replace(\"Sq. Meter\", \"\")) * 10\n",
    "        elif \"Sq. Yards\" in j :\n",
    "            df[\"total_sqft\"][i] = float(j.replace(\"Sq. Yards\", \"\")) * 9\n",
    "        elif 'Acres' in j:\n",
    "            df['total_sqft'][i] = float(j.replace('Acres', \"\")) * 47500\n",
    "        elif 'Guntha' in j:\n",
    "            df['total_sqft'][i] = float(j.replace('Guntha', \"\")) * 1089\n",
    "        else :\n",
    "            df[\"total_sqft\"][i] = np.nan\n",
    "            \n",
    "else:\n",
    "    for i, j in enumerate(df[\"total_sqft\"]):\n",
    "        if type(j) == float:\n",
    "                continue\n",
    "        elif type(j) == list:\n",
    "            df[\"total_sqft\"][i] = (float(j[0]) + float(j[1])) / 2"
   ]
  },
  {
   "cell_type": "code",
   "execution_count": 166,
   "id": "4208d995",
   "metadata": {},
   "outputs": [
    {
     "data": {
      "text/plain": [
       "1200.00    843\n",
       "1100.00    221\n",
       "1500.00    206\n",
       "2400.00    196\n",
       "600.00     180\n",
       "          ... \n",
       "1234.60      1\n",
       "1731.00      1\n",
       "1733.00      1\n",
       "1734.00      1\n",
       "1452.19      1\n",
       "Name: total_sqft, Length: 2027, dtype: int64"
      ]
     },
     "execution_count": 166,
     "metadata": {},
     "output_type": "execute_result"
    }
   ],
   "source": [
    "df[\"total_sqft\"].value_counts()"
   ]
  },
  {
   "cell_type": "code",
   "execution_count": 167,
   "id": "d2509e91",
   "metadata": {},
   "outputs": [
    {
     "data": {
      "text/plain": [
       "array(['Super built-up  Area', 'Plot  Area', 'Built-up  Area',\n",
       "       'Carpet  Area'], dtype=object)"
      ]
     },
     "execution_count": 167,
     "metadata": {},
     "output_type": "execute_result"
    }
   ],
   "source": [
    "df['area_type'].unique()"
   ]
  },
  {
   "cell_type": "code",
   "execution_count": 168,
   "id": "97c15ac5",
   "metadata": {},
   "outputs": [
    {
     "data": {
      "text/html": [
       "<div>\n",
       "<style scoped>\n",
       "    .dataframe tbody tr th:only-of-type {\n",
       "        vertical-align: middle;\n",
       "    }\n",
       "\n",
       "    .dataframe tbody tr th {\n",
       "        vertical-align: top;\n",
       "    }\n",
       "\n",
       "    .dataframe thead th {\n",
       "        text-align: right;\n",
       "    }\n",
       "</style>\n",
       "<table border=\"1\" class=\"dataframe\">\n",
       "  <thead>\n",
       "    <tr style=\"text-align: right;\">\n",
       "      <th></th>\n",
       "      <th>area_type</th>\n",
       "      <th>availability</th>\n",
       "      <th>location</th>\n",
       "      <th>size</th>\n",
       "      <th>society</th>\n",
       "      <th>total_sqft</th>\n",
       "      <th>bath</th>\n",
       "      <th>balcony</th>\n",
       "      <th>price</th>\n",
       "      <th>bhk</th>\n",
       "    </tr>\n",
       "  </thead>\n",
       "  <tbody>\n",
       "    <tr>\n",
       "      <th>1</th>\n",
       "      <td>Plot  Area</td>\n",
       "      <td>Ready To Move</td>\n",
       "      <td>Chikka Tirupathi</td>\n",
       "      <td>4 Bedroom</td>\n",
       "      <td>Theanmp</td>\n",
       "      <td>2600.0</td>\n",
       "      <td>5.0</td>\n",
       "      <td>3.0</td>\n",
       "      <td>120.0</td>\n",
       "      <td>4.0</td>\n",
       "    </tr>\n",
       "    <tr>\n",
       "      <th>9</th>\n",
       "      <td>Plot  Area</td>\n",
       "      <td>Ready To Move</td>\n",
       "      <td>Gandhi Bazar</td>\n",
       "      <td>6 Bedroom</td>\n",
       "      <td>NaN</td>\n",
       "      <td>1020.0</td>\n",
       "      <td>6.0</td>\n",
       "      <td>NaN</td>\n",
       "      <td>370.0</td>\n",
       "      <td>6.0</td>\n",
       "    </tr>\n",
       "    <tr>\n",
       "      <th>11</th>\n",
       "      <td>Plot  Area</td>\n",
       "      <td>Ready To Move</td>\n",
       "      <td>Whitefield</td>\n",
       "      <td>4 Bedroom</td>\n",
       "      <td>Prrry M</td>\n",
       "      <td>2785.0</td>\n",
       "      <td>5.0</td>\n",
       "      <td>3.0</td>\n",
       "      <td>295.0</td>\n",
       "      <td>4.0</td>\n",
       "    </tr>\n",
       "    <tr>\n",
       "      <th>14</th>\n",
       "      <td>Plot  Area</td>\n",
       "      <td>Ready To Move</td>\n",
       "      <td>Sarjapur</td>\n",
       "      <td>3 Bedroom</td>\n",
       "      <td>Skityer</td>\n",
       "      <td>2250.0</td>\n",
       "      <td>3.0</td>\n",
       "      <td>2.0</td>\n",
       "      <td>148.0</td>\n",
       "      <td>3.0</td>\n",
       "    </tr>\n",
       "    <tr>\n",
       "      <th>22</th>\n",
       "      <td>Plot  Area</td>\n",
       "      <td>Ready To Move</td>\n",
       "      <td>Thanisandra</td>\n",
       "      <td>4 Bedroom</td>\n",
       "      <td>Soitya</td>\n",
       "      <td>2800.0</td>\n",
       "      <td>5.0</td>\n",
       "      <td>2.0</td>\n",
       "      <td>380.0</td>\n",
       "      <td>4.0</td>\n",
       "    </tr>\n",
       "    <tr>\n",
       "      <th>43</th>\n",
       "      <td>Plot  Area</td>\n",
       "      <td>Ready To Move</td>\n",
       "      <td>Yelahanka</td>\n",
       "      <td>1 Bedroom</td>\n",
       "      <td>NaN</td>\n",
       "      <td>660.0</td>\n",
       "      <td>1.0</td>\n",
       "      <td>0.0</td>\n",
       "      <td>48.0</td>\n",
       "      <td>1.0</td>\n",
       "    </tr>\n",
       "    <tr>\n",
       "      <th>45</th>\n",
       "      <td>Plot  Area</td>\n",
       "      <td>Ready To Move</td>\n",
       "      <td>HSR Layout</td>\n",
       "      <td>8 Bedroom</td>\n",
       "      <td>NaN</td>\n",
       "      <td>600.0</td>\n",
       "      <td>9.0</td>\n",
       "      <td>NaN</td>\n",
       "      <td>200.0</td>\n",
       "      <td>8.0</td>\n",
       "    </tr>\n",
       "    <tr>\n",
       "      <th>48</th>\n",
       "      <td>Plot  Area</td>\n",
       "      <td>Ready To Move</td>\n",
       "      <td>KR Puram</td>\n",
       "      <td>2 Bedroom</td>\n",
       "      <td>NaN</td>\n",
       "      <td>800.0</td>\n",
       "      <td>1.0</td>\n",
       "      <td>1.0</td>\n",
       "      <td>130.0</td>\n",
       "      <td>2.0</td>\n",
       "    </tr>\n",
       "    <tr>\n",
       "      <th>58</th>\n",
       "      <td>Plot  Area</td>\n",
       "      <td>Ready To Move</td>\n",
       "      <td>Murugeshpalya</td>\n",
       "      <td>6 Bedroom</td>\n",
       "      <td>NaN</td>\n",
       "      <td>1407.0</td>\n",
       "      <td>4.0</td>\n",
       "      <td>1.0</td>\n",
       "      <td>150.0</td>\n",
       "      <td>6.0</td>\n",
       "    </tr>\n",
       "    <tr>\n",
       "      <th>60</th>\n",
       "      <td>Plot  Area</td>\n",
       "      <td>Ready To Move</td>\n",
       "      <td>Tharabanahalli</td>\n",
       "      <td>3 Bedroom</td>\n",
       "      <td>NaN</td>\n",
       "      <td>4395.0</td>\n",
       "      <td>3.0</td>\n",
       "      <td>2.0</td>\n",
       "      <td>240.0</td>\n",
       "      <td>3.0</td>\n",
       "    </tr>\n",
       "  </tbody>\n",
       "</table>\n",
       "</div>"
      ],
      "text/plain": [
       "     area_type   availability          location       size  society  \\\n",
       "1   Plot  Area  Ready To Move  Chikka Tirupathi  4 Bedroom  Theanmp   \n",
       "9   Plot  Area  Ready To Move      Gandhi Bazar  6 Bedroom      NaN   \n",
       "11  Plot  Area  Ready To Move        Whitefield  4 Bedroom  Prrry M   \n",
       "14  Plot  Area  Ready To Move          Sarjapur  3 Bedroom  Skityer   \n",
       "22  Plot  Area  Ready To Move       Thanisandra  4 Bedroom  Soitya    \n",
       "43  Plot  Area  Ready To Move         Yelahanka  1 Bedroom      NaN   \n",
       "45  Plot  Area  Ready To Move        HSR Layout  8 Bedroom      NaN   \n",
       "48  Plot  Area  Ready To Move          KR Puram  2 Bedroom      NaN   \n",
       "58  Plot  Area  Ready To Move     Murugeshpalya  6 Bedroom      NaN   \n",
       "60  Plot  Area  Ready To Move    Tharabanahalli  3 Bedroom      NaN   \n",
       "\n",
       "   total_sqft  bath  balcony  price  bhk  \n",
       "1      2600.0   5.0      3.0  120.0  4.0  \n",
       "9      1020.0   6.0      NaN  370.0  6.0  \n",
       "11     2785.0   5.0      3.0  295.0  4.0  \n",
       "14     2250.0   3.0      2.0  148.0  3.0  \n",
       "22     2800.0   5.0      2.0  380.0  4.0  \n",
       "43      660.0   1.0      0.0   48.0  1.0  \n",
       "45      600.0   9.0      NaN  200.0  8.0  \n",
       "48      800.0   1.0      1.0  130.0  2.0  \n",
       "58     1407.0   4.0      1.0  150.0  6.0  \n",
       "60     4395.0   3.0      2.0  240.0  3.0  "
      ]
     },
     "execution_count": 168,
     "metadata": {},
     "output_type": "execute_result"
    }
   ],
   "source": [
    "plot = df.loc[df['area_type'] == 'Plot  Area']\n",
    "plot.head(10)"
   ]
  },
  {
   "cell_type": "code",
   "execution_count": 169,
   "id": "df12f025",
   "metadata": {},
   "outputs": [
    {
     "data": {
      "text/plain": [
       "(2025, 10)"
      ]
     },
     "execution_count": 169,
     "metadata": {},
     "output_type": "execute_result"
    }
   ],
   "source": [
    "plot.shape"
   ]
  },
  {
   "cell_type": "code",
   "execution_count": 170,
   "id": "1a4b5978",
   "metadata": {},
   "outputs": [
    {
     "data": {
      "text/html": [
       "<div>\n",
       "<style scoped>\n",
       "    .dataframe tbody tr th:only-of-type {\n",
       "        vertical-align: middle;\n",
       "    }\n",
       "\n",
       "    .dataframe tbody tr th {\n",
       "        vertical-align: top;\n",
       "    }\n",
       "\n",
       "    .dataframe thead th {\n",
       "        text-align: right;\n",
       "    }\n",
       "</style>\n",
       "<table border=\"1\" class=\"dataframe\">\n",
       "  <thead>\n",
       "    <tr style=\"text-align: right;\">\n",
       "      <th></th>\n",
       "      <th>area_type</th>\n",
       "      <th>availability</th>\n",
       "      <th>location</th>\n",
       "      <th>size</th>\n",
       "      <th>society</th>\n",
       "      <th>total_sqft</th>\n",
       "      <th>bath</th>\n",
       "      <th>balcony</th>\n",
       "      <th>price</th>\n",
       "      <th>bhk</th>\n",
       "    </tr>\n",
       "  </thead>\n",
       "  <tbody>\n",
       "    <tr>\n",
       "      <th>0</th>\n",
       "      <td>Super built-up  Area</td>\n",
       "      <td>19-Dec</td>\n",
       "      <td>Electronic City Phase II</td>\n",
       "      <td>2 BHK</td>\n",
       "      <td>Coomee</td>\n",
       "      <td>1056.0</td>\n",
       "      <td>2.0</td>\n",
       "      <td>1.0</td>\n",
       "      <td>39.07</td>\n",
       "      <td>2.0</td>\n",
       "    </tr>\n",
       "    <tr>\n",
       "      <th>1</th>\n",
       "      <td>Plot  Area</td>\n",
       "      <td>Ready To Move</td>\n",
       "      <td>Chikka Tirupathi</td>\n",
       "      <td>4 Bedroom</td>\n",
       "      <td>Theanmp</td>\n",
       "      <td>2600.0</td>\n",
       "      <td>5.0</td>\n",
       "      <td>3.0</td>\n",
       "      <td>120.00</td>\n",
       "      <td>4.0</td>\n",
       "    </tr>\n",
       "    <tr>\n",
       "      <th>2</th>\n",
       "      <td>Built-up  Area</td>\n",
       "      <td>Ready To Move</td>\n",
       "      <td>Uttarahalli</td>\n",
       "      <td>3 BHK</td>\n",
       "      <td>NaN</td>\n",
       "      <td>1440.0</td>\n",
       "      <td>2.0</td>\n",
       "      <td>3.0</td>\n",
       "      <td>62.00</td>\n",
       "      <td>3.0</td>\n",
       "    </tr>\n",
       "    <tr>\n",
       "      <th>3</th>\n",
       "      <td>Super built-up  Area</td>\n",
       "      <td>Ready To Move</td>\n",
       "      <td>Lingadheeranahalli</td>\n",
       "      <td>3 BHK</td>\n",
       "      <td>Soiewre</td>\n",
       "      <td>1521.0</td>\n",
       "      <td>3.0</td>\n",
       "      <td>1.0</td>\n",
       "      <td>95.00</td>\n",
       "      <td>3.0</td>\n",
       "    </tr>\n",
       "    <tr>\n",
       "      <th>4</th>\n",
       "      <td>Super built-up  Area</td>\n",
       "      <td>Ready To Move</td>\n",
       "      <td>Kothanur</td>\n",
       "      <td>2 BHK</td>\n",
       "      <td>NaN</td>\n",
       "      <td>1200.0</td>\n",
       "      <td>2.0</td>\n",
       "      <td>1.0</td>\n",
       "      <td>51.00</td>\n",
       "      <td>2.0</td>\n",
       "    </tr>\n",
       "  </tbody>\n",
       "</table>\n",
       "</div>"
      ],
      "text/plain": [
       "              area_type   availability                  location       size  \\\n",
       "0  Super built-up  Area         19-Dec  Electronic City Phase II      2 BHK   \n",
       "1            Plot  Area  Ready To Move          Chikka Tirupathi  4 Bedroom   \n",
       "2        Built-up  Area  Ready To Move               Uttarahalli      3 BHK   \n",
       "3  Super built-up  Area  Ready To Move        Lingadheeranahalli      3 BHK   \n",
       "4  Super built-up  Area  Ready To Move                  Kothanur      2 BHK   \n",
       "\n",
       "   society total_sqft  bath  balcony   price  bhk  \n",
       "0  Coomee      1056.0   2.0      1.0   39.07  2.0  \n",
       "1  Theanmp     2600.0   5.0      3.0  120.00  4.0  \n",
       "2      NaN     1440.0   2.0      3.0   62.00  3.0  \n",
       "3  Soiewre     1521.0   3.0      1.0   95.00  3.0  \n",
       "4      NaN     1200.0   2.0      1.0   51.00  2.0  "
      ]
     },
     "execution_count": 170,
     "metadata": {},
     "output_type": "execute_result"
    }
   ],
   "source": [
    "df.head()"
   ]
  },
  {
   "cell_type": "markdown",
   "id": "5fa4543a",
   "metadata": {},
   "source": [
    "# FEATURE ENGINEERING"
   ]
  },
  {
   "cell_type": "code",
   "execution_count": 171,
   "id": "15eb0bd2",
   "metadata": {},
   "outputs": [
    {
     "data": {
      "text/plain": [
       "area_type        0.000000\n",
       "availability     0.000000\n",
       "location         0.007508\n",
       "size             0.120120\n",
       "society         41.306306\n",
       "total_sqft       0.030030\n",
       "bath             0.548048\n",
       "balcony          4.572072\n",
       "price            0.000000\n",
       "bhk              0.120120\n",
       "dtype: float64"
      ]
     },
     "execution_count": 171,
     "metadata": {},
     "output_type": "execute_result"
    }
   ],
   "source": [
    "df.isnull().mean()*100"
   ]
  },
  {
   "cell_type": "markdown",
   "id": "164a305a",
   "metadata": {},
   "source": [
    "the column 'society' has 41% missing values"
   ]
  },
  {
   "cell_type": "markdown",
   "id": "416813a3",
   "metadata": {},
   "source": [
    "The names of societies are given are some owners or construction builder, so they play no role in predicting the price. So, dropping this column would be a good idea."
   ]
  },
  {
   "cell_type": "code",
   "execution_count": 172,
   "id": "64249a2a",
   "metadata": {},
   "outputs": [
    {
     "data": {
      "text/plain": [
       "array(['19-Dec', 'Ready To Move', '18-May', '18-Feb', '18-Nov', '20-Dec',\n",
       "       '17-Oct', '21-Dec', '19-Sep', '20-Sep', '18-Mar', '20-Feb',\n",
       "       '18-Apr', '20-Aug', '18-Oct', '19-Mar', '17-Sep', '18-Dec',\n",
       "       '17-Aug', '19-Apr', '18-Jun', '22-Dec', '22-Jan', '18-Aug',\n",
       "       '19-Jan', '17-Jul', '18-Jul', '21-Jun', '20-May', '19-Aug',\n",
       "       '18-Sep', '17-May', '17-Jun', '21-May', '18-Jan', '20-Mar',\n",
       "       '17-Dec', '16-Mar', '19-Jun', '22-Jun', '19-Jul', '21-Feb',\n",
       "       'Immediate Possession', '19-May', '17-Nov', '20-Oct', '20-Jun',\n",
       "       '19-Feb', '21-Oct', '21-Jan', '17-Mar', '17-Apr', '22-May',\n",
       "       '19-Oct', '21-Jul', '21-Nov', '21-Mar', '16-Dec', '22-Mar',\n",
       "       '20-Jan', '21-Sep', '21-Aug', '14-Nov', '19-Nov', '15-Nov',\n",
       "       '16-Jul', '15-Jun', '17-Feb', '20-Nov', '20-Jul', '16-Sep',\n",
       "       '15-Oct', '15-Dec', '16-Oct', '22-Nov', '15-Aug', '17-Jan',\n",
       "       '16-Nov', '20-Apr', '16-Jan', '14-Jul'], dtype=object)"
      ]
     },
     "execution_count": 172,
     "metadata": {},
     "output_type": "execute_result"
    }
   ],
   "source": [
    "df['availability'].unique()"
   ]
  },
  {
   "cell_type": "markdown",
   "id": "9d930837",
   "metadata": {},
   "source": [
    "the column 'availability' also does not play any role in predicting the price."
   ]
  },
  {
   "cell_type": "markdown",
   "id": "44f277bf",
   "metadata": {},
   "source": [
    "size is added to either 'BHK' or 'Bedroom'. We need to bring them all to a similar pattern or just keep the numeric part. "
   ]
  },
  {
   "cell_type": "markdown",
   "id": "9efa4aab",
   "metadata": {},
   "source": [
    "# TREAT MISSING VALUES "
   ]
  },
  {
   "cell_type": "markdown",
   "id": "e06b011e",
   "metadata": {},
   "source": [
    "### Method-1 :- Drop missing values( if missing values less than 2-5% of data) or may drop the column as well if it has more than 25-30% missing values¶"
   ]
  },
  {
   "cell_type": "code",
   "execution_count": 173,
   "id": "cb050bdb",
   "metadata": {},
   "outputs": [],
   "source": [
    "df = df.drop(['availability', 'society', 'size'], axis = 1)"
   ]
  },
  {
   "cell_type": "code",
   "execution_count": 174,
   "id": "2cfd42bc",
   "metadata": {},
   "outputs": [
    {
     "data": {
      "text/plain": [
       "area_type     0.000000\n",
       "location      0.007508\n",
       "total_sqft    0.030030\n",
       "bath          0.548048\n",
       "balcony       4.572072\n",
       "price         0.000000\n",
       "bhk           0.120120\n",
       "dtype: float64"
      ]
     },
     "execution_count": 174,
     "metadata": {},
     "output_type": "execute_result"
    }
   ],
   "source": [
    "df.isnull().mean()*100"
   ]
  },
  {
   "cell_type": "markdown",
   "id": "8d2a71b5",
   "metadata": {},
   "source": [
    "4% of the values in the column 'balcony' are missing"
   ]
  },
  {
   "cell_type": "code",
   "execution_count": 175,
   "id": "f9ea83d2",
   "metadata": {},
   "outputs": [],
   "source": [
    "df1 = df.copy()"
   ]
  },
  {
   "cell_type": "code",
   "execution_count": 176,
   "id": "22f1279a",
   "metadata": {
    "scrolled": true
   },
   "outputs": [
    {
     "data": {
      "text/plain": [
       "6       NaN\n",
       "7       NaN\n",
       "9       NaN\n",
       "34      NaN\n",
       "40      NaN\n",
       "         ..\n",
       "13277   NaN\n",
       "13279   NaN\n",
       "13306   NaN\n",
       "13309   NaN\n",
       "13316   NaN\n",
       "Name: balcony, Length: 609, dtype: float64"
      ]
     },
     "execution_count": 176,
     "metadata": {},
     "output_type": "execute_result"
    }
   ],
   "source": [
    "df1.loc[df['balcony'].isnull() == True, 'balcony']"
   ]
  },
  {
   "cell_type": "code",
   "execution_count": 177,
   "id": "8252b6f3",
   "metadata": {},
   "outputs": [],
   "source": [
    "df1.loc[df['balcony'].isnull() == True, 'balcony'] = df1['bhk']"
   ]
  },
  {
   "cell_type": "code",
   "execution_count": 178,
   "id": "71306e1d",
   "metadata": {},
   "outputs": [],
   "source": [
    "df1.loc[df['bath'].isnull() == True, 'bath'] = df1['bhk']"
   ]
  },
  {
   "cell_type": "code",
   "execution_count": 179,
   "id": "f11d7482",
   "metadata": {},
   "outputs": [
    {
     "data": {
      "text/html": [
       "<div>\n",
       "<style scoped>\n",
       "    .dataframe tbody tr th:only-of-type {\n",
       "        vertical-align: middle;\n",
       "    }\n",
       "\n",
       "    .dataframe tbody tr th {\n",
       "        vertical-align: top;\n",
       "    }\n",
       "\n",
       "    .dataframe thead th {\n",
       "        text-align: right;\n",
       "    }\n",
       "</style>\n",
       "<table border=\"1\" class=\"dataframe\">\n",
       "  <thead>\n",
       "    <tr style=\"text-align: right;\">\n",
       "      <th></th>\n",
       "      <th>area_type</th>\n",
       "      <th>location</th>\n",
       "      <th>total_sqft</th>\n",
       "      <th>bath</th>\n",
       "      <th>balcony</th>\n",
       "      <th>price</th>\n",
       "      <th>bhk</th>\n",
       "    </tr>\n",
       "  </thead>\n",
       "  <tbody>\n",
       "    <tr>\n",
       "      <th>0</th>\n",
       "      <td>Super built-up  Area</td>\n",
       "      <td>Electronic City Phase II</td>\n",
       "      <td>1056.0</td>\n",
       "      <td>2.0</td>\n",
       "      <td>1.0</td>\n",
       "      <td>39.07</td>\n",
       "      <td>2.0</td>\n",
       "    </tr>\n",
       "    <tr>\n",
       "      <th>1</th>\n",
       "      <td>Plot  Area</td>\n",
       "      <td>Chikka Tirupathi</td>\n",
       "      <td>2600.0</td>\n",
       "      <td>5.0</td>\n",
       "      <td>3.0</td>\n",
       "      <td>120.00</td>\n",
       "      <td>4.0</td>\n",
       "    </tr>\n",
       "    <tr>\n",
       "      <th>2</th>\n",
       "      <td>Built-up  Area</td>\n",
       "      <td>Uttarahalli</td>\n",
       "      <td>1440.0</td>\n",
       "      <td>2.0</td>\n",
       "      <td>3.0</td>\n",
       "      <td>62.00</td>\n",
       "      <td>3.0</td>\n",
       "    </tr>\n",
       "    <tr>\n",
       "      <th>3</th>\n",
       "      <td>Super built-up  Area</td>\n",
       "      <td>Lingadheeranahalli</td>\n",
       "      <td>1521.0</td>\n",
       "      <td>3.0</td>\n",
       "      <td>1.0</td>\n",
       "      <td>95.00</td>\n",
       "      <td>3.0</td>\n",
       "    </tr>\n",
       "    <tr>\n",
       "      <th>4</th>\n",
       "      <td>Super built-up  Area</td>\n",
       "      <td>Kothanur</td>\n",
       "      <td>1200.0</td>\n",
       "      <td>2.0</td>\n",
       "      <td>1.0</td>\n",
       "      <td>51.00</td>\n",
       "      <td>2.0</td>\n",
       "    </tr>\n",
       "    <tr>\n",
       "      <th>5</th>\n",
       "      <td>Super built-up  Area</td>\n",
       "      <td>Whitefield</td>\n",
       "      <td>1170.0</td>\n",
       "      <td>2.0</td>\n",
       "      <td>1.0</td>\n",
       "      <td>38.00</td>\n",
       "      <td>2.0</td>\n",
       "    </tr>\n",
       "    <tr>\n",
       "      <th>6</th>\n",
       "      <td>Super built-up  Area</td>\n",
       "      <td>Old Airport Road</td>\n",
       "      <td>2732.0</td>\n",
       "      <td>4.0</td>\n",
       "      <td>4.0</td>\n",
       "      <td>204.00</td>\n",
       "      <td>4.0</td>\n",
       "    </tr>\n",
       "    <tr>\n",
       "      <th>7</th>\n",
       "      <td>Super built-up  Area</td>\n",
       "      <td>Rajaji Nagar</td>\n",
       "      <td>3300.0</td>\n",
       "      <td>4.0</td>\n",
       "      <td>4.0</td>\n",
       "      <td>600.00</td>\n",
       "      <td>4.0</td>\n",
       "    </tr>\n",
       "    <tr>\n",
       "      <th>8</th>\n",
       "      <td>Super built-up  Area</td>\n",
       "      <td>Marathahalli</td>\n",
       "      <td>1310.0</td>\n",
       "      <td>3.0</td>\n",
       "      <td>1.0</td>\n",
       "      <td>63.25</td>\n",
       "      <td>3.0</td>\n",
       "    </tr>\n",
       "    <tr>\n",
       "      <th>9</th>\n",
       "      <td>Plot  Area</td>\n",
       "      <td>Gandhi Bazar</td>\n",
       "      <td>1020.0</td>\n",
       "      <td>6.0</td>\n",
       "      <td>6.0</td>\n",
       "      <td>370.00</td>\n",
       "      <td>6.0</td>\n",
       "    </tr>\n",
       "  </tbody>\n",
       "</table>\n",
       "</div>"
      ],
      "text/plain": [
       "              area_type                  location total_sqft  bath  balcony  \\\n",
       "0  Super built-up  Area  Electronic City Phase II     1056.0   2.0      1.0   \n",
       "1            Plot  Area          Chikka Tirupathi     2600.0   5.0      3.0   \n",
       "2        Built-up  Area               Uttarahalli     1440.0   2.0      3.0   \n",
       "3  Super built-up  Area        Lingadheeranahalli     1521.0   3.0      1.0   \n",
       "4  Super built-up  Area                  Kothanur     1200.0   2.0      1.0   \n",
       "5  Super built-up  Area                Whitefield     1170.0   2.0      1.0   \n",
       "6  Super built-up  Area          Old Airport Road     2732.0   4.0      4.0   \n",
       "7  Super built-up  Area              Rajaji Nagar     3300.0   4.0      4.0   \n",
       "8  Super built-up  Area              Marathahalli     1310.0   3.0      1.0   \n",
       "9            Plot  Area              Gandhi Bazar     1020.0   6.0      6.0   \n",
       "\n",
       "    price  bhk  \n",
       "0   39.07  2.0  \n",
       "1  120.00  4.0  \n",
       "2   62.00  3.0  \n",
       "3   95.00  3.0  \n",
       "4   51.00  2.0  \n",
       "5   38.00  2.0  \n",
       "6  204.00  4.0  \n",
       "7  600.00  4.0  \n",
       "8   63.25  3.0  \n",
       "9  370.00  6.0  "
      ]
     },
     "execution_count": 179,
     "metadata": {},
     "output_type": "execute_result"
    }
   ],
   "source": [
    "df1.head(10)"
   ]
  },
  {
   "cell_type": "code",
   "execution_count": 180,
   "id": "c0c90e34",
   "metadata": {},
   "outputs": [
    {
     "data": {
      "text/plain": [
       "area_type      0\n",
       "location       1\n",
       "total_sqft     4\n",
       "bath          16\n",
       "balcony       16\n",
       "price          0\n",
       "bhk           16\n",
       "dtype: int64"
      ]
     },
     "execution_count": 180,
     "metadata": {},
     "output_type": "execute_result"
    }
   ],
   "source": [
    "df1.isnull().sum()"
   ]
  },
  {
   "cell_type": "code",
   "execution_count": 181,
   "id": "f1ca3b96",
   "metadata": {},
   "outputs": [
    {
     "data": {
      "text/plain": [
       "area_type     0\n",
       "location      0\n",
       "total_sqft    0\n",
       "bath          0\n",
       "balcony       0\n",
       "price         0\n",
       "bhk           0\n",
       "dtype: int64"
      ]
     },
     "execution_count": 181,
     "metadata": {},
     "output_type": "execute_result"
    }
   ],
   "source": [
    "df2 = df1.dropna()\n",
    "df2.isnull().sum()"
   ]
  },
  {
   "cell_type": "code",
   "execution_count": 182,
   "id": "6006ce98",
   "metadata": {},
   "outputs": [
    {
     "data": {
      "text/plain": [
       "Whitefield                 539\n",
       "Sarjapur  Road             397\n",
       "Electronic City            302\n",
       "Kanakpura Road             273\n",
       "Thanisandra                234\n",
       "                          ... \n",
       "BAGUR                        1\n",
       "Jogupalya                    1\n",
       "Bennigana Halli              1\n",
       "HSR Layout 7th sector,       1\n",
       "Puttappa Layout              1\n",
       "Name: location, Length: 1304, dtype: int64"
      ]
     },
     "execution_count": 182,
     "metadata": {},
     "output_type": "execute_result"
    }
   ],
   "source": [
    "df2['location'].value_counts()"
   ]
  },
  {
   "cell_type": "markdown",
   "id": "cf5ff1a2",
   "metadata": {},
   "source": [
    "if the value count of a particular location is less that 100, then convert that location to 'other' category"
   ]
  },
  {
   "cell_type": "code",
   "execution_count": 183,
   "id": "90127840",
   "metadata": {},
   "outputs": [
    {
     "data": {
      "text/plain": [
       "Whitefield                 539\n",
       "Sarjapur  Road             397\n",
       "Electronic City            302\n",
       "Kanakpura Road             273\n",
       "Thanisandra                234\n",
       "                          ... \n",
       "BAGUR                        1\n",
       "Jogupalya                    1\n",
       "Bennigana Halli              1\n",
       "HSR Layout 7th sector,       1\n",
       "Puttappa Layout              1\n",
       "Name: location, Length: 1304, dtype: int64"
      ]
     },
     "execution_count": 183,
     "metadata": {},
     "output_type": "execute_result"
    }
   ],
   "source": [
    "location_count = df2['location'].value_counts()\n",
    "location_count"
   ]
  },
  {
   "cell_type": "code",
   "execution_count": 184,
   "id": "3e498959",
   "metadata": {},
   "outputs": [
    {
     "data": {
      "text/plain": [
       "Bellandur                   96\n",
       "KR Puram                    91\n",
       "Electronics City Phase 1    88\n",
       "Hoodi                       88\n",
       "Yeshwanthpur                85\n",
       "                            ..\n",
       "BAGUR                        1\n",
       "Jogupalya                    1\n",
       "Bennigana Halli              1\n",
       "HSR Layout 7th sector,       1\n",
       "Puttappa Layout              1\n",
       "Name: location, Length: 1287, dtype: int64"
      ]
     },
     "execution_count": 184,
     "metadata": {},
     "output_type": "execute_result"
    }
   ],
   "source": [
    "location_less_than_100 = location_count[location_count < 100]\n",
    "location_less_than_100"
   ]
  },
  {
   "cell_type": "code",
   "execution_count": 185,
   "id": "7bc6408a",
   "metadata": {},
   "outputs": [],
   "source": [
    "df2['location'] = df2['location'].apply(lambda x: 'other' if x in location_less_than_100 else x)"
   ]
  },
  {
   "cell_type": "code",
   "execution_count": 186,
   "id": "654421e0",
   "metadata": {},
   "outputs": [
    {
     "data": {
      "text/plain": [
       "array(['Electronic City Phase II', 'other', 'Uttarahalli', 'Whitefield',\n",
       "       'Rajaji Nagar', 'Marathahalli', '7th Phase JP Nagar',\n",
       "       'Raja Rajeshwari Nagar', 'Thanisandra', 'Electronic City',\n",
       "       'Yelahanka', 'Hebbal', 'Kanakpura Road', 'Sarjapur  Road',\n",
       "       'Haralur Road', 'Hennur Road', 'Chandapura', 'Bannerghatta Road'],\n",
       "      dtype=object)"
      ]
     },
     "execution_count": 186,
     "metadata": {},
     "output_type": "execute_result"
    }
   ],
   "source": [
    "df2['location'].unique()"
   ]
  },
  {
   "cell_type": "code",
   "execution_count": 187,
   "id": "769a9371",
   "metadata": {},
   "outputs": [
    {
     "data": {
      "text/plain": [
       "other                       9699\n",
       "Whitefield                   539\n",
       "Sarjapur  Road               397\n",
       "Electronic City              302\n",
       "Kanakpura Road               273\n",
       "Thanisandra                  234\n",
       "Yelahanka                    212\n",
       "Uttarahalli                  186\n",
       "Hebbal                       177\n",
       "Marathahalli                 175\n",
       "Raja Rajeshwari Nagar        171\n",
       "Hennur Road                  152\n",
       "Bannerghatta Road            152\n",
       "7th Phase JP Nagar           149\n",
       "Haralur Road                 142\n",
       "Electronic City Phase II     132\n",
       "Rajaji Nagar                 107\n",
       "Chandapura                   100\n",
       "Name: location, dtype: int64"
      ]
     },
     "execution_count": 187,
     "metadata": {},
     "output_type": "execute_result"
    }
   ],
   "source": [
    "df2['location'].value_counts()"
   ]
  },
  {
   "cell_type": "markdown",
   "id": "9decfaa7",
   "metadata": {},
   "source": [
    "# Outlier Treatment"
   ]
  },
  {
   "cell_type": "markdown",
   "id": "f2ea92b8",
   "metadata": {},
   "source": [
    "Assumption: Sqauare feet per bedroom is 300 (i.e.; 2 bedroom should be minimum 600 Sq.ft.).\n",
    "    \n",
    "if we have an example of a 400 sq.ft. for 2BHK, then that should be an outlier. "
   ]
  },
  {
   "cell_type": "code",
   "execution_count": 188,
   "id": "2dfc619e",
   "metadata": {},
   "outputs": [],
   "source": [
    "df2['price_per_sqft'] = df2['price']*100000 / df2['total_sqft']"
   ]
  },
  {
   "cell_type": "code",
   "execution_count": 189,
   "id": "97c9d5ae",
   "metadata": {},
   "outputs": [
    {
     "data": {
      "text/html": [
       "<div>\n",
       "<style scoped>\n",
       "    .dataframe tbody tr th:only-of-type {\n",
       "        vertical-align: middle;\n",
       "    }\n",
       "\n",
       "    .dataframe tbody tr th {\n",
       "        vertical-align: top;\n",
       "    }\n",
       "\n",
       "    .dataframe thead th {\n",
       "        text-align: right;\n",
       "    }\n",
       "</style>\n",
       "<table border=\"1\" class=\"dataframe\">\n",
       "  <thead>\n",
       "    <tr style=\"text-align: right;\">\n",
       "      <th></th>\n",
       "      <th>area_type</th>\n",
       "      <th>location</th>\n",
       "      <th>total_sqft</th>\n",
       "      <th>bath</th>\n",
       "      <th>balcony</th>\n",
       "      <th>price</th>\n",
       "      <th>bhk</th>\n",
       "      <th>price_per_sqft</th>\n",
       "    </tr>\n",
       "  </thead>\n",
       "  <tbody>\n",
       "    <tr>\n",
       "      <th>0</th>\n",
       "      <td>Super built-up  Area</td>\n",
       "      <td>Electronic City Phase II</td>\n",
       "      <td>1056.0</td>\n",
       "      <td>2.0</td>\n",
       "      <td>1.0</td>\n",
       "      <td>39.07</td>\n",
       "      <td>2.0</td>\n",
       "      <td>3699.810606</td>\n",
       "    </tr>\n",
       "    <tr>\n",
       "      <th>1</th>\n",
       "      <td>Plot  Area</td>\n",
       "      <td>other</td>\n",
       "      <td>2600.0</td>\n",
       "      <td>5.0</td>\n",
       "      <td>3.0</td>\n",
       "      <td>120.00</td>\n",
       "      <td>4.0</td>\n",
       "      <td>4615.384615</td>\n",
       "    </tr>\n",
       "    <tr>\n",
       "      <th>2</th>\n",
       "      <td>Built-up  Area</td>\n",
       "      <td>Uttarahalli</td>\n",
       "      <td>1440.0</td>\n",
       "      <td>2.0</td>\n",
       "      <td>3.0</td>\n",
       "      <td>62.00</td>\n",
       "      <td>3.0</td>\n",
       "      <td>4305.555556</td>\n",
       "    </tr>\n",
       "    <tr>\n",
       "      <th>3</th>\n",
       "      <td>Super built-up  Area</td>\n",
       "      <td>other</td>\n",
       "      <td>1521.0</td>\n",
       "      <td>3.0</td>\n",
       "      <td>1.0</td>\n",
       "      <td>95.00</td>\n",
       "      <td>3.0</td>\n",
       "      <td>6245.890861</td>\n",
       "    </tr>\n",
       "    <tr>\n",
       "      <th>4</th>\n",
       "      <td>Super built-up  Area</td>\n",
       "      <td>other</td>\n",
       "      <td>1200.0</td>\n",
       "      <td>2.0</td>\n",
       "      <td>1.0</td>\n",
       "      <td>51.00</td>\n",
       "      <td>2.0</td>\n",
       "      <td>4250.0</td>\n",
       "    </tr>\n",
       "    <tr>\n",
       "      <th>5</th>\n",
       "      <td>Super built-up  Area</td>\n",
       "      <td>Whitefield</td>\n",
       "      <td>1170.0</td>\n",
       "      <td>2.0</td>\n",
       "      <td>1.0</td>\n",
       "      <td>38.00</td>\n",
       "      <td>2.0</td>\n",
       "      <td>3247.863248</td>\n",
       "    </tr>\n",
       "    <tr>\n",
       "      <th>6</th>\n",
       "      <td>Super built-up  Area</td>\n",
       "      <td>other</td>\n",
       "      <td>2732.0</td>\n",
       "      <td>4.0</td>\n",
       "      <td>4.0</td>\n",
       "      <td>204.00</td>\n",
       "      <td>4.0</td>\n",
       "      <td>7467.057101</td>\n",
       "    </tr>\n",
       "    <tr>\n",
       "      <th>7</th>\n",
       "      <td>Super built-up  Area</td>\n",
       "      <td>Rajaji Nagar</td>\n",
       "      <td>3300.0</td>\n",
       "      <td>4.0</td>\n",
       "      <td>4.0</td>\n",
       "      <td>600.00</td>\n",
       "      <td>4.0</td>\n",
       "      <td>18181.818182</td>\n",
       "    </tr>\n",
       "    <tr>\n",
       "      <th>8</th>\n",
       "      <td>Super built-up  Area</td>\n",
       "      <td>Marathahalli</td>\n",
       "      <td>1310.0</td>\n",
       "      <td>3.0</td>\n",
       "      <td>1.0</td>\n",
       "      <td>63.25</td>\n",
       "      <td>3.0</td>\n",
       "      <td>4828.244275</td>\n",
       "    </tr>\n",
       "    <tr>\n",
       "      <th>9</th>\n",
       "      <td>Plot  Area</td>\n",
       "      <td>other</td>\n",
       "      <td>1020.0</td>\n",
       "      <td>6.0</td>\n",
       "      <td>6.0</td>\n",
       "      <td>370.00</td>\n",
       "      <td>6.0</td>\n",
       "      <td>36274.509804</td>\n",
       "    </tr>\n",
       "  </tbody>\n",
       "</table>\n",
       "</div>"
      ],
      "text/plain": [
       "              area_type                  location total_sqft  bath  balcony  \\\n",
       "0  Super built-up  Area  Electronic City Phase II     1056.0   2.0      1.0   \n",
       "1            Plot  Area                     other     2600.0   5.0      3.0   \n",
       "2        Built-up  Area               Uttarahalli     1440.0   2.0      3.0   \n",
       "3  Super built-up  Area                     other     1521.0   3.0      1.0   \n",
       "4  Super built-up  Area                     other     1200.0   2.0      1.0   \n",
       "5  Super built-up  Area                Whitefield     1170.0   2.0      1.0   \n",
       "6  Super built-up  Area                     other     2732.0   4.0      4.0   \n",
       "7  Super built-up  Area              Rajaji Nagar     3300.0   4.0      4.0   \n",
       "8  Super built-up  Area              Marathahalli     1310.0   3.0      1.0   \n",
       "9            Plot  Area                     other     1020.0   6.0      6.0   \n",
       "\n",
       "    price  bhk price_per_sqft  \n",
       "0   39.07  2.0    3699.810606  \n",
       "1  120.00  4.0    4615.384615  \n",
       "2   62.00  3.0    4305.555556  \n",
       "3   95.00  3.0    6245.890861  \n",
       "4   51.00  2.0         4250.0  \n",
       "5   38.00  2.0    3247.863248  \n",
       "6  204.00  4.0    7467.057101  \n",
       "7  600.00  4.0   18181.818182  \n",
       "8   63.25  3.0    4828.244275  \n",
       "9  370.00  6.0   36274.509804  "
      ]
     },
     "execution_count": 189,
     "metadata": {},
     "output_type": "execute_result"
    }
   ],
   "source": [
    "df2.head(10)"
   ]
  },
  {
   "cell_type": "code",
   "execution_count": 190,
   "id": "37933a0b",
   "metadata": {},
   "outputs": [
    {
     "data": {
      "text/plain": [
       "18"
      ]
     },
     "execution_count": 190,
     "metadata": {},
     "output_type": "execute_result"
    }
   ],
   "source": [
    "df2['location'].nunique()"
   ]
  },
  {
   "cell_type": "code",
   "execution_count": 191,
   "id": "6a20ff33",
   "metadata": {},
   "outputs": [
    {
     "data": {
      "text/plain": [
       "array(['Electronic City Phase II', 'other', 'Uttarahalli', 'Whitefield',\n",
       "       'Rajaji Nagar', 'Marathahalli', '7th Phase JP Nagar',\n",
       "       'Raja Rajeshwari Nagar', 'Thanisandra', 'Electronic City',\n",
       "       'Yelahanka', 'Hebbal', 'Kanakpura Road', 'Sarjapur  Road',\n",
       "       'Haralur Road', 'Hennur Road', 'Chandapura', 'Bannerghatta Road'],\n",
       "      dtype=object)"
      ]
     },
     "execution_count": 191,
     "metadata": {},
     "output_type": "execute_result"
    }
   ],
   "source": [
    "df2['location'].unique()"
   ]
  },
  {
   "cell_type": "code",
   "execution_count": 192,
   "id": "372666cb",
   "metadata": {},
   "outputs": [
    {
     "data": {
      "text/plain": [
       "0       3699.810606\n",
       "155          3000.0\n",
       "292     4209.541628\n",
       "354          4500.0\n",
       "461     2887.704918\n",
       "527          2500.0\n",
       "705          2600.0\n",
       "753     4444.044944\n",
       "882     6349.206349\n",
       "907          6250.0\n",
       "1006    2887.857143\n",
       "1147    4903.225806\n",
       "1639    4660.347551\n",
       "1662         2888.0\n",
       "1717    2888.636364\n",
       "1787    2887.704918\n",
       "1908    4526.748971\n",
       "1992    2887.857143\n",
       "2090    5334.626576\n",
       "2098    4047.856431\n",
       "Name: price_per_sqft, dtype: object"
      ]
     },
     "execution_count": 192,
     "metadata": {},
     "output_type": "execute_result"
    }
   ],
   "source": [
    "df2.loc[df2['location'] == 'Electronic City Phase II']['price_per_sqft'].head(20)"
   ]
  },
  {
   "cell_type": "code",
   "execution_count": 193,
   "id": "74b2d58d",
   "metadata": {},
   "outputs": [
    {
     "data": {
      "text/html": [
       "<div>\n",
       "<style scoped>\n",
       "    .dataframe tbody tr th:only-of-type {\n",
       "        vertical-align: middle;\n",
       "    }\n",
       "\n",
       "    .dataframe tbody tr th {\n",
       "        vertical-align: top;\n",
       "    }\n",
       "\n",
       "    .dataframe thead th {\n",
       "        text-align: right;\n",
       "    }\n",
       "</style>\n",
       "<table border=\"1\" class=\"dataframe\">\n",
       "  <thead>\n",
       "    <tr style=\"text-align: right;\">\n",
       "      <th></th>\n",
       "      <th>area_type</th>\n",
       "      <th>location</th>\n",
       "      <th>total_sqft</th>\n",
       "      <th>bath</th>\n",
       "      <th>balcony</th>\n",
       "      <th>price</th>\n",
       "      <th>bhk</th>\n",
       "      <th>price_per_sqft</th>\n",
       "    </tr>\n",
       "  </thead>\n",
       "  <tbody>\n",
       "    <tr>\n",
       "      <th>0</th>\n",
       "      <td>Super built-up  Area</td>\n",
       "      <td>Electronic City Phase II</td>\n",
       "      <td>1056.0</td>\n",
       "      <td>2.0</td>\n",
       "      <td>1.0</td>\n",
       "      <td>39.07</td>\n",
       "      <td>2.0</td>\n",
       "      <td>3699.810606</td>\n",
       "    </tr>\n",
       "    <tr>\n",
       "      <th>1</th>\n",
       "      <td>Plot  Area</td>\n",
       "      <td>other</td>\n",
       "      <td>2600.0</td>\n",
       "      <td>5.0</td>\n",
       "      <td>3.0</td>\n",
       "      <td>120.00</td>\n",
       "      <td>4.0</td>\n",
       "      <td>4615.384615</td>\n",
       "    </tr>\n",
       "    <tr>\n",
       "      <th>2</th>\n",
       "      <td>Built-up  Area</td>\n",
       "      <td>Uttarahalli</td>\n",
       "      <td>1440.0</td>\n",
       "      <td>2.0</td>\n",
       "      <td>3.0</td>\n",
       "      <td>62.00</td>\n",
       "      <td>3.0</td>\n",
       "      <td>4305.555556</td>\n",
       "    </tr>\n",
       "    <tr>\n",
       "      <th>3</th>\n",
       "      <td>Super built-up  Area</td>\n",
       "      <td>other</td>\n",
       "      <td>1521.0</td>\n",
       "      <td>3.0</td>\n",
       "      <td>1.0</td>\n",
       "      <td>95.00</td>\n",
       "      <td>3.0</td>\n",
       "      <td>6245.890861</td>\n",
       "    </tr>\n",
       "    <tr>\n",
       "      <th>4</th>\n",
       "      <td>Super built-up  Area</td>\n",
       "      <td>other</td>\n",
       "      <td>1200.0</td>\n",
       "      <td>2.0</td>\n",
       "      <td>1.0</td>\n",
       "      <td>51.00</td>\n",
       "      <td>2.0</td>\n",
       "      <td>4250.0</td>\n",
       "    </tr>\n",
       "    <tr>\n",
       "      <th>...</th>\n",
       "      <td>...</td>\n",
       "      <td>...</td>\n",
       "      <td>...</td>\n",
       "      <td>...</td>\n",
       "      <td>...</td>\n",
       "      <td>...</td>\n",
       "      <td>...</td>\n",
       "      <td>...</td>\n",
       "    </tr>\n",
       "    <tr>\n",
       "      <th>13315</th>\n",
       "      <td>Built-up  Area</td>\n",
       "      <td>Whitefield</td>\n",
       "      <td>3453.0</td>\n",
       "      <td>4.0</td>\n",
       "      <td>0.0</td>\n",
       "      <td>231.00</td>\n",
       "      <td>5.0</td>\n",
       "      <td>6689.834926</td>\n",
       "    </tr>\n",
       "    <tr>\n",
       "      <th>13316</th>\n",
       "      <td>Super built-up  Area</td>\n",
       "      <td>other</td>\n",
       "      <td>3600.0</td>\n",
       "      <td>5.0</td>\n",
       "      <td>4.0</td>\n",
       "      <td>400.00</td>\n",
       "      <td>4.0</td>\n",
       "      <td>11111.111111</td>\n",
       "    </tr>\n",
       "    <tr>\n",
       "      <th>13317</th>\n",
       "      <td>Built-up  Area</td>\n",
       "      <td>Raja Rajeshwari Nagar</td>\n",
       "      <td>1141.0</td>\n",
       "      <td>2.0</td>\n",
       "      <td>1.0</td>\n",
       "      <td>60.00</td>\n",
       "      <td>2.0</td>\n",
       "      <td>5258.545136</td>\n",
       "    </tr>\n",
       "    <tr>\n",
       "      <th>13318</th>\n",
       "      <td>Super built-up  Area</td>\n",
       "      <td>other</td>\n",
       "      <td>4689.0</td>\n",
       "      <td>4.0</td>\n",
       "      <td>1.0</td>\n",
       "      <td>488.00</td>\n",
       "      <td>4.0</td>\n",
       "      <td>10407.336319</td>\n",
       "    </tr>\n",
       "    <tr>\n",
       "      <th>13319</th>\n",
       "      <td>Super built-up  Area</td>\n",
       "      <td>other</td>\n",
       "      <td>550.0</td>\n",
       "      <td>1.0</td>\n",
       "      <td>1.0</td>\n",
       "      <td>17.00</td>\n",
       "      <td>1.0</td>\n",
       "      <td>3090.909091</td>\n",
       "    </tr>\n",
       "  </tbody>\n",
       "</table>\n",
       "<p>13299 rows × 8 columns</p>\n",
       "</div>"
      ],
      "text/plain": [
       "                  area_type                  location total_sqft  bath  \\\n",
       "0      Super built-up  Area  Electronic City Phase II     1056.0   2.0   \n",
       "1                Plot  Area                     other     2600.0   5.0   \n",
       "2            Built-up  Area               Uttarahalli     1440.0   2.0   \n",
       "3      Super built-up  Area                     other     1521.0   3.0   \n",
       "4      Super built-up  Area                     other     1200.0   2.0   \n",
       "...                     ...                       ...        ...   ...   \n",
       "13315        Built-up  Area                Whitefield     3453.0   4.0   \n",
       "13316  Super built-up  Area                     other     3600.0   5.0   \n",
       "13317        Built-up  Area     Raja Rajeshwari Nagar     1141.0   2.0   \n",
       "13318  Super built-up  Area                     other     4689.0   4.0   \n",
       "13319  Super built-up  Area                     other      550.0   1.0   \n",
       "\n",
       "       balcony   price  bhk price_per_sqft  \n",
       "0          1.0   39.07  2.0    3699.810606  \n",
       "1          3.0  120.00  4.0    4615.384615  \n",
       "2          3.0   62.00  3.0    4305.555556  \n",
       "3          1.0   95.00  3.0    6245.890861  \n",
       "4          1.0   51.00  2.0         4250.0  \n",
       "...        ...     ...  ...            ...  \n",
       "13315      0.0  231.00  5.0    6689.834926  \n",
       "13316      4.0  400.00  4.0   11111.111111  \n",
       "13317      1.0   60.00  2.0    5258.545136  \n",
       "13318      1.0  488.00  4.0   10407.336319  \n",
       "13319      1.0   17.00  1.0    3090.909091  \n",
       "\n",
       "[13299 rows x 8 columns]"
      ]
     },
     "execution_count": 193,
     "metadata": {},
     "output_type": "execute_result"
    }
   ],
   "source": [
    "df3 = df2.copy()\n",
    "df3"
   ]
  },
  {
   "cell_type": "code",
   "execution_count": 194,
   "id": "b6281ee4",
   "metadata": {},
   "outputs": [
    {
     "data": {
      "text/html": [
       "<div>\n",
       "<style scoped>\n",
       "    .dataframe tbody tr th:only-of-type {\n",
       "        vertical-align: middle;\n",
       "    }\n",
       "\n",
       "    .dataframe tbody tr th {\n",
       "        vertical-align: top;\n",
       "    }\n",
       "\n",
       "    .dataframe thead th {\n",
       "        text-align: right;\n",
       "    }\n",
       "</style>\n",
       "<table border=\"1\" class=\"dataframe\">\n",
       "  <thead>\n",
       "    <tr style=\"text-align: right;\">\n",
       "      <th></th>\n",
       "      <th>area_type</th>\n",
       "      <th>location</th>\n",
       "      <th>total_sqft</th>\n",
       "      <th>bath</th>\n",
       "      <th>balcony</th>\n",
       "      <th>price</th>\n",
       "      <th>bhk</th>\n",
       "      <th>price_per_sqft</th>\n",
       "    </tr>\n",
       "  </thead>\n",
       "  <tbody>\n",
       "    <tr>\n",
       "      <th>0</th>\n",
       "      <td>Super built-up  Area</td>\n",
       "      <td>Electronic City Phase II</td>\n",
       "      <td>1056.0</td>\n",
       "      <td>2.0</td>\n",
       "      <td>1.0</td>\n",
       "      <td>39.07</td>\n",
       "      <td>2.0</td>\n",
       "      <td>3699.810606</td>\n",
       "    </tr>\n",
       "    <tr>\n",
       "      <th>1</th>\n",
       "      <td>Plot  Area</td>\n",
       "      <td>other</td>\n",
       "      <td>2600.0</td>\n",
       "      <td>5.0</td>\n",
       "      <td>3.0</td>\n",
       "      <td>120.00</td>\n",
       "      <td>4.0</td>\n",
       "      <td>4615.384615</td>\n",
       "    </tr>\n",
       "    <tr>\n",
       "      <th>2</th>\n",
       "      <td>Built-up  Area</td>\n",
       "      <td>Uttarahalli</td>\n",
       "      <td>1440.0</td>\n",
       "      <td>2.0</td>\n",
       "      <td>3.0</td>\n",
       "      <td>62.00</td>\n",
       "      <td>3.0</td>\n",
       "      <td>4305.555556</td>\n",
       "    </tr>\n",
       "    <tr>\n",
       "      <th>3</th>\n",
       "      <td>Super built-up  Area</td>\n",
       "      <td>other</td>\n",
       "      <td>1521.0</td>\n",
       "      <td>3.0</td>\n",
       "      <td>1.0</td>\n",
       "      <td>95.00</td>\n",
       "      <td>3.0</td>\n",
       "      <td>6245.890861</td>\n",
       "    </tr>\n",
       "    <tr>\n",
       "      <th>4</th>\n",
       "      <td>Super built-up  Area</td>\n",
       "      <td>other</td>\n",
       "      <td>1200.0</td>\n",
       "      <td>2.0</td>\n",
       "      <td>1.0</td>\n",
       "      <td>51.00</td>\n",
       "      <td>2.0</td>\n",
       "      <td>4250.0</td>\n",
       "    </tr>\n",
       "    <tr>\n",
       "      <th>...</th>\n",
       "      <td>...</td>\n",
       "      <td>...</td>\n",
       "      <td>...</td>\n",
       "      <td>...</td>\n",
       "      <td>...</td>\n",
       "      <td>...</td>\n",
       "      <td>...</td>\n",
       "      <td>...</td>\n",
       "    </tr>\n",
       "    <tr>\n",
       "      <th>13315</th>\n",
       "      <td>Built-up  Area</td>\n",
       "      <td>Whitefield</td>\n",
       "      <td>3453.0</td>\n",
       "      <td>4.0</td>\n",
       "      <td>0.0</td>\n",
       "      <td>231.00</td>\n",
       "      <td>5.0</td>\n",
       "      <td>6689.834926</td>\n",
       "    </tr>\n",
       "    <tr>\n",
       "      <th>13316</th>\n",
       "      <td>Super built-up  Area</td>\n",
       "      <td>other</td>\n",
       "      <td>3600.0</td>\n",
       "      <td>5.0</td>\n",
       "      <td>4.0</td>\n",
       "      <td>400.00</td>\n",
       "      <td>4.0</td>\n",
       "      <td>11111.111111</td>\n",
       "    </tr>\n",
       "    <tr>\n",
       "      <th>13317</th>\n",
       "      <td>Built-up  Area</td>\n",
       "      <td>Raja Rajeshwari Nagar</td>\n",
       "      <td>1141.0</td>\n",
       "      <td>2.0</td>\n",
       "      <td>1.0</td>\n",
       "      <td>60.00</td>\n",
       "      <td>2.0</td>\n",
       "      <td>5258.545136</td>\n",
       "    </tr>\n",
       "    <tr>\n",
       "      <th>13318</th>\n",
       "      <td>Super built-up  Area</td>\n",
       "      <td>other</td>\n",
       "      <td>4689.0</td>\n",
       "      <td>4.0</td>\n",
       "      <td>1.0</td>\n",
       "      <td>488.00</td>\n",
       "      <td>4.0</td>\n",
       "      <td>10407.336319</td>\n",
       "    </tr>\n",
       "    <tr>\n",
       "      <th>13319</th>\n",
       "      <td>Super built-up  Area</td>\n",
       "      <td>other</td>\n",
       "      <td>550.0</td>\n",
       "      <td>1.0</td>\n",
       "      <td>1.0</td>\n",
       "      <td>17.00</td>\n",
       "      <td>1.0</td>\n",
       "      <td>3090.909091</td>\n",
       "    </tr>\n",
       "  </tbody>\n",
       "</table>\n",
       "<p>13299 rows × 8 columns</p>\n",
       "</div>"
      ],
      "text/plain": [
       "                  area_type                  location total_sqft  bath  \\\n",
       "0      Super built-up  Area  Electronic City Phase II     1056.0   2.0   \n",
       "1                Plot  Area                     other     2600.0   5.0   \n",
       "2            Built-up  Area               Uttarahalli     1440.0   2.0   \n",
       "3      Super built-up  Area                     other     1521.0   3.0   \n",
       "4      Super built-up  Area                     other     1200.0   2.0   \n",
       "...                     ...                       ...        ...   ...   \n",
       "13315        Built-up  Area                Whitefield     3453.0   4.0   \n",
       "13316  Super built-up  Area                     other     3600.0   5.0   \n",
       "13317        Built-up  Area     Raja Rajeshwari Nagar     1141.0   2.0   \n",
       "13318  Super built-up  Area                     other     4689.0   4.0   \n",
       "13319  Super built-up  Area                     other      550.0   1.0   \n",
       "\n",
       "       balcony   price  bhk price_per_sqft  \n",
       "0          1.0   39.07  2.0    3699.810606  \n",
       "1          3.0  120.00  4.0    4615.384615  \n",
       "2          3.0   62.00  3.0    4305.555556  \n",
       "3          1.0   95.00  3.0    6245.890861  \n",
       "4          1.0   51.00  2.0         4250.0  \n",
       "...        ...     ...  ...            ...  \n",
       "13315      0.0  231.00  5.0    6689.834926  \n",
       "13316      4.0  400.00  4.0   11111.111111  \n",
       "13317      1.0   60.00  2.0    5258.545136  \n",
       "13318      1.0  488.00  4.0   10407.336319  \n",
       "13319      1.0   17.00  1.0    3090.909091  \n",
       "\n",
       "[13299 rows x 8 columns]"
      ]
     },
     "execution_count": 194,
     "metadata": {},
     "output_type": "execute_result"
    }
   ],
   "source": [
    "df4 = df2.copy()\n",
    "df4"
   ]
  },
  {
   "cell_type": "code",
   "execution_count": 195,
   "id": "edf33cc6",
   "metadata": {},
   "outputs": [
    {
     "data": {
      "text/plain": [
       "(12369, 8)"
      ]
     },
     "execution_count": 195,
     "metadata": {},
     "output_type": "execute_result"
    }
   ],
   "source": [
    "# removing the rows where square feet per bhk is less than 300\n",
    "\n",
    "df4 = df4[(df4['total_sqft'] / df4['bhk']) > 300]\n",
    "df4.shape"
   ]
  },
  {
   "cell_type": "code",
   "execution_count": 196,
   "id": "a4d5b8ab",
   "metadata": {},
   "outputs": [
    {
     "data": {
      "text/plain": [
       "930"
      ]
     },
     "execution_count": 196,
     "metadata": {},
     "output_type": "execute_result"
    }
   ],
   "source": [
    "13299 - 12369"
   ]
  },
  {
   "cell_type": "markdown",
   "id": "57653025",
   "metadata": {},
   "source": [
    "930 rows are removed after removing the outlier for 'min 300 sq.ft should be there for 1 bedroom'"
   ]
  },
  {
   "cell_type": "code",
   "execution_count": 197,
   "id": "73664f1a",
   "metadata": {},
   "outputs": [],
   "source": [
    "df4['total_sqft'] = df4['total_sqft'].astype('int32')"
   ]
  },
  {
   "cell_type": "code",
   "execution_count": 198,
   "id": "5c3e892b",
   "metadata": {},
   "outputs": [
    {
     "data": {
      "text/plain": [
       "count    1.236900e+04\n",
       "mean     1.855506e+03\n",
       "std      1.483766e+04\n",
       "min      3.400000e+02\n",
       "25%      1.115000e+03\n",
       "50%      1.306000e+03\n",
       "75%      1.710000e+03\n",
       "max      1.425000e+06\n",
       "Name: total_sqft, dtype: float64"
      ]
     },
     "execution_count": 198,
     "metadata": {},
     "output_type": "execute_result"
    }
   ],
   "source": [
    "df4['total_sqft'].describe()"
   ]
  },
  {
   "cell_type": "code",
   "execution_count": 199,
   "id": "05b963ab",
   "metadata": {},
   "outputs": [],
   "source": [
    "df4['price_per_sqft'] = df4['price_per_sqft'].astype('float32')"
   ]
  },
  {
   "cell_type": "code",
   "execution_count": 200,
   "id": "494bdfa0",
   "metadata": {},
   "outputs": [
    {
     "data": {
      "text/plain": [
       "count     12369.000000\n",
       "mean       6203.473145\n",
       "std        4047.174072\n",
       "min           2.070175\n",
       "25%        4200.000000\n",
       "50%        5263.157715\n",
       "75%        6827.794434\n",
       "max      176470.593750\n",
       "Name: price_per_sqft, dtype: float64"
      ]
     },
     "execution_count": 200,
     "metadata": {},
     "output_type": "execute_result"
    }
   ],
   "source": [
    "df4['price_per_sqft'].describe()"
   ]
  },
  {
   "cell_type": "markdown",
   "id": "60a75461",
   "metadata": {},
   "source": [
    "The min price per sq.ft is Rs. 2 and the max price per sq.ft is Rs. 176470. This shows a wide variation in property prices. So, we should remove the outliers. "
   ]
  },
  {
   "cell_type": "code",
   "execution_count": 201,
   "id": "184ae93d",
   "metadata": {},
   "outputs": [
    {
     "data": {
      "text/html": [
       "<div>\n",
       "<style scoped>\n",
       "    .dataframe tbody tr th:only-of-type {\n",
       "        vertical-align: middle;\n",
       "    }\n",
       "\n",
       "    .dataframe tbody tr th {\n",
       "        vertical-align: top;\n",
       "    }\n",
       "\n",
       "    .dataframe thead th {\n",
       "        text-align: right;\n",
       "    }\n",
       "</style>\n",
       "<table border=\"1\" class=\"dataframe\">\n",
       "  <thead>\n",
       "    <tr style=\"text-align: right;\">\n",
       "      <th></th>\n",
       "      <th>area_type</th>\n",
       "      <th>location</th>\n",
       "      <th>total_sqft</th>\n",
       "      <th>bath</th>\n",
       "      <th>balcony</th>\n",
       "      <th>price</th>\n",
       "      <th>bhk</th>\n",
       "      <th>price_per_sqft</th>\n",
       "    </tr>\n",
       "  </thead>\n",
       "  <tbody>\n",
       "    <tr>\n",
       "      <th>1086</th>\n",
       "      <td>Plot  Area</td>\n",
       "      <td>other</td>\n",
       "      <td>1425000</td>\n",
       "      <td>2.0</td>\n",
       "      <td>2.0</td>\n",
       "      <td>29.5</td>\n",
       "      <td>2.0</td>\n",
       "      <td>2.070175</td>\n",
       "    </tr>\n",
       "  </tbody>\n",
       "</table>\n",
       "</div>"
      ],
      "text/plain": [
       "       area_type location  total_sqft  bath  balcony  price  bhk  \\\n",
       "1086  Plot  Area    other     1425000   2.0      2.0   29.5  2.0   \n",
       "\n",
       "      price_per_sqft  \n",
       "1086        2.070175  "
      ]
     },
     "execution_count": 201,
     "metadata": {},
     "output_type": "execute_result"
    }
   ],
   "source": [
    "df4.loc[df4['price_per_sqft'] < 3]"
   ]
  },
  {
   "cell_type": "code",
   "execution_count": 202,
   "id": "046c8fde",
   "metadata": {},
   "outputs": [
    {
     "data": {
      "text/html": [
       "<div>\n",
       "<style scoped>\n",
       "    .dataframe tbody tr th:only-of-type {\n",
       "        vertical-align: middle;\n",
       "    }\n",
       "\n",
       "    .dataframe tbody tr th {\n",
       "        vertical-align: top;\n",
       "    }\n",
       "\n",
       "    .dataframe thead th {\n",
       "        text-align: right;\n",
       "    }\n",
       "</style>\n",
       "<table border=\"1\" class=\"dataframe\">\n",
       "  <thead>\n",
       "    <tr style=\"text-align: right;\">\n",
       "      <th></th>\n",
       "      <th>area_type</th>\n",
       "      <th>location</th>\n",
       "      <th>total_sqft</th>\n",
       "      <th>bath</th>\n",
       "      <th>balcony</th>\n",
       "      <th>price</th>\n",
       "      <th>bhk</th>\n",
       "      <th>price_per_sqft</th>\n",
       "    </tr>\n",
       "  </thead>\n",
       "  <tbody>\n",
       "    <tr>\n",
       "      <th>0</th>\n",
       "      <td>Super built-up  Area</td>\n",
       "      <td>Electronic City Phase II</td>\n",
       "      <td>1056</td>\n",
       "      <td>2.0</td>\n",
       "      <td>1.0</td>\n",
       "      <td>39.07</td>\n",
       "      <td>2.0</td>\n",
       "      <td>3699.810547</td>\n",
       "    </tr>\n",
       "    <tr>\n",
       "      <th>1</th>\n",
       "      <td>Plot  Area</td>\n",
       "      <td>other</td>\n",
       "      <td>2600</td>\n",
       "      <td>5.0</td>\n",
       "      <td>3.0</td>\n",
       "      <td>120.00</td>\n",
       "      <td>4.0</td>\n",
       "      <td>4615.384766</td>\n",
       "    </tr>\n",
       "    <tr>\n",
       "      <th>2</th>\n",
       "      <td>Built-up  Area</td>\n",
       "      <td>Uttarahalli</td>\n",
       "      <td>1440</td>\n",
       "      <td>2.0</td>\n",
       "      <td>3.0</td>\n",
       "      <td>62.00</td>\n",
       "      <td>3.0</td>\n",
       "      <td>4305.555664</td>\n",
       "    </tr>\n",
       "    <tr>\n",
       "      <th>3</th>\n",
       "      <td>Super built-up  Area</td>\n",
       "      <td>other</td>\n",
       "      <td>1521</td>\n",
       "      <td>3.0</td>\n",
       "      <td>1.0</td>\n",
       "      <td>95.00</td>\n",
       "      <td>3.0</td>\n",
       "      <td>6245.890625</td>\n",
       "    </tr>\n",
       "    <tr>\n",
       "      <th>4</th>\n",
       "      <td>Super built-up  Area</td>\n",
       "      <td>other</td>\n",
       "      <td>1200</td>\n",
       "      <td>2.0</td>\n",
       "      <td>1.0</td>\n",
       "      <td>51.00</td>\n",
       "      <td>2.0</td>\n",
       "      <td>4250.000000</td>\n",
       "    </tr>\n",
       "    <tr>\n",
       "      <th>...</th>\n",
       "      <td>...</td>\n",
       "      <td>...</td>\n",
       "      <td>...</td>\n",
       "      <td>...</td>\n",
       "      <td>...</td>\n",
       "      <td>...</td>\n",
       "      <td>...</td>\n",
       "      <td>...</td>\n",
       "    </tr>\n",
       "    <tr>\n",
       "      <th>13315</th>\n",
       "      <td>Built-up  Area</td>\n",
       "      <td>Whitefield</td>\n",
       "      <td>3453</td>\n",
       "      <td>4.0</td>\n",
       "      <td>0.0</td>\n",
       "      <td>231.00</td>\n",
       "      <td>5.0</td>\n",
       "      <td>6689.834961</td>\n",
       "    </tr>\n",
       "    <tr>\n",
       "      <th>13316</th>\n",
       "      <td>Super built-up  Area</td>\n",
       "      <td>other</td>\n",
       "      <td>3600</td>\n",
       "      <td>5.0</td>\n",
       "      <td>4.0</td>\n",
       "      <td>400.00</td>\n",
       "      <td>4.0</td>\n",
       "      <td>11111.111328</td>\n",
       "    </tr>\n",
       "    <tr>\n",
       "      <th>13317</th>\n",
       "      <td>Built-up  Area</td>\n",
       "      <td>Raja Rajeshwari Nagar</td>\n",
       "      <td>1141</td>\n",
       "      <td>2.0</td>\n",
       "      <td>1.0</td>\n",
       "      <td>60.00</td>\n",
       "      <td>2.0</td>\n",
       "      <td>5258.544922</td>\n",
       "    </tr>\n",
       "    <tr>\n",
       "      <th>13318</th>\n",
       "      <td>Super built-up  Area</td>\n",
       "      <td>other</td>\n",
       "      <td>4689</td>\n",
       "      <td>4.0</td>\n",
       "      <td>1.0</td>\n",
       "      <td>488.00</td>\n",
       "      <td>4.0</td>\n",
       "      <td>10407.335938</td>\n",
       "    </tr>\n",
       "    <tr>\n",
       "      <th>13319</th>\n",
       "      <td>Super built-up  Area</td>\n",
       "      <td>other</td>\n",
       "      <td>550</td>\n",
       "      <td>1.0</td>\n",
       "      <td>1.0</td>\n",
       "      <td>17.00</td>\n",
       "      <td>1.0</td>\n",
       "      <td>3090.909180</td>\n",
       "    </tr>\n",
       "  </tbody>\n",
       "</table>\n",
       "<p>12369 rows × 8 columns</p>\n",
       "</div>"
      ],
      "text/plain": [
       "                  area_type                  location  total_sqft  bath  \\\n",
       "0      Super built-up  Area  Electronic City Phase II        1056   2.0   \n",
       "1                Plot  Area                     other        2600   5.0   \n",
       "2            Built-up  Area               Uttarahalli        1440   2.0   \n",
       "3      Super built-up  Area                     other        1521   3.0   \n",
       "4      Super built-up  Area                     other        1200   2.0   \n",
       "...                     ...                       ...         ...   ...   \n",
       "13315        Built-up  Area                Whitefield        3453   4.0   \n",
       "13316  Super built-up  Area                     other        3600   5.0   \n",
       "13317        Built-up  Area     Raja Rajeshwari Nagar        1141   2.0   \n",
       "13318  Super built-up  Area                     other        4689   4.0   \n",
       "13319  Super built-up  Area                     other         550   1.0   \n",
       "\n",
       "       balcony   price  bhk  price_per_sqft  \n",
       "0          1.0   39.07  2.0     3699.810547  \n",
       "1          3.0  120.00  4.0     4615.384766  \n",
       "2          3.0   62.00  3.0     4305.555664  \n",
       "3          1.0   95.00  3.0     6245.890625  \n",
       "4          1.0   51.00  2.0     4250.000000  \n",
       "...        ...     ...  ...             ...  \n",
       "13315      0.0  231.00  5.0     6689.834961  \n",
       "13316      4.0  400.00  4.0    11111.111328  \n",
       "13317      1.0   60.00  2.0     5258.544922  \n",
       "13318      1.0  488.00  4.0    10407.335938  \n",
       "13319      1.0   17.00  1.0     3090.909180  \n",
       "\n",
       "[12369 rows x 8 columns]"
      ]
     },
     "execution_count": 202,
     "metadata": {},
     "output_type": "execute_result"
    }
   ],
   "source": [
    "df5 = df4.copy()\n",
    "df5"
   ]
  },
  {
   "cell_type": "code",
   "execution_count": 203,
   "id": "ad14336d",
   "metadata": {},
   "outputs": [
    {
     "name": "stdout",
     "output_type": "stream",
     "text": [
      "7th Phase JP Nagar\n",
      "Bannerghatta Road\n",
      "Chandapura\n",
      "Electronic City\n",
      "Electronic City Phase II\n",
      "Haralur Road\n",
      "Hebbal\n",
      "Hennur Road\n",
      "Kanakpura Road\n",
      "Marathahalli\n",
      "Raja Rajeshwari Nagar\n",
      "Rajaji Nagar\n",
      "Sarjapur  Road\n",
      "Thanisandra\n",
      "Uttarahalli\n",
      "Whitefield\n",
      "Yelahanka\n",
      "other\n"
     ]
    }
   ],
   "source": [
    "for key, subdf in df5.groupby('location'):\n",
    "    print(key)"
   ]
  },
  {
   "cell_type": "code",
   "execution_count": 204,
   "id": "e34a852c",
   "metadata": {},
   "outputs": [
    {
     "name": "stdout",
     "output_type": "stream",
     "text": [
      "7th Phase JP Nagar                   area_type            location  total_sqft  bath  balcony  \\\n",
      "12     Super built-up  Area  7th Phase JP Nagar        1000   2.0      1.0   \n",
      "226          Built-up  Area  7th Phase JP Nagar        1080   2.0      2.0   \n",
      "252    Super built-up  Area  7th Phase JP Nagar        1270   2.0      2.0   \n",
      "281          Built-up  Area  7th Phase JP Nagar        1420   2.0      1.0   \n",
      "343          Built-up  Area  7th Phase JP Nagar        1850   3.0      1.0   \n",
      "...                     ...                 ...         ...   ...      ...   \n",
      "12695  Super built-up  Area  7th Phase JP Nagar        1128   2.0      1.0   \n",
      "13035  Super built-up  Area  7th Phase JP Nagar        2100   3.0      2.0   \n",
      "13056        Built-up  Area  7th Phase JP Nagar        1140   2.0      1.0   \n",
      "13182  Super built-up  Area  7th Phase JP Nagar        1420   3.0      2.0   \n",
      "13234  Super built-up  Area  7th Phase JP Nagar        1530   2.0      1.0   \n",
      "\n",
      "       price  bhk  price_per_sqft  \n",
      "12      38.0  2.0     3800.000000  \n",
      "226     72.0  2.0     6666.666504  \n",
      "252     93.0  2.0     7322.834473  \n",
      "281    100.0  3.0     7042.253418  \n",
      "343    150.0  3.0     8108.107910  \n",
      "...      ...  ...             ...  \n",
      "12695   60.0  2.0     5319.148926  \n",
      "13035  190.0  3.0     9047.619141  \n",
      "13056   57.0  2.0     5000.000000  \n",
      "13182   90.0  3.0     6338.028320  \n",
      "13234  108.0  2.0     7058.823730  \n",
      "\n",
      "[146 rows x 8 columns]\n",
      "Bannerghatta Road                   area_type           location  total_sqft  bath  balcony  \\\n",
      "363          Built-up  Area  Bannerghatta Road         500   1.0      1.0   \n",
      "372    Super built-up  Area  Bannerghatta Road        1050   2.0      1.0   \n",
      "533    Super built-up  Area  Bannerghatta Road        1170   2.0      1.0   \n",
      "561    Super built-up  Area  Bannerghatta Road         595   1.0      1.0   \n",
      "622            Carpet  Area  Bannerghatta Road        1445   3.0      2.0   \n",
      "...                     ...                ...         ...   ...      ...   \n",
      "13181  Super built-up  Area  Bannerghatta Road        1246   2.0      2.0   \n",
      "13214          Carpet  Area  Bannerghatta Road        1470   2.0      1.0   \n",
      "13218  Super built-up  Area  Bannerghatta Road        1160   2.0      2.0   \n",
      "13284  Super built-up  Area  Bannerghatta Road         970   2.0      1.0   \n",
      "13308        Built-up  Area  Bannerghatta Road        1527   3.0      1.0   \n",
      "\n",
      "        price  bhk  price_per_sqft  \n",
      "363     18.50  1.0     3700.000000  \n",
      "372     65.00  2.0     6190.476074  \n",
      "533     66.00  3.0     5641.025879  \n",
      "561     33.32  1.0     5600.000000  \n",
      "622     95.00  3.0     6574.394531  \n",
      "...       ...  ...             ...  \n",
      "13181   47.35  2.0     3800.160400  \n",
      "13214   85.00  3.0     5782.312988  \n",
      "13218   45.00  2.0     3879.310303  \n",
      "13284   57.00  2.0     5876.288574  \n",
      "13308  142.00  3.0     9299.279297  \n",
      "\n",
      "[150 rows x 8 columns]\n",
      "Chandapura                   area_type    location  total_sqft  bath  balcony  price  \\\n",
      "101          Built-up  Area  Chandapura         650   1.0      1.0  17.00   \n",
      "240    Super built-up  Area  Chandapura         645   1.0      1.0  16.45   \n",
      "242    Super built-up  Area  Chandapura         645   1.0      1.0  16.45   \n",
      "250    Super built-up  Area  Chandapura         800   1.0      1.0  20.00   \n",
      "289    Super built-up  Area  Chandapura        1015   2.0      2.0  25.88   \n",
      "...                     ...         ...         ...   ...      ...    ...   \n",
      "12849        Built-up  Area  Chandapura         740   1.0      1.0  22.00   \n",
      "12927  Super built-up  Area  Chandapura         876   2.0      2.0  28.47   \n",
      "13117            Plot  Area  Chandapura        1200   3.0      2.0  65.00   \n",
      "13147  Super built-up  Area  Chandapura        1095   2.0      2.0  28.00   \n",
      "13224  Super built-up  Area  Chandapura         520   1.0      1.0  14.04   \n",
      "\n",
      "       bhk  price_per_sqft  \n",
      "101    2.0     2615.384521  \n",
      "240    1.0     2550.387695  \n",
      "242    1.0     2550.387695  \n",
      "250    2.0     2500.000000  \n",
      "289    2.0     2549.753662  \n",
      "...    ...             ...  \n",
      "12849  2.0     2972.972900  \n",
      "12927  2.0     3250.000000  \n",
      "13117  3.0     5416.666504  \n",
      "13147  3.0     2557.077637  \n",
      "13224  1.0     2700.000000  \n",
      "\n",
      "[96 rows x 8 columns]\n",
      "Electronic City                   area_type         location  total_sqft  bath  balcony  \\\n",
      "26     Super built-up  Area  Electronic City         660   1.0      1.0   \n",
      "29     Super built-up  Area  Electronic City        1025   2.0      1.0   \n",
      "91     Super built-up  Area  Electronic City        1000   2.0      1.0   \n",
      "113    Super built-up  Area  Electronic City        1530   2.0      1.0   \n",
      "132    Super built-up  Area  Electronic City         880   1.0      1.0   \n",
      "...                     ...              ...         ...   ...      ...   \n",
      "13138        Built-up  Area  Electronic City         750   2.0      1.0   \n",
      "13185  Super built-up  Area  Electronic City        1355   2.0      1.0   \n",
      "13222  Super built-up  Area  Electronic City        1360   2.0      1.0   \n",
      "13269            Plot  Area  Electronic City        2010   3.0      2.0   \n",
      "13297  Super built-up  Area  Electronic City        1060   2.0      1.0   \n",
      "\n",
      "        price  bhk  price_per_sqft  \n",
      "26      23.10  2.0     3500.000000  \n",
      "29      47.00  3.0     4585.365723  \n",
      "91      28.88  2.0     2888.000000  \n",
      "113     45.90  3.0     3000.000000  \n",
      "132     16.50  2.0     1875.000000  \n",
      "...       ...  ...             ...  \n",
      "13138   19.50  2.0     2600.000000  \n",
      "13185   73.00  2.0     5387.454102  \n",
      "13222   64.99  3.0     4778.676270  \n",
      "13269  201.00  3.0    10000.000000  \n",
      "13297   52.00  2.0     4905.660156  \n",
      "\n",
      "[292 rows x 8 columns]\n",
      "Electronic City Phase II                   area_type                  location  total_sqft  bath  \\\n",
      "0      Super built-up  Area  Electronic City Phase II        1056   2.0   \n",
      "155    Super built-up  Area  Electronic City Phase II        1020   2.0   \n",
      "292    Super built-up  Area  Electronic City Phase II        1069   2.0   \n",
      "354    Super built-up  Area  Electronic City Phase II         630   1.0   \n",
      "461    Super built-up  Area  Electronic City Phase II        1220   2.0   \n",
      "...                     ...                       ...         ...   ...   \n",
      "12903  Super built-up  Area  Electronic City Phase II         911   2.0   \n",
      "12910        Built-up  Area  Electronic City Phase II        1200   2.0   \n",
      "12974  Super built-up  Area  Electronic City Phase II        1031   2.0   \n",
      "13055  Super built-up  Area  Electronic City Phase II        1310   2.0   \n",
      "13241  Super built-up  Area  Electronic City Phase II        1651   3.0   \n",
      "\n",
      "       balcony  price  bhk  price_per_sqft  \n",
      "0          1.0  39.07  2.0     3699.810547  \n",
      "155        1.0  30.60  2.0     3000.000000  \n",
      "292        2.0  45.00  2.0     4209.541504  \n",
      "354        1.0  28.35  1.0     4500.000000  \n",
      "461        1.0  35.23  3.0     2887.704834  \n",
      "...        ...    ...  ...             ...  \n",
      "12903      1.0  26.50  2.0     2908.891357  \n",
      "12910      1.0  34.65  2.0     2887.500000  \n",
      "12974      1.0  54.48  2.0     5284.189941  \n",
      "13055      1.0  37.83  3.0     2887.786377  \n",
      "13241      1.0  49.53  3.0     3000.000000  \n",
      "\n",
      "[127 rows x 8 columns]\n",
      "Haralur Road                   area_type      location  total_sqft  bath  balcony   price  \\\n",
      "73     Super built-up  Area  Haralur Road        1240   2.0      1.0   70.00   \n",
      "291    Super built-up  Area  Haralur Road        1027   2.0      2.0   44.00   \n",
      "326    Super built-up  Area  Haralur Road        1464   3.0      2.0   56.00   \n",
      "332              Plot  Area  Haralur Road        2650   4.0      2.0  198.00   \n",
      "516    Super built-up  Area  Haralur Road        2805   5.0      3.0  154.00   \n",
      "...                     ...           ...         ...   ...      ...     ...   \n",
      "12798  Super built-up  Area  Haralur Road        1735   3.0      2.0   97.00   \n",
      "12964  Super built-up  Area  Haralur Road        1810   3.0      2.0   97.83   \n",
      "12979  Super built-up  Area  Haralur Road        1200   2.0      2.0   46.00   \n",
      "13054  Super built-up  Area  Haralur Road        1243   2.0      2.0   46.00   \n",
      "13295  Super built-up  Area  Haralur Road        1810   3.0      2.0  112.00   \n",
      "\n",
      "       bhk  price_per_sqft  \n",
      "73     2.0     5645.161133  \n",
      "291    2.0     4284.323242  \n",
      "326    3.0     3825.136719  \n",
      "332    4.0     7471.698242  \n",
      "516    4.0     5490.196289  \n",
      "...    ...             ...  \n",
      "12798  3.0     5590.778320  \n",
      "12964  3.0     5404.972168  \n",
      "12979  2.0     3833.333252  \n",
      "13054  2.0     3700.724121  \n",
      "13295  3.0     6187.845215  \n",
      "\n",
      "[140 rows x 8 columns]\n",
      "Hebbal                   area_type location  total_sqft  bath  balcony  price  bhk  \\\n",
      "32     Super built-up  Area   Hebbal        1760   2.0      2.0  123.0  3.0   \n",
      "122    Super built-up  Area   Hebbal        5611   4.0      0.0  477.0  4.0   \n",
      "228    Super built-up  Area   Hebbal        1900   3.0      2.0  119.0  3.0   \n",
      "293    Super built-up  Area   Hebbal        1349   2.0      1.0   98.2  2.0   \n",
      "370    Super built-up  Area   Hebbal        2483   5.0      2.0  212.0  4.0   \n",
      "...                     ...      ...         ...   ...      ...    ...  ...   \n",
      "13075        Built-up  Area   Hebbal        2250   3.0      3.0  219.0  3.0   \n",
      "13092  Super built-up  Area   Hebbal        4000   6.0      1.0  440.0  4.0   \n",
      "13105  Super built-up  Area   Hebbal        1349   2.0      1.0   98.0  2.0   \n",
      "13208  Super built-up  Area   Hebbal        4000   6.0      1.0  370.0  4.0   \n",
      "13289  Super built-up  Area   Hebbal        1349   2.0      1.0   96.8  2.0   \n",
      "\n",
      "       price_per_sqft  \n",
      "32        6988.636230  \n",
      "122       8500.401367  \n",
      "228       6263.157715  \n",
      "293       7279.466309  \n",
      "370       8538.058594  \n",
      "...               ...  \n",
      "13075     9733.333008  \n",
      "13092    11000.000000  \n",
      "13105     7264.640625  \n",
      "13208     9250.000000  \n",
      "13289     7175.685547  \n",
      "\n",
      "[175 rows x 8 columns]\n",
      "Hennur Road                   area_type     location  total_sqft  bath  balcony   price  \\\n",
      "74     Super built-up  Area  Hennur Road        2089   3.0      2.0  140.00   \n",
      "81           Built-up  Area  Hennur Road        3203   4.0      4.0  224.50   \n",
      "140          Built-up  Area  Hennur Road        5000   8.0      8.0  250.00   \n",
      "267    Super built-up  Area  Hennur Road        1866   2.0      2.0   61.58   \n",
      "320    Super built-up  Area  Hennur Road        1385   2.0      1.0   83.09   \n",
      "...                     ...          ...         ...   ...      ...     ...   \n",
      "12578  Super built-up  Area  Hennur Road        1165   2.0      1.0   52.00   \n",
      "12662  Super built-up  Area  Hennur Road        1052   2.0      1.0   34.72   \n",
      "12670        Built-up  Area  Hennur Road        1450   2.0      2.0   80.00   \n",
      "12891  Super built-up  Area  Hennur Road        1155   2.0      1.0   69.18   \n",
      "13030  Super built-up  Area  Hennur Road        1936   3.0      1.0  131.00   \n",
      "\n",
      "       bhk  price_per_sqft  \n",
      "74     3.0     6701.770996  \n",
      "81     4.0     7007.959961  \n",
      "140    8.0     5000.000000  \n",
      "267    3.0     3300.107178  \n",
      "320    2.0     5999.277832  \n",
      "...    ...             ...  \n",
      "12578  2.0     4463.519531  \n",
      "12662  2.0     3300.380127  \n",
      "12670  2.0     5517.241211  \n",
      "12891  2.0     5989.610352  \n",
      "13030  3.0     6766.528809  \n",
      "\n",
      "[150 rows x 8 columns]\n",
      "Kanakpura Road                   area_type        location  total_sqft  bath  balcony  \\\n",
      "35     Super built-up  Area  Kanakpura Road         700   2.0      1.0   \n",
      "44     Super built-up  Area  Kanakpura Road        1330   2.0      2.0   \n",
      "69     Super built-up  Area  Kanakpura Road        1005   2.0      1.0   \n",
      "86     Super built-up  Area  Kanakpura Road        1665   3.0      2.0   \n",
      "135          Built-up  Area  Kanakpura Road         950   2.0      1.0   \n",
      "...                     ...             ...         ...   ...      ...   \n",
      "12982  Super built-up  Area  Kanakpura Road         900   2.0      1.0   \n",
      "13044  Super built-up  Area  Kanakpura Road        1596   3.0      1.0   \n",
      "13127  Super built-up  Area  Kanakpura Road        1665   3.0      2.0   \n",
      "13130  Super built-up  Area  Kanakpura Road        1450   3.0      3.0   \n",
      "13195  Super built-up  Area  Kanakpura Road        1339   2.0      2.0   \n",
      "\n",
      "        price  bhk  price_per_sqft  \n",
      "35      36.00  2.0     5142.856934  \n",
      "44      91.79  2.0     6897.666016  \n",
      "69      36.68  2.0     3649.751221  \n",
      "86      88.00  3.0     5285.285156  \n",
      "135     57.00  2.0     6000.000000  \n",
      "...       ...  ...             ...  \n",
      "12982   42.00  2.0     4666.666504  \n",
      "13044  118.00  3.0     7393.483887  \n",
      "13127   74.90  3.0     4498.498535  \n",
      "13130   60.90  3.0     4200.000000  \n",
      "13195   67.00  2.0     5003.733887  \n",
      "\n",
      "[271 rows x 8 columns]\n",
      "Marathahalli                   area_type      location  total_sqft  bath  balcony   price  \\\n",
      "8      Super built-up  Area  Marathahalli        1310   3.0      1.0   63.25   \n",
      "67     Super built-up  Area  Marathahalli        1220   2.0      1.0   57.00   \n",
      "189    Super built-up  Area  Marathahalli        1200   2.0      2.0   52.00   \n",
      "194    Super built-up  Area  Marathahalli        1200   2.0      2.0   60.00   \n",
      "322              Plot  Area  Marathahalli        1200   2.0      2.0  128.00   \n",
      "...                     ...           ...         ...   ...      ...     ...   \n",
      "12185  Super built-up  Area  Marathahalli        1100   2.0      1.0   50.00   \n",
      "12836  Super built-up  Area  Marathahalli        1196   2.0      2.0   57.95   \n",
      "12846  Super built-up  Area  Marathahalli        1310   3.0      1.0   63.25   \n",
      "12968        Built-up  Area  Marathahalli        1485   2.0      2.0   90.00   \n",
      "13255  Super built-up  Area  Marathahalli        1146   2.0      1.0   69.00   \n",
      "\n",
      "       bhk  price_per_sqft  \n",
      "8      3.0     4828.244141  \n",
      "67     2.0     4672.131348  \n",
      "189    2.0     4333.333496  \n",
      "194    2.0     5000.000000  \n",
      "322    2.0    10666.666992  \n",
      "...    ...             ...  \n",
      "12185  2.0     4545.454590  \n",
      "12836  2.0     4845.317871  \n",
      "12846  3.0     4828.244141  \n",
      "12968  3.0     6060.605957  \n",
      "13255  2.0     6020.942383  \n",
      "\n",
      "[170 rows x 8 columns]\n",
      "Raja Rajeshwari Nagar                   area_type               location  total_sqft  bath  balcony  \\\n",
      "17     Super built-up  Area  Raja Rajeshwari Nagar        1540   3.0      3.0   \n",
      "33     Super built-up  Area  Raja Rajeshwari Nagar        1693   3.0      3.0   \n",
      "262    Super built-up  Area  Raja Rajeshwari Nagar        1295   2.0      2.0   \n",
      "390    Super built-up  Area  Raja Rajeshwari Nagar        1145   2.0      2.0   \n",
      "433    Super built-up  Area  Raja Rajeshwari Nagar        1419   2.0      2.0   \n",
      "...                     ...                    ...         ...   ...      ...   \n",
      "13226        Built-up  Area  Raja Rajeshwari Nagar        6000   8.0      3.0   \n",
      "13227  Super built-up  Area  Raja Rajeshwari Nagar        1140   2.0      2.0   \n",
      "13273  Super built-up  Area  Raja Rajeshwari Nagar         510   1.0      1.0   \n",
      "13304  Super built-up  Area  Raja Rajeshwari Nagar        1187   2.0      2.0   \n",
      "13317        Built-up  Area  Raja Rajeshwari Nagar        1141   2.0      1.0   \n",
      "\n",
      "        price  bhk  price_per_sqft  \n",
      "17      60.00  3.0     3896.104004  \n",
      "33      57.39  3.0     3389.840576  \n",
      "262     43.90  2.0     3389.961426  \n",
      "390     45.79  2.0     3999.126709  \n",
      "433     48.10  2.0     3389.711182  \n",
      "...       ...  ...             ...  \n",
      "13226  215.00  8.0     3583.333252  \n",
      "13227   39.00  2.0     3421.052734  \n",
      "13273   22.00  1.0     4313.725586  \n",
      "13304   40.14  2.0     3381.634277  \n",
      "13317   60.00  2.0     5258.544922  \n",
      "\n",
      "[168 rows x 8 columns]\n",
      "Rajaji Nagar                   area_type      location  total_sqft  bath  balcony   price  \\\n",
      "7      Super built-up  Area  Rajaji Nagar        3300   4.0      4.0   600.0   \n",
      "107          Built-up  Area  Rajaji Nagar        1640   3.0      2.0   229.0   \n",
      "324    Super built-up  Area  Rajaji Nagar        2390   3.0      2.0   415.0   \n",
      "407    Super built-up  Area  Rajaji Nagar        2390   3.0      2.0   410.0   \n",
      "408    Super built-up  Area  Rajaji Nagar       12000   6.0      3.0  2200.0   \n",
      "...                     ...           ...         ...   ...      ...     ...   \n",
      "12715  Super built-up  Area  Rajaji Nagar        1224   2.0      0.0   105.0   \n",
      "12748        Built-up  Area  Rajaji Nagar        2500   4.0      0.0   650.0   \n",
      "12824            Plot  Area  Rajaji Nagar        1314   2.0      0.0   225.0   \n",
      "12847  Super built-up  Area  Rajaji Nagar        1440   2.0      2.0   165.0   \n",
      "13013  Super built-up  Area  Rajaji Nagar        1640   3.0      3.0   245.0   \n",
      "\n",
      "       bhk  price_per_sqft  \n",
      "7      4.0    18181.818359  \n",
      "107    3.0    13963.415039  \n",
      "324    3.0    17364.017578  \n",
      "407    3.0    17154.812500  \n",
      "408    7.0    18333.333984  \n",
      "...    ...             ...  \n",
      "12715  2.0     8578.431641  \n",
      "12748  5.0    26000.000000  \n",
      "12824  2.0    17123.287109  \n",
      "12847  2.0    11458.333008  \n",
      "13013  3.0    14939.024414  \n",
      "\n",
      "[100 rows x 8 columns]\n",
      "Sarjapur  Road                   area_type        location  total_sqft  bath  balcony  \\\n",
      "41     Super built-up  Area  Sarjapur  Road        1254   3.0      2.0   \n",
      "115          Built-up  Area  Sarjapur  Road        2497   3.0      2.0   \n",
      "219    Super built-up  Area  Sarjapur  Road        1787   3.0      2.0   \n",
      "220    Super built-up  Area  Sarjapur  Road        1787   3.0      2.0   \n",
      "223    Super built-up  Area  Sarjapur  Road         984   2.0      1.0   \n",
      "...                     ...             ...         ...   ...      ...   \n",
      "13246        Built-up  Area  Sarjapur  Road        2758   4.0      1.0   \n",
      "13248  Super built-up  Area  Sarjapur  Road        1132   2.0      1.0   \n",
      "13263        Built-up  Area  Sarjapur  Road        1380   2.0      2.0   \n",
      "13290  Super built-up  Area  Sarjapur  Road        4050   2.0      1.0   \n",
      "13293  Super built-up  Area  Sarjapur  Road        2425   5.0      1.0   \n",
      "\n",
      "        price  bhk  price_per_sqft  \n",
      "41      38.00  3.0     3030.302979  \n",
      "115    140.00  3.0     5606.728027  \n",
      "219     98.29  3.0     5500.279785  \n",
      "220    125.00  3.0     6994.963867  \n",
      "223     44.28  2.0     4500.000000  \n",
      "...       ...  ...             ...  \n",
      "13246  240.00  4.0     8701.958008  \n",
      "13248   70.00  2.0     6183.745605  \n",
      "13263   55.00  3.0     3985.507324  \n",
      "13290  450.00  4.0    11111.111328  \n",
      "13293  195.00  4.0     8041.237305  \n",
      "\n",
      "[393 rows x 8 columns]\n",
      "Thanisandra                   area_type     location  total_sqft  bath  balcony    price  \\\n",
      "22               Plot  Area  Thanisandra        2800   5.0      2.0  380.000   \n",
      "94     Super built-up  Area  Thanisandra        1296   2.0      3.0   80.000   \n",
      "117    Super built-up  Area  Thanisandra        1436   3.0      1.0   74.750   \n",
      "120    Super built-up  Area  Thanisandra        1427   3.0      2.0  120.000   \n",
      "157    Super built-up  Area  Thanisandra        1735   3.0      3.0  135.000   \n",
      "...                     ...          ...         ...   ...      ...      ...   \n",
      "12792  Super built-up  Area  Thanisandra        1573   3.0      2.0  100.000   \n",
      "12955  Super built-up  Area  Thanisandra        1533   3.0      0.0   75.885   \n",
      "13050  Super built-up  Area  Thanisandra        2259   3.0      2.0  112.000   \n",
      "13251        Built-up  Area  Thanisandra        1917   4.0      2.0  130.000   \n",
      "13272  Super built-up  Area  Thanisandra        1226   2.0      1.0   65.590   \n",
      "\n",
      "       bhk  price_per_sqft  \n",
      "22     4.0    13571.428711  \n",
      "94     2.0     6172.839355  \n",
      "117    3.0     5205.431641  \n",
      "120    3.0     8409.250000  \n",
      "157    3.0     7780.979980  \n",
      "...    ...             ...  \n",
      "12792  3.0     6357.279297  \n",
      "12955  3.0     4950.097656  \n",
      "13050  4.0     4957.945801  \n",
      "13251  4.0     6781.429199  \n",
      "13272  2.0     5349.918457  \n",
      "\n",
      "[233 rows x 8 columns]\n",
      "Uttarahalli                   area_type     location  total_sqft  bath  balcony   price  \\\n",
      "2            Built-up  Area  Uttarahalli        1440   2.0      3.0   62.00   \n",
      "39           Built-up  Area  Uttarahalli        1143   2.0      2.0   45.00   \n",
      "336          Built-up  Area  Uttarahalli        1020   2.0      2.0   45.00   \n",
      "546    Super built-up  Area  Uttarahalli        1286   2.0      2.0   63.00   \n",
      "761    Super built-up  Area  Uttarahalli        1101   2.0      0.0   45.00   \n",
      "...                     ...          ...         ...   ...      ...     ...   \n",
      "13037        Built-up  Area  Uttarahalli        1650   2.0      1.0  130.00   \n",
      "13088  Super built-up  Area  Uttarahalli        1290   2.0      2.0   56.12   \n",
      "13230  Super built-up  Area  Uttarahalli        1590   3.0      2.0   57.00   \n",
      "13271  Super built-up  Area  Uttarahalli        1075   2.0      1.0   46.76   \n",
      "13313  Super built-up  Area  Uttarahalli        1345   2.0      1.0   57.00   \n",
      "\n",
      "       bhk  price_per_sqft  \n",
      "2      3.0     4305.555664  \n",
      "39     2.0     3937.007812  \n",
      "336    2.0     4411.764648  \n",
      "546    2.0     4898.911133  \n",
      "761    2.0     4087.193359  \n",
      "...    ...             ...  \n",
      "13037  3.0     7878.788086  \n",
      "13088  3.0     4350.387695  \n",
      "13230  3.0     3584.905762  \n",
      "13271  2.0     4349.767578  \n",
      "13313  3.0     4237.918457  \n",
      "\n",
      "[178 rows x 8 columns]\n",
      "Whitefield                   area_type    location  total_sqft  bath  balcony   price  \\\n",
      "5      Super built-up  Area  Whitefield        1170   2.0      1.0   38.00   \n",
      "10     Super built-up  Area  Whitefield        1800   2.0      2.0   70.00   \n",
      "11               Plot  Area  Whitefield        2785   5.0      3.0  295.00   \n",
      "27           Built-up  Area  Whitefield        1610   3.0      2.0   81.00   \n",
      "47     Super built-up  Area  Whitefield        1459   2.0      1.0   94.82   \n",
      "...                     ...         ...         ...   ...      ...     ...   \n",
      "13235  Super built-up  Area  Whitefield        1730   3.0      2.0  125.00   \n",
      "13257  Super built-up  Area  Whitefield        1453   2.0      2.0   58.00   \n",
      "13258  Super built-up  Area  Whitefield         877   1.0      1.0   59.00   \n",
      "13299  Super built-up  Area  Whitefield        2856   5.0      0.0  154.50   \n",
      "13315        Built-up  Area  Whitefield        3453   4.0      0.0  231.00   \n",
      "\n",
      "       bhk  price_per_sqft  \n",
      "5      2.0     3247.863281  \n",
      "10     3.0     3888.888916  \n",
      "11     4.0    10592.459961  \n",
      "27     3.0     5031.055664  \n",
      "47     2.0     6498.971680  \n",
      "...    ...             ...  \n",
      "13235  3.0     7225.433594  \n",
      "13257  3.0     3991.741211  \n",
      "13258  1.0     6727.479980  \n",
      "13299  4.0     5409.664062  \n",
      "13315  5.0     6689.834961  \n",
      "\n",
      "[537 rows x 8 columns]\n",
      "Yelahanka                   area_type   location  total_sqft  bath  balcony   price  \\\n",
      "30     Super built-up  Area  Yelahanka        2475   4.0      0.0  186.00   \n",
      "43               Plot  Area  Yelahanka         660   1.0      0.0   48.00   \n",
      "54     Super built-up  Area  Yelahanka        1600   2.0      3.0   75.00   \n",
      "82     Super built-up  Area  Yelahanka        1326   2.0      2.0   78.00   \n",
      "141    Super built-up  Area  Yelahanka        3050   5.0      1.0  213.00   \n",
      "...                     ...        ...         ...   ...      ...     ...   \n",
      "12853  Super built-up  Area  Yelahanka        1282   2.0      1.0   48.72   \n",
      "12937  Super built-up  Area  Yelahanka        1180   2.0      1.0   55.00   \n",
      "12980  Super built-up  Area  Yelahanka        1267   3.0      1.0   78.00   \n",
      "12997  Super built-up  Area  Yelahanka        1360   2.0      1.0   78.19   \n",
      "13011  Super built-up  Area  Yelahanka        1025   2.0      1.0   44.00   \n",
      "\n",
      "       bhk  price_per_sqft  \n",
      "30     4.0     7515.151367  \n",
      "43     1.0     7272.727051  \n",
      "54     3.0     4687.500000  \n",
      "82     2.0     5882.353027  \n",
      "141    5.0     6983.606445  \n",
      "...    ...             ...  \n",
      "12853  3.0     3800.312012  \n",
      "12937  2.0     4661.017090  \n",
      "12980  2.0     6156.274902  \n",
      "12997  2.0     5749.264648  \n",
      "13011  2.0     4292.683105  \n",
      "\n",
      "[206 rows x 8 columns]\n",
      "other                   area_type location  total_sqft  bath  balcony  price  bhk  \\\n",
      "1                Plot  Area    other        2600   5.0      3.0  120.0  4.0   \n",
      "3      Super built-up  Area    other        1521   3.0      1.0   95.0  3.0   \n",
      "4      Super built-up  Area    other        1200   2.0      1.0   51.0  2.0   \n",
      "6      Super built-up  Area    other        2732   4.0      4.0  204.0  4.0   \n",
      "13           Built-up  Area    other        1100   2.0      2.0   40.0  2.0   \n",
      "...                     ...      ...         ...   ...      ...    ...  ...   \n",
      "13312  Super built-up  Area    other        1262   2.0      2.0   47.0  2.0   \n",
      "13314  Super built-up  Area    other        1715   3.0      3.0  112.0  3.0   \n",
      "13316  Super built-up  Area    other        3600   5.0      4.0  400.0  4.0   \n",
      "13318  Super built-up  Area    other        4689   4.0      1.0  488.0  4.0   \n",
      "13319  Super built-up  Area    other         550   1.0      1.0   17.0  1.0   \n",
      "\n",
      "       price_per_sqft  \n",
      "1         4615.384766  \n",
      "3         6245.890625  \n",
      "4         4250.000000  \n",
      "6         7467.057129  \n",
      "13        3636.363525  \n",
      "...               ...  \n",
      "13312     3724.247314  \n",
      "13314     6530.612305  \n",
      "13316    11111.111328  \n",
      "13318    10407.335938  \n",
      "13319     3090.909180  \n",
      "\n",
      "[8837 rows x 8 columns]\n"
     ]
    }
   ],
   "source": [
    "for key, subdf in df5.groupby('location'):\n",
    "    print(key, subdf)"
   ]
  },
  {
   "cell_type": "code",
   "execution_count": 205,
   "id": "9784d1b4",
   "metadata": {},
   "outputs": [],
   "source": [
    "def remove_price_per_sqft_outliers(df):\n",
    "    df_out = pd.DataFrame()\n",
    "    \n",
    "    for key, subdf in df.groupby('location'):\n",
    "        m = np.mean(subdf['price_per_sqft'])    # mean of every location\n",
    "        sd = np.std(subdf['price_per_sqft'])    # sd of every location\n",
    "        \n",
    "        # calculate the prices which are between (mean - sigma) and (mean + sigma)\n",
    "        reduced_df = subdf[(subdf['price_per_sqft'] > (m - sd)) & (subdf['price_per_sqft'] <= (m + sd))]\n",
    "        \n",
    "        df_out = pd.concat([df_out, reduced_df], ignore_index = True)\n",
    "    return df_out"
   ]
  },
  {
   "cell_type": "code",
   "execution_count": 206,
   "id": "cf2533dc",
   "metadata": {},
   "outputs": [
    {
     "data": {
      "text/html": [
       "<div>\n",
       "<style scoped>\n",
       "    .dataframe tbody tr th:only-of-type {\n",
       "        vertical-align: middle;\n",
       "    }\n",
       "\n",
       "    .dataframe tbody tr th {\n",
       "        vertical-align: top;\n",
       "    }\n",
       "\n",
       "    .dataframe thead th {\n",
       "        text-align: right;\n",
       "    }\n",
       "</style>\n",
       "<table border=\"1\" class=\"dataframe\">\n",
       "  <thead>\n",
       "    <tr style=\"text-align: right;\">\n",
       "      <th></th>\n",
       "      <th>area_type</th>\n",
       "      <th>location</th>\n",
       "      <th>total_sqft</th>\n",
       "      <th>bath</th>\n",
       "      <th>balcony</th>\n",
       "      <th>price</th>\n",
       "      <th>bhk</th>\n",
       "      <th>price_per_sqft</th>\n",
       "    </tr>\n",
       "  </thead>\n",
       "  <tbody>\n",
       "    <tr>\n",
       "      <th>0</th>\n",
       "      <td>Built-up  Area</td>\n",
       "      <td>7th Phase JP Nagar</td>\n",
       "      <td>1080</td>\n",
       "      <td>2.0</td>\n",
       "      <td>2.0</td>\n",
       "      <td>72.00</td>\n",
       "      <td>2.0</td>\n",
       "      <td>6666.666504</td>\n",
       "    </tr>\n",
       "    <tr>\n",
       "      <th>1</th>\n",
       "      <td>Super built-up  Area</td>\n",
       "      <td>7th Phase JP Nagar</td>\n",
       "      <td>1270</td>\n",
       "      <td>2.0</td>\n",
       "      <td>2.0</td>\n",
       "      <td>93.00</td>\n",
       "      <td>2.0</td>\n",
       "      <td>7322.834473</td>\n",
       "    </tr>\n",
       "    <tr>\n",
       "      <th>2</th>\n",
       "      <td>Built-up  Area</td>\n",
       "      <td>7th Phase JP Nagar</td>\n",
       "      <td>1420</td>\n",
       "      <td>2.0</td>\n",
       "      <td>1.0</td>\n",
       "      <td>100.00</td>\n",
       "      <td>3.0</td>\n",
       "      <td>7042.253418</td>\n",
       "    </tr>\n",
       "    <tr>\n",
       "      <th>3</th>\n",
       "      <td>Built-up  Area</td>\n",
       "      <td>7th Phase JP Nagar</td>\n",
       "      <td>1850</td>\n",
       "      <td>3.0</td>\n",
       "      <td>1.0</td>\n",
       "      <td>150.00</td>\n",
       "      <td>3.0</td>\n",
       "      <td>8108.107910</td>\n",
       "    </tr>\n",
       "    <tr>\n",
       "      <th>4</th>\n",
       "      <td>Built-up  Area</td>\n",
       "      <td>7th Phase JP Nagar</td>\n",
       "      <td>1245</td>\n",
       "      <td>2.0</td>\n",
       "      <td>1.0</td>\n",
       "      <td>94.00</td>\n",
       "      <td>2.0</td>\n",
       "      <td>7550.200684</td>\n",
       "    </tr>\n",
       "    <tr>\n",
       "      <th>...</th>\n",
       "      <td>...</td>\n",
       "      <td>...</td>\n",
       "      <td>...</td>\n",
       "      <td>...</td>\n",
       "      <td>...</td>\n",
       "      <td>...</td>\n",
       "      <td>...</td>\n",
       "      <td>...</td>\n",
       "    </tr>\n",
       "    <tr>\n",
       "      <th>10939</th>\n",
       "      <td>Super built-up  Area</td>\n",
       "      <td>other</td>\n",
       "      <td>1050</td>\n",
       "      <td>2.0</td>\n",
       "      <td>2.0</td>\n",
       "      <td>52.71</td>\n",
       "      <td>2.0</td>\n",
       "      <td>5020.000000</td>\n",
       "    </tr>\n",
       "    <tr>\n",
       "      <th>10940</th>\n",
       "      <td>Super built-up  Area</td>\n",
       "      <td>other</td>\n",
       "      <td>1262</td>\n",
       "      <td>2.0</td>\n",
       "      <td>2.0</td>\n",
       "      <td>47.00</td>\n",
       "      <td>2.0</td>\n",
       "      <td>3724.247314</td>\n",
       "    </tr>\n",
       "    <tr>\n",
       "      <th>10941</th>\n",
       "      <td>Super built-up  Area</td>\n",
       "      <td>other</td>\n",
       "      <td>1715</td>\n",
       "      <td>3.0</td>\n",
       "      <td>3.0</td>\n",
       "      <td>112.00</td>\n",
       "      <td>3.0</td>\n",
       "      <td>6530.612305</td>\n",
       "    </tr>\n",
       "    <tr>\n",
       "      <th>10942</th>\n",
       "      <td>Super built-up  Area</td>\n",
       "      <td>other</td>\n",
       "      <td>4689</td>\n",
       "      <td>4.0</td>\n",
       "      <td>1.0</td>\n",
       "      <td>488.00</td>\n",
       "      <td>4.0</td>\n",
       "      <td>10407.335938</td>\n",
       "    </tr>\n",
       "    <tr>\n",
       "      <th>10943</th>\n",
       "      <td>Super built-up  Area</td>\n",
       "      <td>other</td>\n",
       "      <td>550</td>\n",
       "      <td>1.0</td>\n",
       "      <td>1.0</td>\n",
       "      <td>17.00</td>\n",
       "      <td>1.0</td>\n",
       "      <td>3090.909180</td>\n",
       "    </tr>\n",
       "  </tbody>\n",
       "</table>\n",
       "<p>10944 rows × 8 columns</p>\n",
       "</div>"
      ],
      "text/plain": [
       "                  area_type            location  total_sqft  bath  balcony  \\\n",
       "0            Built-up  Area  7th Phase JP Nagar        1080   2.0      2.0   \n",
       "1      Super built-up  Area  7th Phase JP Nagar        1270   2.0      2.0   \n",
       "2            Built-up  Area  7th Phase JP Nagar        1420   2.0      1.0   \n",
       "3            Built-up  Area  7th Phase JP Nagar        1850   3.0      1.0   \n",
       "4            Built-up  Area  7th Phase JP Nagar        1245   2.0      1.0   \n",
       "...                     ...                 ...         ...   ...      ...   \n",
       "10939  Super built-up  Area               other        1050   2.0      2.0   \n",
       "10940  Super built-up  Area               other        1262   2.0      2.0   \n",
       "10941  Super built-up  Area               other        1715   3.0      3.0   \n",
       "10942  Super built-up  Area               other        4689   4.0      1.0   \n",
       "10943  Super built-up  Area               other         550   1.0      1.0   \n",
       "\n",
       "        price  bhk  price_per_sqft  \n",
       "0       72.00  2.0     6666.666504  \n",
       "1       93.00  2.0     7322.834473  \n",
       "2      100.00  3.0     7042.253418  \n",
       "3      150.00  3.0     8108.107910  \n",
       "4       94.00  2.0     7550.200684  \n",
       "...       ...  ...             ...  \n",
       "10939   52.71  2.0     5020.000000  \n",
       "10940   47.00  2.0     3724.247314  \n",
       "10941  112.00  3.0     6530.612305  \n",
       "10942  488.00  4.0    10407.335938  \n",
       "10943   17.00  1.0     3090.909180  \n",
       "\n",
       "[10944 rows x 8 columns]"
      ]
     },
     "execution_count": 206,
     "metadata": {},
     "output_type": "execute_result"
    }
   ],
   "source": [
    "df6 = remove_price_per_sqft_outliers(df5)\n",
    "df6"
   ]
  },
  {
   "cell_type": "code",
   "execution_count": 207,
   "id": "90ed6aee",
   "metadata": {},
   "outputs": [
    {
     "data": {
      "text/plain": [
       "<AxesSubplot:xlabel='price_per_sqft', ylabel='Density'>"
      ]
     },
     "execution_count": 207,
     "metadata": {},
     "output_type": "execute_result"
    },
    {
     "data": {
      "image/png": "[encoded data removed]",
      "text/plain": [
       "<Figure size 432x288 with 1 Axes>"
      ]
     },
     "metadata": {
      "needs_background": "light"
     },
     "output_type": "display_data"
    }
   ],
   "source": [
    "sns.distplot(df6['price_per_sqft']) "
   ]
  },
  {
   "cell_type": "code",
   "execution_count": 208,
   "id": "4cee25b5",
   "metadata": {},
   "outputs": [],
   "source": [
    "import matplotlib.pyplot as plt"
   ]
  },
  {
   "cell_type": "markdown",
   "id": "19fe4302",
   "metadata": {},
   "source": [
    "Check if for a given location, the price of a 2 BHK is greater than that of a 3 BHk or not. If that happens, then it'd be an anomaly."
   ]
  },
  {
   "cell_type": "code",
   "execution_count": 209,
   "id": "d34b430b",
   "metadata": {},
   "outputs": [
    {
     "data": {
      "text/plain": [
       "Text(0, 0.5, 'BHK')"
      ]
     },
     "execution_count": 209,
     "metadata": {},
     "output_type": "execute_result"
    },
    {
     "data": {
      "image/png": "[encoded data removed]",
      "text/plain": [
       "<Figure size 1080x432 with 1 Axes>"
      ]
     },
     "metadata": {
      "needs_background": "light"
     },
     "output_type": "display_data"
    }
   ],
   "source": [
    "plt.figure(figsize = (15, 6))\n",
    "\n",
    "plt.scatter(df6['total_sqft'], df6['bhk'])\n",
    "\n",
    "plt.xlabel('Total sq. ft.')\n",
    "plt.ylabel('BHK')"
   ]
  },
  {
   "cell_type": "markdown",
   "id": "5b59be96",
   "metadata": {},
   "source": [
    "In some cases, the price per square feet is higher for lesser bhk value"
   ]
  },
  {
   "cell_type": "code",
   "execution_count": 210,
   "id": "08c18ffb",
   "metadata": {},
   "outputs": [
    {
     "data": {
      "text/plain": [
       "array(['7th Phase JP Nagar', 'Bannerghatta Road', 'Chandapura',\n",
       "       'Electronic City', 'Electronic City Phase II', 'Haralur Road',\n",
       "       'Hebbal', 'Hennur Road', 'Kanakpura Road', 'Marathahalli',\n",
       "       'Raja Rajeshwari Nagar', 'Rajaji Nagar', 'Sarjapur  Road',\n",
       "       'Thanisandra', 'Uttarahalli', 'Whitefield', 'Yelahanka', 'other'],\n",
       "      dtype=object)"
      ]
     },
     "execution_count": 210,
     "metadata": {},
     "output_type": "execute_result"
    }
   ],
   "source": [
    "df6['location'].unique()"
   ]
  },
  {
   "cell_type": "code",
   "execution_count": 211,
   "id": "58967097",
   "metadata": {},
   "outputs": [],
   "source": [
    "def plot_scatter_chart(df, location):\n",
    "    bhk2 = df[(df['location'] == location) & (df['bhk'] == 2)]\n",
    "    bhk3 = df[(df['location'] == location) & (df['bhk'] == 3)]\n",
    "    \n",
    "    plt.figure(figsize = (15, 6))\n",
    "    \n",
    "    plt.scatter(bhk2['total_sqft'], bhk2['price'], color = 'blue',  label = '2BHK', s = 50)\n",
    "    plt.scatter(bhk3['total_sqft'], bhk3['price'], marker = '+', color = 'green',  label = '3BHK', s = 50)\n",
    "    \n",
    "    plt.xlabel('Total square feet area')\n",
    "    plt.ylabel('Price (in lakhs)')\n",
    "    plt.title(location)\n",
    "    plt.legend()  "
   ]
  },
  {
   "cell_type": "code",
   "execution_count": 212,
   "id": "8476fc24",
   "metadata": {},
   "outputs": [
    {
     "data": {
      "image/png": "[encoded data removed]",
      "text/plain": [
       "<Figure size 1080x432 with 1 Axes>"
      ]
     },
     "metadata": {
      "needs_background": "light"
     },
     "output_type": "display_data"
    }
   ],
   "source": [
    "plot_scatter_chart(df6, 'Rajaji Nagar')"
   ]
  },
  {
   "cell_type": "code",
   "execution_count": 213,
   "id": "0ec98c90",
   "metadata": {},
   "outputs": [
    {
     "data": {
      "image/png": "[encoded data removed]",
      "text/plain": [
       "<Figure size 1080x432 with 1 Axes>"
      ]
     },
     "metadata": {
      "needs_background": "light"
     },
     "output_type": "display_data"
    }
   ],
   "source": [
    "plot_scatter_chart(df6, 'Hennur Road')"
   ]
  },
  {
   "cell_type": "code",
   "execution_count": 214,
   "id": "c8e9bf32",
   "metadata": {},
   "outputs": [
    {
     "data": {
      "image/png": "[encoded data removed]",
      "text/plain": [
       "<Figure size 1080x432 with 1 Axes>"
      ]
     },
     "metadata": {
      "needs_background": "light"
     },
     "output_type": "display_data"
    }
   ],
   "source": [
    "plot_scatter_chart(df6, 'Whitefield')"
   ]
  },
  {
   "cell_type": "code",
   "execution_count": 215,
   "id": "bc70112f",
   "metadata": {},
   "outputs": [
    {
     "data": {
      "text/plain": [
       "location            bhk \n",
       "7th Phase JP Nagar  1.0     6133.333008\n",
       "                    2.0     6234.704590\n",
       "                    3.0     6612.861816\n",
       "                    4.0     6028.220703\n",
       "Bannerghatta Road   1.0     4932.455566\n",
       "                               ...     \n",
       "other               9.0     3807.695557\n",
       "                    10.0    3717.592529\n",
       "                    11.0    4850.000000\n",
       "                    13.0    5069.124512\n",
       "                    16.0    5500.000000\n",
       "Name: price_per_sqft, Length: 88, dtype: float32"
      ]
     },
     "execution_count": 215,
     "metadata": {},
     "output_type": "execute_result"
    }
   ],
   "source": [
    "df6.groupby(['location', 'bhk'])['price_per_sqft'].mean()"
   ]
  },
  {
   "cell_type": "markdown",
   "id": "1f3c2e9c",
   "metadata": {},
   "source": [
    "We should remove properties where for the same location, the price of 3BHk is less than that of 2 BHK. We'll build a dictionary for stats per bhk."
   ]
  },
  {
   "cell_type": "markdown",
   "id": "e26b7e0a",
   "metadata": {},
   "source": [
    "We can remove those 2 BHK apartments whose price per sq. ft. is less than mean price per sq. ft. of 1 BHK apartment. "
   ]
  },
  {
   "cell_type": "code",
   "execution_count": 216,
   "id": "7a35091a",
   "metadata": {},
   "outputs": [],
   "source": [
    "def remove_bhk_outliers(df):\n",
    "    exclude_indices = np.array([])\n",
    "    \n",
    "    for location, location_df in df.groupby('location'):\n",
    "        bhk_stats = {}\n",
    "        \n",
    "        for bhk, bhk_df in location_df.groupby('bhk'):\n",
    "            bhk_stats[bhk] = {\n",
    "                'mean': np.mean(bhk_df['price_per_sqft']),\n",
    "                'sd': np.std(bhk_df['price_per_sqft']),\n",
    "                'count': bhk_df.shape[0]\n",
    "            }\n",
    "        \n",
    "        for bhk, bhk_df in location_df.groupby('bhk'):\n",
    "            stats = bhk_stats.get(bhk - 1)\n",
    "            \n",
    "            if stats and stats['count'] > 5:\n",
    "                exclude_indices = np.append(exclude_indices, bhk_df[bhk_df['price_per_sqft'] < (stats['mean'])].index.values)"
   ]
  },
  {
   "cell_type": "code",
   "execution_count": 217,
   "id": "6951206b",
   "metadata": {},
   "outputs": [],
   "source": [
    "remove_bhk_outliers(df6)"
   ]
  },
  {
   "cell_type": "code",
   "execution_count": 218,
   "id": "098ecffb",
   "metadata": {},
   "outputs": [
    {
     "data": {
      "text/plain": [
       "(10944, 8)"
      ]
     },
     "execution_count": 218,
     "metadata": {},
     "output_type": "execute_result"
    }
   ],
   "source": [
    "df6.shape"
   ]
  },
  {
   "cell_type": "markdown",
   "id": "cb6c8c5a",
   "metadata": {},
   "source": [
    "In this dataset, we can see that the price (dependent variable) is continuous and having a linear relationship with total sq. ft and other independent variables. So, we will use Linear Regression method to predict the price. "
   ]
  },
  {
   "cell_type": "markdown",
   "id": "80361693",
   "metadata": {},
   "source": [
    "# Categorical Encoding"
   ]
  },
  {
   "cell_type": "code",
   "execution_count": 219,
   "id": "dcd80ff9",
   "metadata": {},
   "outputs": [
    {
     "data": {
      "text/plain": [
       "other                       8004\n",
       "Whitefield                   485\n",
       "Sarjapur  Road               301\n",
       "Electronic City              277\n",
       "Kanakpura Road               197\n",
       "Yelahanka                    170\n",
       "Raja Rajeshwari Nagar        161\n",
       "Thanisandra                  155\n",
       "Marathahalli                 149\n",
       "Uttarahalli                  149\n",
       "Bannerghatta Road            146\n",
       "Hennur Road                  132\n",
       "Hebbal                       126\n",
       "Haralur Road                 123\n",
       "Electronic City Phase II     122\n",
       "7th Phase JP Nagar           102\n",
       "Chandapura                    74\n",
       "Rajaji Nagar                  71\n",
       "Name: location, dtype: int64"
      ]
     },
     "execution_count": 219,
     "metadata": {},
     "output_type": "execute_result"
    }
   ],
   "source": [
    "df6['location'].value_counts()"
   ]
  },
  {
   "cell_type": "code",
   "execution_count": 220,
   "id": "fafb1ab3",
   "metadata": {},
   "outputs": [],
   "source": [
    "a = df6['location'].value_counts() < 8004"
   ]
  },
  {
   "cell_type": "code",
   "execution_count": 221,
   "id": "927b575f",
   "metadata": {},
   "outputs": [
    {
     "data": {
      "text/plain": [
       "Index(['other', 'Whitefield', 'Sarjapur  Road', 'Electronic City',\n",
       "       'Kanakpura Road', 'Yelahanka', 'Raja Rajeshwari Nagar', 'Thanisandra',\n",
       "       'Marathahalli', 'Uttarahalli', 'Bannerghatta Road', 'Hennur Road',\n",
       "       'Hebbal', 'Haralur Road', 'Electronic City Phase II',\n",
       "       '7th Phase JP Nagar', 'Chandapura', 'Rajaji Nagar'],\n",
       "      dtype='object')"
      ]
     },
     "execution_count": 221,
     "metadata": {},
     "output_type": "execute_result"
    }
   ],
   "source": [
    "a.index"
   ]
  },
  {
   "cell_type": "code",
   "execution_count": 222,
   "id": "88dcbf1c",
   "metadata": {},
   "outputs": [],
   "source": [
    "location_names = []\n",
    "\n",
    "for i, j in zip(a.index, a.values):\n",
    "    if j == True:\n",
    "        location_names.append(i)"
   ]
  },
  {
   "cell_type": "code",
   "execution_count": 223,
   "id": "8483e78f",
   "metadata": {},
   "outputs": [
    {
     "data": {
      "text/plain": [
       "['Whitefield',\n",
       " 'Sarjapur  Road',\n",
       " 'Electronic City',\n",
       " 'Kanakpura Road',\n",
       " 'Yelahanka',\n",
       " 'Raja Rajeshwari Nagar',\n",
       " 'Thanisandra',\n",
       " 'Marathahalli',\n",
       " 'Uttarahalli',\n",
       " 'Bannerghatta Road',\n",
       " 'Hennur Road',\n",
       " 'Hebbal',\n",
       " 'Haralur Road',\n",
       " 'Electronic City Phase II',\n",
       " '7th Phase JP Nagar',\n",
       " 'Chandapura',\n",
       " 'Rajaji Nagar']"
      ]
     },
     "execution_count": 223,
     "metadata": {},
     "output_type": "execute_result"
    }
   ],
   "source": [
    "location_names"
   ]
  },
  {
   "cell_type": "code",
   "execution_count": 224,
   "id": "ec81c951",
   "metadata": {},
   "outputs": [],
   "source": [
    "for i in location_names:\n",
    "    df6[i] = np.where(df6['location'] == i, 1, 0)"
   ]
  },
  {
   "cell_type": "code",
   "execution_count": 225,
   "id": "221d1c0c",
   "metadata": {},
   "outputs": [
    {
     "data": {
      "text/html": [
       "<div>\n",
       "<style scoped>\n",
       "    .dataframe tbody tr th:only-of-type {\n",
       "        vertical-align: middle;\n",
       "    }\n",
       "\n",
       "    .dataframe tbody tr th {\n",
       "        vertical-align: top;\n",
       "    }\n",
       "\n",
       "    .dataframe thead th {\n",
       "        text-align: right;\n",
       "    }\n",
       "</style>\n",
       "<table border=\"1\" class=\"dataframe\">\n",
       "  <thead>\n",
       "    <tr style=\"text-align: right;\">\n",
       "      <th></th>\n",
       "      <th>area_type</th>\n",
       "      <th>location</th>\n",
       "      <th>total_sqft</th>\n",
       "      <th>bath</th>\n",
       "      <th>balcony</th>\n",
       "      <th>price</th>\n",
       "      <th>bhk</th>\n",
       "      <th>price_per_sqft</th>\n",
       "      <th>Whitefield</th>\n",
       "      <th>Sarjapur  Road</th>\n",
       "      <th>...</th>\n",
       "      <th>Marathahalli</th>\n",
       "      <th>Uttarahalli</th>\n",
       "      <th>Bannerghatta Road</th>\n",
       "      <th>Hennur Road</th>\n",
       "      <th>Hebbal</th>\n",
       "      <th>Haralur Road</th>\n",
       "      <th>Electronic City Phase II</th>\n",
       "      <th>7th Phase JP Nagar</th>\n",
       "      <th>Chandapura</th>\n",
       "      <th>Rajaji Nagar</th>\n",
       "    </tr>\n",
       "  </thead>\n",
       "  <tbody>\n",
       "    <tr>\n",
       "      <th>0</th>\n",
       "      <td>Built-up  Area</td>\n",
       "      <td>7th Phase JP Nagar</td>\n",
       "      <td>1080</td>\n",
       "      <td>2.0</td>\n",
       "      <td>2.0</td>\n",
       "      <td>72.00</td>\n",
       "      <td>2.0</td>\n",
       "      <td>6666.666504</td>\n",
       "      <td>0</td>\n",
       "      <td>0</td>\n",
       "      <td>...</td>\n",
       "      <td>0</td>\n",
       "      <td>0</td>\n",
       "      <td>0</td>\n",
       "      <td>0</td>\n",
       "      <td>0</td>\n",
       "      <td>0</td>\n",
       "      <td>0</td>\n",
       "      <td>1</td>\n",
       "      <td>0</td>\n",
       "      <td>0</td>\n",
       "    </tr>\n",
       "    <tr>\n",
       "      <th>1</th>\n",
       "      <td>Super built-up  Area</td>\n",
       "      <td>7th Phase JP Nagar</td>\n",
       "      <td>1270</td>\n",
       "      <td>2.0</td>\n",
       "      <td>2.0</td>\n",
       "      <td>93.00</td>\n",
       "      <td>2.0</td>\n",
       "      <td>7322.834473</td>\n",
       "      <td>0</td>\n",
       "      <td>0</td>\n",
       "      <td>...</td>\n",
       "      <td>0</td>\n",
       "      <td>0</td>\n",
       "      <td>0</td>\n",
       "      <td>0</td>\n",
       "      <td>0</td>\n",
       "      <td>0</td>\n",
       "      <td>0</td>\n",
       "      <td>1</td>\n",
       "      <td>0</td>\n",
       "      <td>0</td>\n",
       "    </tr>\n",
       "    <tr>\n",
       "      <th>2</th>\n",
       "      <td>Built-up  Area</td>\n",
       "      <td>7th Phase JP Nagar</td>\n",
       "      <td>1420</td>\n",
       "      <td>2.0</td>\n",
       "      <td>1.0</td>\n",
       "      <td>100.00</td>\n",
       "      <td>3.0</td>\n",
       "      <td>7042.253418</td>\n",
       "      <td>0</td>\n",
       "      <td>0</td>\n",
       "      <td>...</td>\n",
       "      <td>0</td>\n",
       "      <td>0</td>\n",
       "      <td>0</td>\n",
       "      <td>0</td>\n",
       "      <td>0</td>\n",
       "      <td>0</td>\n",
       "      <td>0</td>\n",
       "      <td>1</td>\n",
       "      <td>0</td>\n",
       "      <td>0</td>\n",
       "    </tr>\n",
       "    <tr>\n",
       "      <th>3</th>\n",
       "      <td>Built-up  Area</td>\n",
       "      <td>7th Phase JP Nagar</td>\n",
       "      <td>1850</td>\n",
       "      <td>3.0</td>\n",
       "      <td>1.0</td>\n",
       "      <td>150.00</td>\n",
       "      <td>3.0</td>\n",
       "      <td>8108.107910</td>\n",
       "      <td>0</td>\n",
       "      <td>0</td>\n",
       "      <td>...</td>\n",
       "      <td>0</td>\n",
       "      <td>0</td>\n",
       "      <td>0</td>\n",
       "      <td>0</td>\n",
       "      <td>0</td>\n",
       "      <td>0</td>\n",
       "      <td>0</td>\n",
       "      <td>1</td>\n",
       "      <td>0</td>\n",
       "      <td>0</td>\n",
       "    </tr>\n",
       "    <tr>\n",
       "      <th>4</th>\n",
       "      <td>Built-up  Area</td>\n",
       "      <td>7th Phase JP Nagar</td>\n",
       "      <td>1245</td>\n",
       "      <td>2.0</td>\n",
       "      <td>1.0</td>\n",
       "      <td>94.00</td>\n",
       "      <td>2.0</td>\n",
       "      <td>7550.200684</td>\n",
       "      <td>0</td>\n",
       "      <td>0</td>\n",
       "      <td>...</td>\n",
       "      <td>0</td>\n",
       "      <td>0</td>\n",
       "      <td>0</td>\n",
       "      <td>0</td>\n",
       "      <td>0</td>\n",
       "      <td>0</td>\n",
       "      <td>0</td>\n",
       "      <td>1</td>\n",
       "      <td>0</td>\n",
       "      <td>0</td>\n",
       "    </tr>\n",
       "    <tr>\n",
       "      <th>...</th>\n",
       "      <td>...</td>\n",
       "      <td>...</td>\n",
       "      <td>...</td>\n",
       "      <td>...</td>\n",
       "      <td>...</td>\n",
       "      <td>...</td>\n",
       "      <td>...</td>\n",
       "      <td>...</td>\n",
       "      <td>...</td>\n",
       "      <td>...</td>\n",
       "      <td>...</td>\n",
       "      <td>...</td>\n",
       "      <td>...</td>\n",
       "      <td>...</td>\n",
       "      <td>...</td>\n",
       "      <td>...</td>\n",
       "      <td>...</td>\n",
       "      <td>...</td>\n",
       "      <td>...</td>\n",
       "      <td>...</td>\n",
       "      <td>...</td>\n",
       "    </tr>\n",
       "    <tr>\n",
       "      <th>10939</th>\n",
       "      <td>Super built-up  Area</td>\n",
       "      <td>other</td>\n",
       "      <td>1050</td>\n",
       "      <td>2.0</td>\n",
       "      <td>2.0</td>\n",
       "      <td>52.71</td>\n",
       "      <td>2.0</td>\n",
       "      <td>5020.000000</td>\n",
       "      <td>0</td>\n",
       "      <td>0</td>\n",
       "      <td>...</td>\n",
       "      <td>0</td>\n",
       "      <td>0</td>\n",
       "      <td>0</td>\n",
       "      <td>0</td>\n",
       "      <td>0</td>\n",
       "      <td>0</td>\n",
       "      <td>0</td>\n",
       "      <td>0</td>\n",
       "      <td>0</td>\n",
       "      <td>0</td>\n",
       "    </tr>\n",
       "    <tr>\n",
       "      <th>10940</th>\n",
       "      <td>Super built-up  Area</td>\n",
       "      <td>other</td>\n",
       "      <td>1262</td>\n",
       "      <td>2.0</td>\n",
       "      <td>2.0</td>\n",
       "      <td>47.00</td>\n",
       "      <td>2.0</td>\n",
       "      <td>3724.247314</td>\n",
       "      <td>0</td>\n",
       "      <td>0</td>\n",
       "      <td>...</td>\n",
       "      <td>0</td>\n",
       "      <td>0</td>\n",
       "      <td>0</td>\n",
       "      <td>0</td>\n",
       "      <td>0</td>\n",
       "      <td>0</td>\n",
       "      <td>0</td>\n",
       "      <td>0</td>\n",
       "      <td>0</td>\n",
       "      <td>0</td>\n",
       "    </tr>\n",
       "    <tr>\n",
       "      <th>10941</th>\n",
       "      <td>Super built-up  Area</td>\n",
       "      <td>other</td>\n",
       "      <td>1715</td>\n",
       "      <td>3.0</td>\n",
       "      <td>3.0</td>\n",
       "      <td>112.00</td>\n",
       "      <td>3.0</td>\n",
       "      <td>6530.612305</td>\n",
       "      <td>0</td>\n",
       "      <td>0</td>\n",
       "      <td>...</td>\n",
       "      <td>0</td>\n",
       "      <td>0</td>\n",
       "      <td>0</td>\n",
       "      <td>0</td>\n",
       "      <td>0</td>\n",
       "      <td>0</td>\n",
       "      <td>0</td>\n",
       "      <td>0</td>\n",
       "      <td>0</td>\n",
       "      <td>0</td>\n",
       "    </tr>\n",
       "    <tr>\n",
       "      <th>10942</th>\n",
       "      <td>Super built-up  Area</td>\n",
       "      <td>other</td>\n",
       "      <td>4689</td>\n",
       "      <td>4.0</td>\n",
       "      <td>1.0</td>\n",
       "      <td>488.00</td>\n",
       "      <td>4.0</td>\n",
       "      <td>10407.335938</td>\n",
       "      <td>0</td>\n",
       "      <td>0</td>\n",
       "      <td>...</td>\n",
       "      <td>0</td>\n",
       "      <td>0</td>\n",
       "      <td>0</td>\n",
       "      <td>0</td>\n",
       "      <td>0</td>\n",
       "      <td>0</td>\n",
       "      <td>0</td>\n",
       "      <td>0</td>\n",
       "      <td>0</td>\n",
       "      <td>0</td>\n",
       "    </tr>\n",
       "    <tr>\n",
       "      <th>10943</th>\n",
       "      <td>Super built-up  Area</td>\n",
       "      <td>other</td>\n",
       "      <td>550</td>\n",
       "      <td>1.0</td>\n",
       "      <td>1.0</td>\n",
       "      <td>17.00</td>\n",
       "      <td>1.0</td>\n",
       "      <td>3090.909180</td>\n",
       "      <td>0</td>\n",
       "      <td>0</td>\n",
       "      <td>...</td>\n",
       "      <td>0</td>\n",
       "      <td>0</td>\n",
       "      <td>0</td>\n",
       "      <td>0</td>\n",
       "      <td>0</td>\n",
       "      <td>0</td>\n",
       "      <td>0</td>\n",
       "      <td>0</td>\n",
       "      <td>0</td>\n",
       "      <td>0</td>\n",
       "    </tr>\n",
       "  </tbody>\n",
       "</table>\n",
       "<p>10944 rows × 25 columns</p>\n",
       "</div>"
      ],
      "text/plain": [
       "                  area_type            location  total_sqft  bath  balcony  \\\n",
       "0            Built-up  Area  7th Phase JP Nagar        1080   2.0      2.0   \n",
       "1      Super built-up  Area  7th Phase JP Nagar        1270   2.0      2.0   \n",
       "2            Built-up  Area  7th Phase JP Nagar        1420   2.0      1.0   \n",
       "3            Built-up  Area  7th Phase JP Nagar        1850   3.0      1.0   \n",
       "4            Built-up  Area  7th Phase JP Nagar        1245   2.0      1.0   \n",
       "...                     ...                 ...         ...   ...      ...   \n",
       "10939  Super built-up  Area               other        1050   2.0      2.0   \n",
       "10940  Super built-up  Area               other        1262   2.0      2.0   \n",
       "10941  Super built-up  Area               other        1715   3.0      3.0   \n",
       "10942  Super built-up  Area               other        4689   4.0      1.0   \n",
       "10943  Super built-up  Area               other         550   1.0      1.0   \n",
       "\n",
       "        price  bhk  price_per_sqft  Whitefield  Sarjapur  Road  ...  \\\n",
       "0       72.00  2.0     6666.666504           0               0  ...   \n",
       "1       93.00  2.0     7322.834473           0               0  ...   \n",
       "2      100.00  3.0     7042.253418           0               0  ...   \n",
       "3      150.00  3.0     8108.107910           0               0  ...   \n",
       "4       94.00  2.0     7550.200684           0               0  ...   \n",
       "...       ...  ...             ...         ...             ...  ...   \n",
       "10939   52.71  2.0     5020.000000           0               0  ...   \n",
       "10940   47.00  2.0     3724.247314           0               0  ...   \n",
       "10941  112.00  3.0     6530.612305           0               0  ...   \n",
       "10942  488.00  4.0    10407.335938           0               0  ...   \n",
       "10943   17.00  1.0     3090.909180           0               0  ...   \n",
       "\n",
       "       Marathahalli  Uttarahalli  Bannerghatta Road  Hennur Road  Hebbal  \\\n",
       "0                 0            0                  0            0       0   \n",
       "1                 0            0                  0            0       0   \n",
       "2                 0            0                  0            0       0   \n",
       "3                 0            0                  0            0       0   \n",
       "4                 0            0                  0            0       0   \n",
       "...             ...          ...                ...          ...     ...   \n",
       "10939             0            0                  0            0       0   \n",
       "10940             0            0                  0            0       0   \n",
       "10941             0            0                  0            0       0   \n",
       "10942             0            0                  0            0       0   \n",
       "10943             0            0                  0            0       0   \n",
       "\n",
       "       Haralur Road  Electronic City Phase II  7th Phase JP Nagar  Chandapura  \\\n",
       "0                 0                         0                   1           0   \n",
       "1                 0                         0                   1           0   \n",
       "2                 0                         0                   1           0   \n",
       "3                 0                         0                   1           0   \n",
       "4                 0                         0                   1           0   \n",
       "...             ...                       ...                 ...         ...   \n",
       "10939             0                         0                   0           0   \n",
       "10940             0                         0                   0           0   \n",
       "10941             0                         0                   0           0   \n",
       "10942             0                         0                   0           0   \n",
       "10943             0                         0                   0           0   \n",
       "\n",
       "       Rajaji Nagar  \n",
       "0                 0  \n",
       "1                 0  \n",
       "2                 0  \n",
       "3                 0  \n",
       "4                 0  \n",
       "...             ...  \n",
       "10939             0  \n",
       "10940             0  \n",
       "10941             0  \n",
       "10942             0  \n",
       "10943             0  \n",
       "\n",
       "[10944 rows x 25 columns]"
      ]
     },
     "execution_count": 225,
     "metadata": {},
     "output_type": "execute_result"
    }
   ],
   "source": [
    "df6"
   ]
  },
  {
   "cell_type": "code",
   "execution_count": 226,
   "id": "b4dd7a4c",
   "metadata": {},
   "outputs": [
    {
     "data": {
      "text/plain": [
       "Super built-up  Area    8057\n",
       "Built-up  Area          2087\n",
       "Plot  Area               727\n",
       "Carpet  Area              73\n",
       "Name: area_type, dtype: int64"
      ]
     },
     "execution_count": 226,
     "metadata": {},
     "output_type": "execute_result"
    }
   ],
   "source": [
    "df6['area_type'].value_counts()"
   ]
  },
  {
   "cell_type": "markdown",
   "id": "87b70345",
   "metadata": {},
   "source": [
    "We should remove 'Carpet Area' because it is very less in number. "
   ]
  },
  {
   "cell_type": "code",
   "execution_count": 227,
   "id": "6f17c521",
   "metadata": {},
   "outputs": [
    {
     "data": {
      "text/plain": [
       "Index(['Super built-up  Area', 'Built-up  Area', 'Plot  Area'], dtype='object')"
      ]
     },
     "execution_count": 227,
     "metadata": {},
     "output_type": "execute_result"
    }
   ],
   "source": [
    "df6['area_type'].value_counts().head(3).index"
   ]
  },
  {
   "cell_type": "code",
   "execution_count": 228,
   "id": "d6672bab",
   "metadata": {},
   "outputs": [
    {
     "data": {
      "text/plain": [
       "['Super built-up  Area', 'Built-up  Area', 'Plot  Area']"
      ]
     },
     "execution_count": 228,
     "metadata": {},
     "output_type": "execute_result"
    }
   ],
   "source": [
    "top3_area = [i for i in df6['area_type'].value_counts().head(3).index]\n",
    "top3_area"
   ]
  },
  {
   "cell_type": "code",
   "execution_count": 229,
   "id": "4d73bb39",
   "metadata": {},
   "outputs": [],
   "source": [
    "for i in top3_area:\n",
    "    df6[i] = np.where(df6['area_type'] == i, 1, 0)"
   ]
  },
  {
   "cell_type": "code",
   "execution_count": 230,
   "id": "5bb5bd8a",
   "metadata": {},
   "outputs": [
    {
     "data": {
      "text/html": [
       "<div>\n",
       "<style scoped>\n",
       "    .dataframe tbody tr th:only-of-type {\n",
       "        vertical-align: middle;\n",
       "    }\n",
       "\n",
       "    .dataframe tbody tr th {\n",
       "        vertical-align: top;\n",
       "    }\n",
       "\n",
       "    .dataframe thead th {\n",
       "        text-align: right;\n",
       "    }\n",
       "</style>\n",
       "<table border=\"1\" class=\"dataframe\">\n",
       "  <thead>\n",
       "    <tr style=\"text-align: right;\">\n",
       "      <th></th>\n",
       "      <th>area_type</th>\n",
       "      <th>location</th>\n",
       "      <th>total_sqft</th>\n",
       "      <th>bath</th>\n",
       "      <th>balcony</th>\n",
       "      <th>price</th>\n",
       "      <th>bhk</th>\n",
       "      <th>price_per_sqft</th>\n",
       "      <th>Whitefield</th>\n",
       "      <th>Sarjapur  Road</th>\n",
       "      <th>...</th>\n",
       "      <th>Hennur Road</th>\n",
       "      <th>Hebbal</th>\n",
       "      <th>Haralur Road</th>\n",
       "      <th>Electronic City Phase II</th>\n",
       "      <th>7th Phase JP Nagar</th>\n",
       "      <th>Chandapura</th>\n",
       "      <th>Rajaji Nagar</th>\n",
       "      <th>Super built-up  Area</th>\n",
       "      <th>Built-up  Area</th>\n",
       "      <th>Plot  Area</th>\n",
       "    </tr>\n",
       "  </thead>\n",
       "  <tbody>\n",
       "    <tr>\n",
       "      <th>0</th>\n",
       "      <td>Built-up  Area</td>\n",
       "      <td>7th Phase JP Nagar</td>\n",
       "      <td>1080</td>\n",
       "      <td>2.0</td>\n",
       "      <td>2.0</td>\n",
       "      <td>72.0</td>\n",
       "      <td>2.0</td>\n",
       "      <td>6666.666504</td>\n",
       "      <td>0</td>\n",
       "      <td>0</td>\n",
       "      <td>...</td>\n",
       "      <td>0</td>\n",
       "      <td>0</td>\n",
       "      <td>0</td>\n",
       "      <td>0</td>\n",
       "      <td>1</td>\n",
       "      <td>0</td>\n",
       "      <td>0</td>\n",
       "      <td>0</td>\n",
       "      <td>1</td>\n",
       "      <td>0</td>\n",
       "    </tr>\n",
       "    <tr>\n",
       "      <th>1</th>\n",
       "      <td>Super built-up  Area</td>\n",
       "      <td>7th Phase JP Nagar</td>\n",
       "      <td>1270</td>\n",
       "      <td>2.0</td>\n",
       "      <td>2.0</td>\n",
       "      <td>93.0</td>\n",
       "      <td>2.0</td>\n",
       "      <td>7322.834473</td>\n",
       "      <td>0</td>\n",
       "      <td>0</td>\n",
       "      <td>...</td>\n",
       "      <td>0</td>\n",
       "      <td>0</td>\n",
       "      <td>0</td>\n",
       "      <td>0</td>\n",
       "      <td>1</td>\n",
       "      <td>0</td>\n",
       "      <td>0</td>\n",
       "      <td>1</td>\n",
       "      <td>0</td>\n",
       "      <td>0</td>\n",
       "    </tr>\n",
       "    <tr>\n",
       "      <th>2</th>\n",
       "      <td>Built-up  Area</td>\n",
       "      <td>7th Phase JP Nagar</td>\n",
       "      <td>1420</td>\n",
       "      <td>2.0</td>\n",
       "      <td>1.0</td>\n",
       "      <td>100.0</td>\n",
       "      <td>3.0</td>\n",
       "      <td>7042.253418</td>\n",
       "      <td>0</td>\n",
       "      <td>0</td>\n",
       "      <td>...</td>\n",
       "      <td>0</td>\n",
       "      <td>0</td>\n",
       "      <td>0</td>\n",
       "      <td>0</td>\n",
       "      <td>1</td>\n",
       "      <td>0</td>\n",
       "      <td>0</td>\n",
       "      <td>0</td>\n",
       "      <td>1</td>\n",
       "      <td>0</td>\n",
       "    </tr>\n",
       "    <tr>\n",
       "      <th>3</th>\n",
       "      <td>Built-up  Area</td>\n",
       "      <td>7th Phase JP Nagar</td>\n",
       "      <td>1850</td>\n",
       "      <td>3.0</td>\n",
       "      <td>1.0</td>\n",
       "      <td>150.0</td>\n",
       "      <td>3.0</td>\n",
       "      <td>8108.107910</td>\n",
       "      <td>0</td>\n",
       "      <td>0</td>\n",
       "      <td>...</td>\n",
       "      <td>0</td>\n",
       "      <td>0</td>\n",
       "      <td>0</td>\n",
       "      <td>0</td>\n",
       "      <td>1</td>\n",
       "      <td>0</td>\n",
       "      <td>0</td>\n",
       "      <td>0</td>\n",
       "      <td>1</td>\n",
       "      <td>0</td>\n",
       "    </tr>\n",
       "    <tr>\n",
       "      <th>4</th>\n",
       "      <td>Built-up  Area</td>\n",
       "      <td>7th Phase JP Nagar</td>\n",
       "      <td>1245</td>\n",
       "      <td>2.0</td>\n",
       "      <td>1.0</td>\n",
       "      <td>94.0</td>\n",
       "      <td>2.0</td>\n",
       "      <td>7550.200684</td>\n",
       "      <td>0</td>\n",
       "      <td>0</td>\n",
       "      <td>...</td>\n",
       "      <td>0</td>\n",
       "      <td>0</td>\n",
       "      <td>0</td>\n",
       "      <td>0</td>\n",
       "      <td>1</td>\n",
       "      <td>0</td>\n",
       "      <td>0</td>\n",
       "      <td>0</td>\n",
       "      <td>1</td>\n",
       "      <td>0</td>\n",
       "    </tr>\n",
       "  </tbody>\n",
       "</table>\n",
       "<p>5 rows × 28 columns</p>\n",
       "</div>"
      ],
      "text/plain": [
       "              area_type            location  total_sqft  bath  balcony  price  \\\n",
       "0        Built-up  Area  7th Phase JP Nagar        1080   2.0      2.0   72.0   \n",
       "1  Super built-up  Area  7th Phase JP Nagar        1270   2.0      2.0   93.0   \n",
       "2        Built-up  Area  7th Phase JP Nagar        1420   2.0      1.0  100.0   \n",
       "3        Built-up  Area  7th Phase JP Nagar        1850   3.0      1.0  150.0   \n",
       "4        Built-up  Area  7th Phase JP Nagar        1245   2.0      1.0   94.0   \n",
       "\n",
       "   bhk  price_per_sqft  Whitefield  Sarjapur  Road  ...  Hennur Road  Hebbal  \\\n",
       "0  2.0     6666.666504           0               0  ...            0       0   \n",
       "1  2.0     7322.834473           0               0  ...            0       0   \n",
       "2  3.0     7042.253418           0               0  ...            0       0   \n",
       "3  3.0     8108.107910           0               0  ...            0       0   \n",
       "4  2.0     7550.200684           0               0  ...            0       0   \n",
       "\n",
       "   Haralur Road  Electronic City Phase II  7th Phase JP Nagar  Chandapura  \\\n",
       "0             0                         0                   1           0   \n",
       "1             0                         0                   1           0   \n",
       "2             0                         0                   1           0   \n",
       "3             0                         0                   1           0   \n",
       "4             0                         0                   1           0   \n",
       "\n",
       "   Rajaji Nagar  Super built-up  Area  Built-up  Area  Plot  Area  \n",
       "0             0                     0               1           0  \n",
       "1             0                     1               0           0  \n",
       "2             0                     0               1           0  \n",
       "3             0                     0               1           0  \n",
       "4             0                     0               1           0  \n",
       "\n",
       "[5 rows x 28 columns]"
      ]
     },
     "execution_count": 230,
     "metadata": {},
     "output_type": "execute_result"
    }
   ],
   "source": [
    "df6.head()"
   ]
  },
  {
   "cell_type": "code",
   "execution_count": 231,
   "id": "30c9c85f",
   "metadata": {},
   "outputs": [],
   "source": [
    "df7 = df6.drop(['area_type', 'location', 'price_per_sqft'], axis = 1)"
   ]
  },
  {
   "cell_type": "code",
   "execution_count": 232,
   "id": "f5465e8e",
   "metadata": {},
   "outputs": [
    {
     "data": {
      "text/html": [
       "<div>\n",
       "<style scoped>\n",
       "    .dataframe tbody tr th:only-of-type {\n",
       "        vertical-align: middle;\n",
       "    }\n",
       "\n",
       "    .dataframe tbody tr th {\n",
       "        vertical-align: top;\n",
       "    }\n",
       "\n",
       "    .dataframe thead th {\n",
       "        text-align: right;\n",
       "    }\n",
       "</style>\n",
       "<table border=\"1\" class=\"dataframe\">\n",
       "  <thead>\n",
       "    <tr style=\"text-align: right;\">\n",
       "      <th></th>\n",
       "      <th>total_sqft</th>\n",
       "      <th>bath</th>\n",
       "      <th>balcony</th>\n",
       "      <th>price</th>\n",
       "      <th>bhk</th>\n",
       "      <th>Whitefield</th>\n",
       "      <th>Sarjapur  Road</th>\n",
       "      <th>Electronic City</th>\n",
       "      <th>Kanakpura Road</th>\n",
       "      <th>Yelahanka</th>\n",
       "      <th>...</th>\n",
       "      <th>Hennur Road</th>\n",
       "      <th>Hebbal</th>\n",
       "      <th>Haralur Road</th>\n",
       "      <th>Electronic City Phase II</th>\n",
       "      <th>7th Phase JP Nagar</th>\n",
       "      <th>Chandapura</th>\n",
       "      <th>Rajaji Nagar</th>\n",
       "      <th>Super built-up  Area</th>\n",
       "      <th>Built-up  Area</th>\n",
       "      <th>Plot  Area</th>\n",
       "    </tr>\n",
       "  </thead>\n",
       "  <tbody>\n",
       "    <tr>\n",
       "      <th>0</th>\n",
       "      <td>1080</td>\n",
       "      <td>2.0</td>\n",
       "      <td>2.0</td>\n",
       "      <td>72.00</td>\n",
       "      <td>2.0</td>\n",
       "      <td>0</td>\n",
       "      <td>0</td>\n",
       "      <td>0</td>\n",
       "      <td>0</td>\n",
       "      <td>0</td>\n",
       "      <td>...</td>\n",
       "      <td>0</td>\n",
       "      <td>0</td>\n",
       "      <td>0</td>\n",
       "      <td>0</td>\n",
       "      <td>1</td>\n",
       "      <td>0</td>\n",
       "      <td>0</td>\n",
       "      <td>0</td>\n",
       "      <td>1</td>\n",
       "      <td>0</td>\n",
       "    </tr>\n",
       "    <tr>\n",
       "      <th>1</th>\n",
       "      <td>1270</td>\n",
       "      <td>2.0</td>\n",
       "      <td>2.0</td>\n",
       "      <td>93.00</td>\n",
       "      <td>2.0</td>\n",
       "      <td>0</td>\n",
       "      <td>0</td>\n",
       "      <td>0</td>\n",
       "      <td>0</td>\n",
       "      <td>0</td>\n",
       "      <td>...</td>\n",
       "      <td>0</td>\n",
       "      <td>0</td>\n",
       "      <td>0</td>\n",
       "      <td>0</td>\n",
       "      <td>1</td>\n",
       "      <td>0</td>\n",
       "      <td>0</td>\n",
       "      <td>1</td>\n",
       "      <td>0</td>\n",
       "      <td>0</td>\n",
       "    </tr>\n",
       "    <tr>\n",
       "      <th>2</th>\n",
       "      <td>1420</td>\n",
       "      <td>2.0</td>\n",
       "      <td>1.0</td>\n",
       "      <td>100.00</td>\n",
       "      <td>3.0</td>\n",
       "      <td>0</td>\n",
       "      <td>0</td>\n",
       "      <td>0</td>\n",
       "      <td>0</td>\n",
       "      <td>0</td>\n",
       "      <td>...</td>\n",
       "      <td>0</td>\n",
       "      <td>0</td>\n",
       "      <td>0</td>\n",
       "      <td>0</td>\n",
       "      <td>1</td>\n",
       "      <td>0</td>\n",
       "      <td>0</td>\n",
       "      <td>0</td>\n",
       "      <td>1</td>\n",
       "      <td>0</td>\n",
       "    </tr>\n",
       "    <tr>\n",
       "      <th>3</th>\n",
       "      <td>1850</td>\n",
       "      <td>3.0</td>\n",
       "      <td>1.0</td>\n",
       "      <td>150.00</td>\n",
       "      <td>3.0</td>\n",
       "      <td>0</td>\n",
       "      <td>0</td>\n",
       "      <td>0</td>\n",
       "      <td>0</td>\n",
       "      <td>0</td>\n",
       "      <td>...</td>\n",
       "      <td>0</td>\n",
       "      <td>0</td>\n",
       "      <td>0</td>\n",
       "      <td>0</td>\n",
       "      <td>1</td>\n",
       "      <td>0</td>\n",
       "      <td>0</td>\n",
       "      <td>0</td>\n",
       "      <td>1</td>\n",
       "      <td>0</td>\n",
       "    </tr>\n",
       "    <tr>\n",
       "      <th>4</th>\n",
       "      <td>1245</td>\n",
       "      <td>2.0</td>\n",
       "      <td>1.0</td>\n",
       "      <td>94.00</td>\n",
       "      <td>2.0</td>\n",
       "      <td>0</td>\n",
       "      <td>0</td>\n",
       "      <td>0</td>\n",
       "      <td>0</td>\n",
       "      <td>0</td>\n",
       "      <td>...</td>\n",
       "      <td>0</td>\n",
       "      <td>0</td>\n",
       "      <td>0</td>\n",
       "      <td>0</td>\n",
       "      <td>1</td>\n",
       "      <td>0</td>\n",
       "      <td>0</td>\n",
       "      <td>0</td>\n",
       "      <td>1</td>\n",
       "      <td>0</td>\n",
       "    </tr>\n",
       "    <tr>\n",
       "      <th>...</th>\n",
       "      <td>...</td>\n",
       "      <td>...</td>\n",
       "      <td>...</td>\n",
       "      <td>...</td>\n",
       "      <td>...</td>\n",
       "      <td>...</td>\n",
       "      <td>...</td>\n",
       "      <td>...</td>\n",
       "      <td>...</td>\n",
       "      <td>...</td>\n",
       "      <td>...</td>\n",
       "      <td>...</td>\n",
       "      <td>...</td>\n",
       "      <td>...</td>\n",
       "      <td>...</td>\n",
       "      <td>...</td>\n",
       "      <td>...</td>\n",
       "      <td>...</td>\n",
       "      <td>...</td>\n",
       "      <td>...</td>\n",
       "      <td>...</td>\n",
       "    </tr>\n",
       "    <tr>\n",
       "      <th>10939</th>\n",
       "      <td>1050</td>\n",
       "      <td>2.0</td>\n",
       "      <td>2.0</td>\n",
       "      <td>52.71</td>\n",
       "      <td>2.0</td>\n",
       "      <td>0</td>\n",
       "      <td>0</td>\n",
       "      <td>0</td>\n",
       "      <td>0</td>\n",
       "      <td>0</td>\n",
       "      <td>...</td>\n",
       "      <td>0</td>\n",
       "      <td>0</td>\n",
       "      <td>0</td>\n",
       "      <td>0</td>\n",
       "      <td>0</td>\n",
       "      <td>0</td>\n",
       "      <td>0</td>\n",
       "      <td>1</td>\n",
       "      <td>0</td>\n",
       "      <td>0</td>\n",
       "    </tr>\n",
       "    <tr>\n",
       "      <th>10940</th>\n",
       "      <td>1262</td>\n",
       "      <td>2.0</td>\n",
       "      <td>2.0</td>\n",
       "      <td>47.00</td>\n",
       "      <td>2.0</td>\n",
       "      <td>0</td>\n",
       "      <td>0</td>\n",
       "      <td>0</td>\n",
       "      <td>0</td>\n",
       "      <td>0</td>\n",
       "      <td>...</td>\n",
       "      <td>0</td>\n",
       "      <td>0</td>\n",
       "      <td>0</td>\n",
       "      <td>0</td>\n",
       "      <td>0</td>\n",
       "      <td>0</td>\n",
       "      <td>0</td>\n",
       "      <td>1</td>\n",
       "      <td>0</td>\n",
       "      <td>0</td>\n",
       "    </tr>\n",
       "    <tr>\n",
       "      <th>10941</th>\n",
       "      <td>1715</td>\n",
       "      <td>3.0</td>\n",
       "      <td>3.0</td>\n",
       "      <td>112.00</td>\n",
       "      <td>3.0</td>\n",
       "      <td>0</td>\n",
       "      <td>0</td>\n",
       "      <td>0</td>\n",
       "      <td>0</td>\n",
       "      <td>0</td>\n",
       "      <td>...</td>\n",
       "      <td>0</td>\n",
       "      <td>0</td>\n",
       "      <td>0</td>\n",
       "      <td>0</td>\n",
       "      <td>0</td>\n",
       "      <td>0</td>\n",
       "      <td>0</td>\n",
       "      <td>1</td>\n",
       "      <td>0</td>\n",
       "      <td>0</td>\n",
       "    </tr>\n",
       "    <tr>\n",
       "      <th>10942</th>\n",
       "      <td>4689</td>\n",
       "      <td>4.0</td>\n",
       "      <td>1.0</td>\n",
       "      <td>488.00</td>\n",
       "      <td>4.0</td>\n",
       "      <td>0</td>\n",
       "      <td>0</td>\n",
       "      <td>0</td>\n",
       "      <td>0</td>\n",
       "      <td>0</td>\n",
       "      <td>...</td>\n",
       "      <td>0</td>\n",
       "      <td>0</td>\n",
       "      <td>0</td>\n",
       "      <td>0</td>\n",
       "      <td>0</td>\n",
       "      <td>0</td>\n",
       "      <td>0</td>\n",
       "      <td>1</td>\n",
       "      <td>0</td>\n",
       "      <td>0</td>\n",
       "    </tr>\n",
       "    <tr>\n",
       "      <th>10943</th>\n",
       "      <td>550</td>\n",
       "      <td>1.0</td>\n",
       "      <td>1.0</td>\n",
       "      <td>17.00</td>\n",
       "      <td>1.0</td>\n",
       "      <td>0</td>\n",
       "      <td>0</td>\n",
       "      <td>0</td>\n",
       "      <td>0</td>\n",
       "      <td>0</td>\n",
       "      <td>...</td>\n",
       "      <td>0</td>\n",
       "      <td>0</td>\n",
       "      <td>0</td>\n",
       "      <td>0</td>\n",
       "      <td>0</td>\n",
       "      <td>0</td>\n",
       "      <td>0</td>\n",
       "      <td>1</td>\n",
       "      <td>0</td>\n",
       "      <td>0</td>\n",
       "    </tr>\n",
       "  </tbody>\n",
       "</table>\n",
       "<p>10944 rows × 25 columns</p>\n",
       "</div>"
      ],
      "text/plain": [
       "       total_sqft  bath  balcony   price  bhk  Whitefield  Sarjapur  Road  \\\n",
       "0            1080   2.0      2.0   72.00  2.0           0               0   \n",
       "1            1270   2.0      2.0   93.00  2.0           0               0   \n",
       "2            1420   2.0      1.0  100.00  3.0           0               0   \n",
       "3            1850   3.0      1.0  150.00  3.0           0               0   \n",
       "4            1245   2.0      1.0   94.00  2.0           0               0   \n",
       "...           ...   ...      ...     ...  ...         ...             ...   \n",
       "10939        1050   2.0      2.0   52.71  2.0           0               0   \n",
       "10940        1262   2.0      2.0   47.00  2.0           0               0   \n",
       "10941        1715   3.0      3.0  112.00  3.0           0               0   \n",
       "10942        4689   4.0      1.0  488.00  4.0           0               0   \n",
       "10943         550   1.0      1.0   17.00  1.0           0               0   \n",
       "\n",
       "       Electronic City  Kanakpura Road  Yelahanka  ...  Hennur Road  Hebbal  \\\n",
       "0                    0               0          0  ...            0       0   \n",
       "1                    0               0          0  ...            0       0   \n",
       "2                    0               0          0  ...            0       0   \n",
       "3                    0               0          0  ...            0       0   \n",
       "4                    0               0          0  ...            0       0   \n",
       "...                ...             ...        ...  ...          ...     ...   \n",
       "10939                0               0          0  ...            0       0   \n",
       "10940                0               0          0  ...            0       0   \n",
       "10941                0               0          0  ...            0       0   \n",
       "10942                0               0          0  ...            0       0   \n",
       "10943                0               0          0  ...            0       0   \n",
       "\n",
       "       Haralur Road  Electronic City Phase II  7th Phase JP Nagar  Chandapura  \\\n",
       "0                 0                         0                   1           0   \n",
       "1                 0                         0                   1           0   \n",
       "2                 0                         0                   1           0   \n",
       "3                 0                         0                   1           0   \n",
       "4                 0                         0                   1           0   \n",
       "...             ...                       ...                 ...         ...   \n",
       "10939             0                         0                   0           0   \n",
       "10940             0                         0                   0           0   \n",
       "10941             0                         0                   0           0   \n",
       "10942             0                         0                   0           0   \n",
       "10943             0                         0                   0           0   \n",
       "\n",
       "       Rajaji Nagar  Super built-up  Area  Built-up  Area  Plot  Area  \n",
       "0                 0                     0               1           0  \n",
       "1                 0                     1               0           0  \n",
       "2                 0                     0               1           0  \n",
       "3                 0                     0               1           0  \n",
       "4                 0                     0               1           0  \n",
       "...             ...                   ...             ...         ...  \n",
       "10939             0                     1               0           0  \n",
       "10940             0                     1               0           0  \n",
       "10941             0                     1               0           0  \n",
       "10942             0                     1               0           0  \n",
       "10943             0                     1               0           0  \n",
       "\n",
       "[10944 rows x 25 columns]"
      ]
     },
     "execution_count": 232,
     "metadata": {},
     "output_type": "execute_result"
    }
   ],
   "source": [
    "df7"
   ]
  },
  {
   "cell_type": "markdown",
   "id": "632432a5",
   "metadata": {},
   "source": [
    "# BUILD LINEAR REGRESSION MODEL"
   ]
  },
  {
   "cell_type": "markdown",
   "id": "9024e705",
   "metadata": {},
   "source": [
    "#### Firstly split the data into train and test"
   ]
  },
  {
   "cell_type": "code",
   "execution_count": 233,
   "id": "9efd5644",
   "metadata": {},
   "outputs": [],
   "source": [
    "x = df7.drop(['price'], axis = 1)      # X = independent variables\n",
    "y = df7['price']       #Y = dependent variable"
   ]
  },
  {
   "cell_type": "code",
   "execution_count": 83,
   "id": "8149e289",
   "metadata": {},
   "outputs": [
    {
     "data": {
      "text/html": [
       "<div>\n",
       "<style scoped>\n",
       "    .dataframe tbody tr th:only-of-type {\n",
       "        vertical-align: middle;\n",
       "    }\n",
       "\n",
       "    .dataframe tbody tr th {\n",
       "        vertical-align: top;\n",
       "    }\n",
       "\n",
       "    .dataframe thead th {\n",
       "        text-align: right;\n",
       "    }\n",
       "</style>\n",
       "<table border=\"1\" class=\"dataframe\">\n",
       "  <thead>\n",
       "    <tr style=\"text-align: right;\">\n",
       "      <th></th>\n",
       "      <th>total_sqft</th>\n",
       "      <th>bath</th>\n",
       "      <th>balcony</th>\n",
       "      <th>bhk</th>\n",
       "      <th>Whitefield</th>\n",
       "      <th>Sarjapur  Road</th>\n",
       "      <th>Electronic City</th>\n",
       "      <th>Kanakpura Road</th>\n",
       "      <th>Yelahanka</th>\n",
       "      <th>Raja Rajeshwari Nagar</th>\n",
       "      <th>...</th>\n",
       "      <th>Hennur Road</th>\n",
       "      <th>Hebbal</th>\n",
       "      <th>Haralur Road</th>\n",
       "      <th>Electronic City Phase II</th>\n",
       "      <th>7th Phase JP Nagar</th>\n",
       "      <th>Chandapura</th>\n",
       "      <th>Rajaji Nagar</th>\n",
       "      <th>Super built-up  Area</th>\n",
       "      <th>Built-up  Area</th>\n",
       "      <th>Plot  Area</th>\n",
       "    </tr>\n",
       "  </thead>\n",
       "  <tbody>\n",
       "    <tr>\n",
       "      <th>0</th>\n",
       "      <td>1080</td>\n",
       "      <td>2.0</td>\n",
       "      <td>2.0</td>\n",
       "      <td>2.0</td>\n",
       "      <td>0</td>\n",
       "      <td>0</td>\n",
       "      <td>0</td>\n",
       "      <td>0</td>\n",
       "      <td>0</td>\n",
       "      <td>0</td>\n",
       "      <td>...</td>\n",
       "      <td>0</td>\n",
       "      <td>0</td>\n",
       "      <td>0</td>\n",
       "      <td>0</td>\n",
       "      <td>1</td>\n",
       "      <td>0</td>\n",
       "      <td>0</td>\n",
       "      <td>0</td>\n",
       "      <td>1</td>\n",
       "      <td>0</td>\n",
       "    </tr>\n",
       "    <tr>\n",
       "      <th>1</th>\n",
       "      <td>1270</td>\n",
       "      <td>2.0</td>\n",
       "      <td>2.0</td>\n",
       "      <td>2.0</td>\n",
       "      <td>0</td>\n",
       "      <td>0</td>\n",
       "      <td>0</td>\n",
       "      <td>0</td>\n",
       "      <td>0</td>\n",
       "      <td>0</td>\n",
       "      <td>...</td>\n",
       "      <td>0</td>\n",
       "      <td>0</td>\n",
       "      <td>0</td>\n",
       "      <td>0</td>\n",
       "      <td>1</td>\n",
       "      <td>0</td>\n",
       "      <td>0</td>\n",
       "      <td>1</td>\n",
       "      <td>0</td>\n",
       "      <td>0</td>\n",
       "    </tr>\n",
       "    <tr>\n",
       "      <th>2</th>\n",
       "      <td>1420</td>\n",
       "      <td>2.0</td>\n",
       "      <td>1.0</td>\n",
       "      <td>3.0</td>\n",
       "      <td>0</td>\n",
       "      <td>0</td>\n",
       "      <td>0</td>\n",
       "      <td>0</td>\n",
       "      <td>0</td>\n",
       "      <td>0</td>\n",
       "      <td>...</td>\n",
       "      <td>0</td>\n",
       "      <td>0</td>\n",
       "      <td>0</td>\n",
       "      <td>0</td>\n",
       "      <td>1</td>\n",
       "      <td>0</td>\n",
       "      <td>0</td>\n",
       "      <td>0</td>\n",
       "      <td>1</td>\n",
       "      <td>0</td>\n",
       "    </tr>\n",
       "    <tr>\n",
       "      <th>3</th>\n",
       "      <td>1850</td>\n",
       "      <td>3.0</td>\n",
       "      <td>1.0</td>\n",
       "      <td>3.0</td>\n",
       "      <td>0</td>\n",
       "      <td>0</td>\n",
       "      <td>0</td>\n",
       "      <td>0</td>\n",
       "      <td>0</td>\n",
       "      <td>0</td>\n",
       "      <td>...</td>\n",
       "      <td>0</td>\n",
       "      <td>0</td>\n",
       "      <td>0</td>\n",
       "      <td>0</td>\n",
       "      <td>1</td>\n",
       "      <td>0</td>\n",
       "      <td>0</td>\n",
       "      <td>0</td>\n",
       "      <td>1</td>\n",
       "      <td>0</td>\n",
       "    </tr>\n",
       "    <tr>\n",
       "      <th>4</th>\n",
       "      <td>1245</td>\n",
       "      <td>2.0</td>\n",
       "      <td>1.0</td>\n",
       "      <td>2.0</td>\n",
       "      <td>0</td>\n",
       "      <td>0</td>\n",
       "      <td>0</td>\n",
       "      <td>0</td>\n",
       "      <td>0</td>\n",
       "      <td>0</td>\n",
       "      <td>...</td>\n",
       "      <td>0</td>\n",
       "      <td>0</td>\n",
       "      <td>0</td>\n",
       "      <td>0</td>\n",
       "      <td>1</td>\n",
       "      <td>0</td>\n",
       "      <td>0</td>\n",
       "      <td>0</td>\n",
       "      <td>1</td>\n",
       "      <td>0</td>\n",
       "    </tr>\n",
       "  </tbody>\n",
       "</table>\n",
       "<p>5 rows × 24 columns</p>\n",
       "</div>"
      ],
      "text/plain": [
       "   total_sqft  bath  balcony  bhk  Whitefield  Sarjapur  Road  \\\n",
       "0        1080   2.0      2.0  2.0           0               0   \n",
       "1        1270   2.0      2.0  2.0           0               0   \n",
       "2        1420   2.0      1.0  3.0           0               0   \n",
       "3        1850   3.0      1.0  3.0           0               0   \n",
       "4        1245   2.0      1.0  2.0           0               0   \n",
       "\n",
       "   Electronic City  Kanakpura Road  Yelahanka  Raja Rajeshwari Nagar  ...  \\\n",
       "0                0               0          0                      0  ...   \n",
       "1                0               0          0                      0  ...   \n",
       "2                0               0          0                      0  ...   \n",
       "3                0               0          0                      0  ...   \n",
       "4                0               0          0                      0  ...   \n",
       "\n",
       "   Hennur Road  Hebbal  Haralur Road  Electronic City Phase II  \\\n",
       "0            0       0             0                         0   \n",
       "1            0       0             0                         0   \n",
       "2            0       0             0                         0   \n",
       "3            0       0             0                         0   \n",
       "4            0       0             0                         0   \n",
       "\n",
       "   7th Phase JP Nagar  Chandapura  Rajaji Nagar  Super built-up  Area  \\\n",
       "0                   1           0             0                     0   \n",
       "1                   1           0             0                     1   \n",
       "2                   1           0             0                     0   \n",
       "3                   1           0             0                     0   \n",
       "4                   1           0             0                     0   \n",
       "\n",
       "   Built-up  Area  Plot  Area  \n",
       "0               1           0  \n",
       "1               0           0  \n",
       "2               1           0  \n",
       "3               1           0  \n",
       "4               1           0  \n",
       "\n",
       "[5 rows x 24 columns]"
      ]
     },
     "execution_count": 83,
     "metadata": {},
     "output_type": "execute_result"
    }
   ],
   "source": [
    "x.head()"
   ]
  },
  {
   "cell_type": "code",
   "execution_count": 84,
   "id": "4b434c88",
   "metadata": {},
   "outputs": [
    {
     "data": {
      "text/plain": [
       "0     72.0\n",
       "1     93.0\n",
       "2    100.0\n",
       "3    150.0\n",
       "4     94.0\n",
       "Name: price, dtype: float64"
      ]
     },
     "execution_count": 84,
     "metadata": {},
     "output_type": "execute_result"
    }
   ],
   "source": [
    "y.head()"
   ]
  },
  {
   "cell_type": "code",
   "execution_count": 85,
   "id": "a36d99b6",
   "metadata": {},
   "outputs": [],
   "source": [
    "from sklearn.model_selection import train_test_split"
   ]
  },
  {
   "cell_type": "code",
   "execution_count": 86,
   "id": "71d7158e",
   "metadata": {},
   "outputs": [],
   "source": [
    "X_train, X_test, Y_train, Y_test = train_test_split(x, y, test_size = 0.25, random_state = 10)   \n",
    "\n",
    "#random_state works like 'seed' in random. So that everytime we run it, the sample will be the same. "
   ]
  },
  {
   "cell_type": "code",
   "execution_count": 87,
   "id": "f4ab9013",
   "metadata": {},
   "outputs": [
    {
     "data": {
      "text/html": [
       "<div>\n",
       "<style scoped>\n",
       "    .dataframe tbody tr th:only-of-type {\n",
       "        vertical-align: middle;\n",
       "    }\n",
       "\n",
       "    .dataframe tbody tr th {\n",
       "        vertical-align: top;\n",
       "    }\n",
       "\n",
       "    .dataframe thead th {\n",
       "        text-align: right;\n",
       "    }\n",
       "</style>\n",
       "<table border=\"1\" class=\"dataframe\">\n",
       "  <thead>\n",
       "    <tr style=\"text-align: right;\">\n",
       "      <th></th>\n",
       "      <th>total_sqft</th>\n",
       "      <th>bath</th>\n",
       "      <th>balcony</th>\n",
       "      <th>bhk</th>\n",
       "      <th>Whitefield</th>\n",
       "      <th>Sarjapur  Road</th>\n",
       "      <th>Electronic City</th>\n",
       "      <th>Kanakpura Road</th>\n",
       "      <th>Yelahanka</th>\n",
       "      <th>Raja Rajeshwari Nagar</th>\n",
       "      <th>...</th>\n",
       "      <th>Hennur Road</th>\n",
       "      <th>Hebbal</th>\n",
       "      <th>Haralur Road</th>\n",
       "      <th>Electronic City Phase II</th>\n",
       "      <th>7th Phase JP Nagar</th>\n",
       "      <th>Chandapura</th>\n",
       "      <th>Rajaji Nagar</th>\n",
       "      <th>Super built-up  Area</th>\n",
       "      <th>Built-up  Area</th>\n",
       "      <th>Plot  Area</th>\n",
       "    </tr>\n",
       "  </thead>\n",
       "  <tbody>\n",
       "    <tr>\n",
       "      <th>3358</th>\n",
       "      <td>2118</td>\n",
       "      <td>4.0</td>\n",
       "      <td>2.0</td>\n",
       "      <td>4.0</td>\n",
       "      <td>0</td>\n",
       "      <td>0</td>\n",
       "      <td>0</td>\n",
       "      <td>0</td>\n",
       "      <td>0</td>\n",
       "      <td>0</td>\n",
       "      <td>...</td>\n",
       "      <td>0</td>\n",
       "      <td>0</td>\n",
       "      <td>0</td>\n",
       "      <td>0</td>\n",
       "      <td>0</td>\n",
       "      <td>0</td>\n",
       "      <td>0</td>\n",
       "      <td>1</td>\n",
       "      <td>0</td>\n",
       "      <td>0</td>\n",
       "    </tr>\n",
       "    <tr>\n",
       "      <th>989</th>\n",
       "      <td>1703</td>\n",
       "      <td>3.0</td>\n",
       "      <td>3.0</td>\n",
       "      <td>3.0</td>\n",
       "      <td>0</td>\n",
       "      <td>0</td>\n",
       "      <td>0</td>\n",
       "      <td>0</td>\n",
       "      <td>0</td>\n",
       "      <td>0</td>\n",
       "      <td>...</td>\n",
       "      <td>1</td>\n",
       "      <td>0</td>\n",
       "      <td>0</td>\n",
       "      <td>0</td>\n",
       "      <td>0</td>\n",
       "      <td>0</td>\n",
       "      <td>0</td>\n",
       "      <td>1</td>\n",
       "      <td>0</td>\n",
       "      <td>0</td>\n",
       "    </tr>\n",
       "    <tr>\n",
       "      <th>9022</th>\n",
       "      <td>1300</td>\n",
       "      <td>2.0</td>\n",
       "      <td>1.0</td>\n",
       "      <td>2.0</td>\n",
       "      <td>0</td>\n",
       "      <td>0</td>\n",
       "      <td>0</td>\n",
       "      <td>0</td>\n",
       "      <td>0</td>\n",
       "      <td>0</td>\n",
       "      <td>...</td>\n",
       "      <td>0</td>\n",
       "      <td>0</td>\n",
       "      <td>0</td>\n",
       "      <td>0</td>\n",
       "      <td>0</td>\n",
       "      <td>0</td>\n",
       "      <td>0</td>\n",
       "      <td>1</td>\n",
       "      <td>0</td>\n",
       "      <td>0</td>\n",
       "    </tr>\n",
       "    <tr>\n",
       "      <th>5254</th>\n",
       "      <td>350</td>\n",
       "      <td>1.0</td>\n",
       "      <td>1.0</td>\n",
       "      <td>1.0</td>\n",
       "      <td>0</td>\n",
       "      <td>0</td>\n",
       "      <td>0</td>\n",
       "      <td>0</td>\n",
       "      <td>0</td>\n",
       "      <td>0</td>\n",
       "      <td>...</td>\n",
       "      <td>0</td>\n",
       "      <td>0</td>\n",
       "      <td>0</td>\n",
       "      <td>0</td>\n",
       "      <td>0</td>\n",
       "      <td>0</td>\n",
       "      <td>0</td>\n",
       "      <td>0</td>\n",
       "      <td>1</td>\n",
       "      <td>0</td>\n",
       "    </tr>\n",
       "    <tr>\n",
       "      <th>4671</th>\n",
       "      <td>4200</td>\n",
       "      <td>4.0</td>\n",
       "      <td>2.0</td>\n",
       "      <td>4.0</td>\n",
       "      <td>0</td>\n",
       "      <td>0</td>\n",
       "      <td>0</td>\n",
       "      <td>0</td>\n",
       "      <td>0</td>\n",
       "      <td>0</td>\n",
       "      <td>...</td>\n",
       "      <td>0</td>\n",
       "      <td>0</td>\n",
       "      <td>0</td>\n",
       "      <td>0</td>\n",
       "      <td>0</td>\n",
       "      <td>0</td>\n",
       "      <td>0</td>\n",
       "      <td>0</td>\n",
       "      <td>1</td>\n",
       "      <td>0</td>\n",
       "    </tr>\n",
       "  </tbody>\n",
       "</table>\n",
       "<p>5 rows × 24 columns</p>\n",
       "</div>"
      ],
      "text/plain": [
       "      total_sqft  bath  balcony  bhk  Whitefield  Sarjapur  Road  \\\n",
       "3358        2118   4.0      2.0  4.0           0               0   \n",
       "989         1703   3.0      3.0  3.0           0               0   \n",
       "9022        1300   2.0      1.0  2.0           0               0   \n",
       "5254         350   1.0      1.0  1.0           0               0   \n",
       "4671        4200   4.0      2.0  4.0           0               0   \n",
       "\n",
       "      Electronic City  Kanakpura Road  Yelahanka  Raja Rajeshwari Nagar  ...  \\\n",
       "3358                0               0          0                      0  ...   \n",
       "989                 0               0          0                      0  ...   \n",
       "9022                0               0          0                      0  ...   \n",
       "5254                0               0          0                      0  ...   \n",
       "4671                0               0          0                      0  ...   \n",
       "\n",
       "      Hennur Road  Hebbal  Haralur Road  Electronic City Phase II  \\\n",
       "3358            0       0             0                         0   \n",
       "989             1       0             0                         0   \n",
       "9022            0       0             0                         0   \n",
       "5254            0       0             0                         0   \n",
       "4671            0       0             0                         0   \n",
       "\n",
       "      7th Phase JP Nagar  Chandapura  Rajaji Nagar  Super built-up  Area  \\\n",
       "3358                   0           0             0                     1   \n",
       "989                    0           0             0                     1   \n",
       "9022                   0           0             0                     1   \n",
       "5254                   0           0             0                     0   \n",
       "4671                   0           0             0                     0   \n",
       "\n",
       "      Built-up  Area  Plot  Area  \n",
       "3358               0           0  \n",
       "989                0           0  \n",
       "9022               0           0  \n",
       "5254               1           0  \n",
       "4671               1           0  \n",
       "\n",
       "[5 rows x 24 columns]"
      ]
     },
     "execution_count": 87,
     "metadata": {},
     "output_type": "execute_result"
    }
   ],
   "source": [
    "X_train.head()"
   ]
  },
  {
   "cell_type": "code",
   "execution_count": 88,
   "id": "24230359",
   "metadata": {},
   "outputs": [
    {
     "data": {
      "text/plain": [
       "(8208, 24)"
      ]
     },
     "execution_count": 88,
     "metadata": {},
     "output_type": "execute_result"
    }
   ],
   "source": [
    "X_train.shape"
   ]
  },
  {
   "cell_type": "code",
   "execution_count": 89,
   "id": "6defac4d",
   "metadata": {},
   "outputs": [
    {
     "data": {
      "text/html": [
       "<div>\n",
       "<style scoped>\n",
       "    .dataframe tbody tr th:only-of-type {\n",
       "        vertical-align: middle;\n",
       "    }\n",
       "\n",
       "    .dataframe tbody tr th {\n",
       "        vertical-align: top;\n",
       "    }\n",
       "\n",
       "    .dataframe thead th {\n",
       "        text-align: right;\n",
       "    }\n",
       "</style>\n",
       "<table border=\"1\" class=\"dataframe\">\n",
       "  <thead>\n",
       "    <tr style=\"text-align: right;\">\n",
       "      <th></th>\n",
       "      <th>total_sqft</th>\n",
       "      <th>bath</th>\n",
       "      <th>balcony</th>\n",
       "      <th>bhk</th>\n",
       "      <th>Whitefield</th>\n",
       "      <th>Sarjapur  Road</th>\n",
       "      <th>Electronic City</th>\n",
       "      <th>Kanakpura Road</th>\n",
       "      <th>Yelahanka</th>\n",
       "      <th>Raja Rajeshwari Nagar</th>\n",
       "      <th>...</th>\n",
       "      <th>Hennur Road</th>\n",
       "      <th>Hebbal</th>\n",
       "      <th>Haralur Road</th>\n",
       "      <th>Electronic City Phase II</th>\n",
       "      <th>7th Phase JP Nagar</th>\n",
       "      <th>Chandapura</th>\n",
       "      <th>Rajaji Nagar</th>\n",
       "      <th>Super built-up  Area</th>\n",
       "      <th>Built-up  Area</th>\n",
       "      <th>Plot  Area</th>\n",
       "    </tr>\n",
       "  </thead>\n",
       "  <tbody>\n",
       "    <tr>\n",
       "      <th>2467</th>\n",
       "      <td>1255</td>\n",
       "      <td>2.0</td>\n",
       "      <td>3.0</td>\n",
       "      <td>2.0</td>\n",
       "      <td>1</td>\n",
       "      <td>0</td>\n",
       "      <td>0</td>\n",
       "      <td>0</td>\n",
       "      <td>0</td>\n",
       "      <td>0</td>\n",
       "      <td>...</td>\n",
       "      <td>0</td>\n",
       "      <td>0</td>\n",
       "      <td>0</td>\n",
       "      <td>0</td>\n",
       "      <td>0</td>\n",
       "      <td>0</td>\n",
       "      <td>0</td>\n",
       "      <td>1</td>\n",
       "      <td>0</td>\n",
       "      <td>0</td>\n",
       "    </tr>\n",
       "    <tr>\n",
       "      <th>43</th>\n",
       "      <td>1460</td>\n",
       "      <td>3.0</td>\n",
       "      <td>1.0</td>\n",
       "      <td>3.0</td>\n",
       "      <td>0</td>\n",
       "      <td>0</td>\n",
       "      <td>0</td>\n",
       "      <td>0</td>\n",
       "      <td>0</td>\n",
       "      <td>0</td>\n",
       "      <td>...</td>\n",
       "      <td>0</td>\n",
       "      <td>0</td>\n",
       "      <td>0</td>\n",
       "      <td>0</td>\n",
       "      <td>1</td>\n",
       "      <td>0</td>\n",
       "      <td>0</td>\n",
       "      <td>0</td>\n",
       "      <td>1</td>\n",
       "      <td>0</td>\n",
       "    </tr>\n",
       "    <tr>\n",
       "      <th>6627</th>\n",
       "      <td>1466</td>\n",
       "      <td>2.0</td>\n",
       "      <td>2.0</td>\n",
       "      <td>2.0</td>\n",
       "      <td>0</td>\n",
       "      <td>0</td>\n",
       "      <td>0</td>\n",
       "      <td>0</td>\n",
       "      <td>0</td>\n",
       "      <td>0</td>\n",
       "      <td>...</td>\n",
       "      <td>0</td>\n",
       "      <td>0</td>\n",
       "      <td>0</td>\n",
       "      <td>0</td>\n",
       "      <td>0</td>\n",
       "      <td>0</td>\n",
       "      <td>0</td>\n",
       "      <td>1</td>\n",
       "      <td>0</td>\n",
       "      <td>0</td>\n",
       "    </tr>\n",
       "    <tr>\n",
       "      <th>3262</th>\n",
       "      <td>5230</td>\n",
       "      <td>6.0</td>\n",
       "      <td>1.0</td>\n",
       "      <td>4.0</td>\n",
       "      <td>0</td>\n",
       "      <td>0</td>\n",
       "      <td>0</td>\n",
       "      <td>0</td>\n",
       "      <td>0</td>\n",
       "      <td>0</td>\n",
       "      <td>...</td>\n",
       "      <td>0</td>\n",
       "      <td>0</td>\n",
       "      <td>0</td>\n",
       "      <td>0</td>\n",
       "      <td>0</td>\n",
       "      <td>0</td>\n",
       "      <td>0</td>\n",
       "      <td>1</td>\n",
       "      <td>0</td>\n",
       "      <td>0</td>\n",
       "    </tr>\n",
       "    <tr>\n",
       "      <th>6224</th>\n",
       "      <td>1793</td>\n",
       "      <td>3.0</td>\n",
       "      <td>2.0</td>\n",
       "      <td>3.0</td>\n",
       "      <td>0</td>\n",
       "      <td>0</td>\n",
       "      <td>0</td>\n",
       "      <td>0</td>\n",
       "      <td>0</td>\n",
       "      <td>0</td>\n",
       "      <td>...</td>\n",
       "      <td>0</td>\n",
       "      <td>0</td>\n",
       "      <td>0</td>\n",
       "      <td>0</td>\n",
       "      <td>0</td>\n",
       "      <td>0</td>\n",
       "      <td>0</td>\n",
       "      <td>1</td>\n",
       "      <td>0</td>\n",
       "      <td>0</td>\n",
       "    </tr>\n",
       "  </tbody>\n",
       "</table>\n",
       "<p>5 rows × 24 columns</p>\n",
       "</div>"
      ],
      "text/plain": [
       "      total_sqft  bath  balcony  bhk  Whitefield  Sarjapur  Road  \\\n",
       "2467        1255   2.0      3.0  2.0           1               0   \n",
       "43          1460   3.0      1.0  3.0           0               0   \n",
       "6627        1466   2.0      2.0  2.0           0               0   \n",
       "3262        5230   6.0      1.0  4.0           0               0   \n",
       "6224        1793   3.0      2.0  3.0           0               0   \n",
       "\n",
       "      Electronic City  Kanakpura Road  Yelahanka  Raja Rajeshwari Nagar  ...  \\\n",
       "2467                0               0          0                      0  ...   \n",
       "43                  0               0          0                      0  ...   \n",
       "6627                0               0          0                      0  ...   \n",
       "3262                0               0          0                      0  ...   \n",
       "6224                0               0          0                      0  ...   \n",
       "\n",
       "      Hennur Road  Hebbal  Haralur Road  Electronic City Phase II  \\\n",
       "2467            0       0             0                         0   \n",
       "43              0       0             0                         0   \n",
       "6627            0       0             0                         0   \n",
       "3262            0       0             0                         0   \n",
       "6224            0       0             0                         0   \n",
       "\n",
       "      7th Phase JP Nagar  Chandapura  Rajaji Nagar  Super built-up  Area  \\\n",
       "2467                   0           0             0                     1   \n",
       "43                     1           0             0                     0   \n",
       "6627                   0           0             0                     1   \n",
       "3262                   0           0             0                     1   \n",
       "6224                   0           0             0                     1   \n",
       "\n",
       "      Built-up  Area  Plot  Area  \n",
       "2467               0           0  \n",
       "43                 1           0  \n",
       "6627               0           0  \n",
       "3262               0           0  \n",
       "6224               0           0  \n",
       "\n",
       "[5 rows x 24 columns]"
      ]
     },
     "execution_count": 89,
     "metadata": {},
     "output_type": "execute_result"
    }
   ],
   "source": [
    "X_test.head()"
   ]
  },
  {
   "cell_type": "code",
   "execution_count": 90,
   "id": "8fdd75c7",
   "metadata": {},
   "outputs": [
    {
     "data": {
      "text/plain": [
       "(2736, 24)"
      ]
     },
     "execution_count": 90,
     "metadata": {},
     "output_type": "execute_result"
    }
   ],
   "source": [
    "X_test.shape"
   ]
  },
  {
   "cell_type": "code",
   "execution_count": 91,
   "id": "62a0293e",
   "metadata": {},
   "outputs": [
    {
     "data": {
      "text/plain": [
       "3358    111.0\n",
       "989     101.0\n",
       "9022     67.0\n",
       "5254     13.5\n",
       "4671    255.0\n",
       "Name: price, dtype: float64"
      ]
     },
     "execution_count": 91,
     "metadata": {},
     "output_type": "execute_result"
    }
   ],
   "source": [
    "Y_train.head()"
   ]
  },
  {
   "cell_type": "code",
   "execution_count": 92,
   "id": "9a43ee62",
   "metadata": {},
   "outputs": [
    {
     "data": {
      "text/plain": [
       "(8208,)"
      ]
     },
     "execution_count": 92,
     "metadata": {},
     "output_type": "execute_result"
    }
   ],
   "source": [
    "Y_train.shape"
   ]
  },
  {
   "cell_type": "code",
   "execution_count": 93,
   "id": "06c58d3f",
   "metadata": {},
   "outputs": [
    {
     "data": {
      "text/plain": [
       "2467     77.0\n",
       "43       70.0\n",
       "6627     71.0\n",
       "3262    465.0\n",
       "6224     98.0\n",
       "Name: price, dtype: float64"
      ]
     },
     "execution_count": 93,
     "metadata": {},
     "output_type": "execute_result"
    }
   ],
   "source": [
    "Y_test.head()"
   ]
  },
  {
   "cell_type": "code",
   "execution_count": 94,
   "id": "85f70ebf",
   "metadata": {},
   "outputs": [
    {
     "data": {
      "text/plain": [
       "(2736,)"
      ]
     },
     "execution_count": 94,
     "metadata": {},
     "output_type": "execute_result"
    }
   ],
   "source": [
    "Y_test.shape"
   ]
  },
  {
   "cell_type": "code",
   "execution_count": 95,
   "id": "2f876e16",
   "metadata": {},
   "outputs": [
    {
     "name": "stdout",
     "output_type": "stream",
     "text": [
      "      total_sqft  bath  balcony  bhk  Whitefield  Sarjapur  Road  \\\n",
      "2467        1255   2.0      3.0  2.0           1               0   \n",
      "43          1460   3.0      1.0  3.0           0               0   \n",
      "6627        1466   2.0      2.0  2.0           0               0   \n",
      "3262        5230   6.0      1.0  4.0           0               0   \n",
      "6224        1793   3.0      2.0  3.0           0               0   \n",
      "...          ...   ...      ...  ...         ...             ...   \n",
      "4882        1570   3.0      1.0  3.0           0               0   \n",
      "4964        1058   2.0      2.0  2.0           0               0   \n",
      "4453        1220   2.0      2.0  2.0           0               0   \n",
      "2484        1655   3.0      1.0  3.0           1               0   \n",
      "4349         740   2.0      1.0  2.0           0               0   \n",
      "\n",
      "      Electronic City  Kanakpura Road  Yelahanka  Raja Rajeshwari Nagar  ...  \\\n",
      "2467                0               0          0                      0  ...   \n",
      "43                  0               0          0                      0  ...   \n",
      "6627                0               0          0                      0  ...   \n",
      "3262                0               0          0                      0  ...   \n",
      "6224                0               0          0                      0  ...   \n",
      "...               ...             ...        ...                    ...  ...   \n",
      "4882                0               0          0                      0  ...   \n",
      "4964                0               0          0                      0  ...   \n",
      "4453                0               0          0                      0  ...   \n",
      "2484                0               0          0                      0  ...   \n",
      "4349                0               0          0                      0  ...   \n",
      "\n",
      "      Hennur Road  Hebbal  Haralur Road  Electronic City Phase II  \\\n",
      "2467            0       0             0                         0   \n",
      "43              0       0             0                         0   \n",
      "6627            0       0             0                         0   \n",
      "3262            0       0             0                         0   \n",
      "6224            0       0             0                         0   \n",
      "...           ...     ...           ...                       ...   \n",
      "4882            0       0             0                         0   \n",
      "4964            0       0             0                         0   \n",
      "4453            0       0             0                         0   \n",
      "2484            0       0             0                         0   \n",
      "4349            0       0             0                         0   \n",
      "\n",
      "      7th Phase JP Nagar  Chandapura  Rajaji Nagar  Super built-up  Area  \\\n",
      "2467                   0           0             0                     1   \n",
      "43                     1           0             0                     0   \n",
      "6627                   0           0             0                     1   \n",
      "3262                   0           0             0                     1   \n",
      "6224                   0           0             0                     1   \n",
      "...                  ...         ...           ...                   ...   \n",
      "4882                   0           0             0                     1   \n",
      "4964                   0           0             0                     1   \n",
      "4453                   0           0             0                     1   \n",
      "2484                   0           0             0                     1   \n",
      "4349                   0           0             0                     0   \n",
      "\n",
      "      Built-up  Area  Plot  Area  \n",
      "2467               0           0  \n",
      "43                 1           0  \n",
      "6627               0           0  \n",
      "3262               0           0  \n",
      "6224               0           0  \n",
      "...              ...         ...  \n",
      "4882               0           0  \n",
      "4964               0           0  \n",
      "4453               0           0  \n",
      "2484               0           0  \n",
      "4349               1           0  \n",
      "\n",
      "[2736 rows x 24 columns] 2467     77.0\n",
      "43       70.0\n",
      "6627     71.0\n",
      "3262    465.0\n",
      "6224     98.0\n",
      "        ...  \n",
      "4882    105.0\n",
      "4964     60.0\n",
      "4453     59.5\n",
      "2484    113.0\n",
      "4349     34.0\n",
      "Name: price, Length: 2736, dtype: float64\n"
     ]
    }
   ],
   "source": [
    "print(X_test, Y_test)"
   ]
  },
  {
   "cell_type": "code",
   "execution_count": 96,
   "id": "3f047134",
   "metadata": {},
   "outputs": [],
   "source": [
    "from sklearn.linear_model import LinearRegression"
   ]
  },
  {
   "cell_type": "code",
   "execution_count": 97,
   "id": "2e284abd",
   "metadata": {},
   "outputs": [],
   "source": [
    "lr = LinearRegression()"
   ]
  },
  {
   "cell_type": "code",
   "execution_count": 98,
   "id": "a0de6b03",
   "metadata": {},
   "outputs": [],
   "source": [
    "lin_model = lr.fit(X_train, Y_train)"
   ]
  },
  {
   "cell_type": "code",
   "execution_count": 99,
   "id": "3b8a53f4",
   "metadata": {},
   "outputs": [
    {
     "data": {
      "text/plain": [
       "array([ 6.20394301e-02,  9.65983924e+00,  8.04758889e-02, -7.62366745e+00,\n",
       "        4.22826594e-01,  3.16454717e+00, -9.34213029e+00, -6.31128561e+00,\n",
       "       -8.08930907e+00, -1.84065566e+01,  2.84069452e+00, -3.80027479e-03,\n",
       "       -1.45253639e+01, -2.30000005e+00,  7.39567084e+00,  2.70271932e+01,\n",
       "       -8.86416323e+00, -2.06178085e+01,  1.54650854e+01, -2.05493354e+01,\n",
       "        1.67081408e+02, -8.29469889e+00, -9.56047527e+00,  6.62798303e+00])"
      ]
     },
     "execution_count": 99,
     "metadata": {},
     "output_type": "execute_result"
    }
   ],
   "source": [
    "lin_model.coef_"
   ]
  },
  {
   "cell_type": "code",
   "execution_count": 100,
   "id": "aef09e56",
   "metadata": {},
   "outputs": [
    {
     "data": {
      "text/plain": [
       "-4.966917214359327"
      ]
     },
     "execution_count": 100,
     "metadata": {},
     "output_type": "execute_result"
    }
   ],
   "source": [
    "lin_model.intercept_"
   ]
  },
  {
   "cell_type": "markdown",
   "id": "310c96b2",
   "metadata": {},
   "source": [
    "# R^2 score "
   ]
  },
  {
   "cell_type": "code",
   "execution_count": 101,
   "id": "d29f3237",
   "metadata": {},
   "outputs": [
    {
     "data": {
      "text/plain": [
       "0.7833907712906157"
      ]
     },
     "execution_count": 101,
     "metadata": {},
     "output_type": "execute_result"
    }
   ],
   "source": [
    "lr.score(X_train, Y_train)    \n",
    "#R-square checks if my algorithm is able to understand my data. Here it understands 78% of my training data."
   ]
  },
  {
   "cell_type": "code",
   "execution_count": 102,
   "id": "59428d2e",
   "metadata": {},
   "outputs": [
    {
     "data": {
      "text/plain": [
       "0.84016899129214"
      ]
     },
     "execution_count": 102,
     "metadata": {},
     "output_type": "execute_result"
    }
   ],
   "source": [
    "lr.score(X_test, Y_test)     # it understands 84% of my testing data."
   ]
  },
  {
   "cell_type": "markdown",
   "id": "e252801e",
   "metadata": {},
   "source": [
    "# TEST THE MODEL ON TESTING DATASET"
   ]
  },
  {
   "cell_type": "code",
   "execution_count": 103,
   "id": "cf928a96",
   "metadata": {},
   "outputs": [],
   "source": [
    "from sklearn.metrics import mean_squared_error, mean_absolute_error"
   ]
  },
  {
   "cell_type": "code",
   "execution_count": 104,
   "id": "264b2779",
   "metadata": {},
   "outputs": [
    {
     "data": {
      "text/plain": [
       "array([69.33446647, 97.70425209, 81.92148373, ..., 66.65978394,\n",
       "       96.02545851, 35.53460524])"
      ]
     },
     "execution_count": 104,
     "metadata": {},
     "output_type": "execute_result"
    }
   ],
   "source": [
    "Y_pred = lin_model.predict(X_test)\n",
    "Y_pred"
   ]
  },
  {
   "cell_type": "code",
   "execution_count": 105,
   "id": "705a0d0e",
   "metadata": {},
   "outputs": [
    {
     "data": {
      "text/plain": [
       "2467     77.0\n",
       "43       70.0\n",
       "6627     71.0\n",
       "3262    465.0\n",
       "6224     98.0\n",
       "        ...  \n",
       "4882    105.0\n",
       "4964     60.0\n",
       "4453     59.5\n",
       "2484    113.0\n",
       "4349     34.0\n",
       "Name: price, Length: 2736, dtype: float64"
      ]
     },
     "execution_count": 105,
     "metadata": {},
     "output_type": "execute_result"
    }
   ],
   "source": [
    "Y_test"
   ]
  },
  {
   "cell_type": "code",
   "execution_count": 106,
   "id": "162d0fff",
   "metadata": {},
   "outputs": [
    {
     "name": "stdout",
     "output_type": "stream",
     "text": [
      "861.3453372174204\n"
     ]
    }
   ],
   "source": [
    "print(mean_squared_error(Y_pred, Y_test))"
   ]
  },
  {
   "cell_type": "code",
   "execution_count": 107,
   "id": "d1ad92a1",
   "metadata": {},
   "outputs": [
    {
     "name": "stdout",
     "output_type": "stream",
     "text": [
      "29.348685442748884\n"
     ]
    }
   ],
   "source": [
    "print(np.sqrt(mean_squared_error(Y_pred, Y_test)))     # calculating RMSE"
   ]
  },
  {
   "cell_type": "markdown",
   "id": "abe62add",
   "metadata": {},
   "source": [
    "29 is not a good score. RMSE should be close to 0."
   ]
  },
  {
   "cell_type": "code",
   "execution_count": 108,
   "id": "74ec11cd",
   "metadata": {},
   "outputs": [
    {
     "data": {
      "text/plain": [
       "<AxesSubplot:xlabel='price'>"
      ]
     },
     "execution_count": 108,
     "metadata": {},
     "output_type": "execute_result"
    },
    {
     "data": {
      "image/png": "[encoded data removed]",
      "text/plain": [
       "<Figure size 432x288 with 1 Axes>"
      ]
     },
     "metadata": {
      "needs_background": "light"
     },
     "output_type": "display_data"
    }
   ],
   "source": [
    "sns.regplot(Y_test, Y_pred)"
   ]
  },
  {
   "cell_type": "markdown",
   "id": "6ae89444",
   "metadata": {},
   "source": [
    "We see that the dependency is of linear type. That's why linear regression can be applied. "
   ]
  },
  {
   "cell_type": "markdown",
   "id": "eed8267d",
   "metadata": {},
   "source": [
    "Linear regression is distance based algo. That's why we need to use scaling."
   ]
  },
  {
   "cell_type": "markdown",
   "id": "f1d1ea9c",
   "metadata": {},
   "source": [
    "Keep changing the 'random state' value to check different results of RMSE. "
   ]
  },
  {
   "cell_type": "markdown",
   "id": "563e1faf",
   "metadata": {},
   "source": [
    "Linear Regression can be overfitting. That's why we need to use Regularization techniques."
   ]
  },
  {
   "cell_type": "markdown",
   "id": "9b7dd51d",
   "metadata": {},
   "source": [
    "There are two types of regularization. Regularization helps to regularize the coefficients. Just by decreasing the value of coefficients, we can decrease the value of gradients. It means we are trying to get good accuracy in the testing phase compared to the training phase."
   ]
  },
  {
   "cell_type": "markdown",
   "id": "87e33408",
   "metadata": {},
   "source": [
    "We need to do Hyper-parameter tuning with Lasso or Ridge regression. "
   ]
  },
  {
   "cell_type": "markdown",
   "id": "03ea6e26",
   "metadata": {},
   "source": [
    "In any distance based algo, before to fit x_train and y_train, we need to scale first. To reduce RMSE, we need to use standard scaling"
   ]
  },
  {
   "cell_type": "markdown",
   "id": "be7dcd21",
   "metadata": {},
   "source": [
    "Never scale the dependent feature."
   ]
  },
  {
   "cell_type": "code",
   "execution_count": 109,
   "id": "326c81e0",
   "metadata": {},
   "outputs": [],
   "source": [
    "from sklearn.linear_model import Lasso\n",
    "from sklearn.linear_model import Ridge"
   ]
  },
  {
   "cell_type": "code",
   "execution_count": 110,
   "id": "a3f4b766",
   "metadata": {},
   "outputs": [
    {
     "data": {
      "text/plain": [
       "Lasso(alpha=0.01)"
      ]
     },
     "execution_count": 110,
     "metadata": {},
     "output_type": "execute_result"
    }
   ],
   "source": [
    "ls_model = Lasso(alpha = 0.01)     #Alpha is between 0 to 1\n",
    "ls_model"
   ]
  },
  {
   "cell_type": "code",
   "execution_count": 111,
   "id": "f390a190",
   "metadata": {},
   "outputs": [
    {
     "data": {
      "text/plain": [
       "Lasso(alpha=0.01)"
      ]
     },
     "execution_count": 111,
     "metadata": {},
     "output_type": "execute_result"
    }
   ],
   "source": [
    "ls_lasso = ls_model.fit(X_train, Y_train)\n",
    "ls_lasso"
   ]
  },
  {
   "cell_type": "code",
   "execution_count": 112,
   "id": "06a1548e",
   "metadata": {},
   "outputs": [
    {
     "data": {
      "text/plain": [
       "array([ 6.20742742e-02,  9.62883366e+00,  4.26393072e-02, -7.55078703e+00,\n",
       "        2.20541742e-01,  2.80460255e+00, -8.93923421e+00, -5.72495333e+00,\n",
       "       -7.45412017e+00, -1.76847703e+01,  2.13284863e+00,  0.00000000e+00,\n",
       "       -1.37494331e+01, -1.46011067e+00,  6.50581797e+00,  2.60994538e+01,\n",
       "       -7.82420807e+00, -1.96566931e+01,  1.44481969e+01, -1.91960890e+01,\n",
       "        1.65506642e+02, -6.66269030e+00, -7.92221333e+00,  8.08368911e+00])"
      ]
     },
     "execution_count": 112,
     "metadata": {},
     "output_type": "execute_result"
    }
   ],
   "source": [
    "ls_lasso.coef_"
   ]
  },
  {
   "cell_type": "code",
   "execution_count": 113,
   "id": "c9303525",
   "metadata": {},
   "outputs": [
    {
     "data": {
      "text/plain": [
       "array([69.0441958 , 96.73032218, 81.87868662, ..., 66.60841516,\n",
       "       95.86667353, 35.51060118])"
      ]
     },
     "execution_count": 113,
     "metadata": {},
     "output_type": "execute_result"
    }
   ],
   "source": [
    "Y_pred = ls_lasso.predict(X_test)\n",
    "Y_pred"
   ]
  },
  {
   "cell_type": "code",
   "execution_count": 114,
   "id": "214c6737",
   "metadata": {},
   "outputs": [
    {
     "name": "stdout",
     "output_type": "stream",
     "text": [
      "861.7185859084419\n"
     ]
    }
   ],
   "source": [
    "print(mean_squared_error(Y_pred, Y_test))"
   ]
  },
  {
   "cell_type": "code",
   "execution_count": 115,
   "id": "3fdf6094",
   "metadata": {},
   "outputs": [
    {
     "name": "stdout",
     "output_type": "stream",
     "text": [
      "29.35504361959699\n"
     ]
    }
   ],
   "source": [
    "print(np.sqrt(mean_squared_error(Y_pred, Y_test)))     # calculating RMSE"
   ]
  },
  {
   "cell_type": "markdown",
   "id": "a5d50d78",
   "metadata": {},
   "source": [
    "But the error is not decreased significantly. So this algo is not helping."
   ]
  },
  {
   "cell_type": "markdown",
   "id": "5bbe776a",
   "metadata": {},
   "source": [
    "So we can play with the alpha value"
   ]
  },
  {
   "cell_type": "code",
   "execution_count": 116,
   "id": "2d756d5c",
   "metadata": {},
   "outputs": [
    {
     "data": {
      "text/plain": [
       "Lasso(alpha=0.0001)"
      ]
     },
     "execution_count": 116,
     "metadata": {},
     "output_type": "execute_result"
    }
   ],
   "source": [
    "ls_model = Lasso(alpha = 0.0001)    \n",
    "ls_model"
   ]
  },
  {
   "cell_type": "code",
   "execution_count": 117,
   "id": "2cec9b96",
   "metadata": {},
   "outputs": [
    {
     "data": {
      "text/plain": [
       "Lasso(alpha=0.0001)"
      ]
     },
     "execution_count": 117,
     "metadata": {},
     "output_type": "execute_result"
    }
   ],
   "source": [
    "ls_lasso = ls_model.fit(X_train, Y_train)\n",
    "ls_lasso"
   ]
  },
  {
   "cell_type": "code",
   "execution_count": 118,
   "id": "74ffa726",
   "metadata": {},
   "outputs": [
    {
     "data": {
      "text/plain": [
       "array([ 6.20397656e-02,  9.65952111e+00,  8.00878051e-02, -7.62292465e+00,\n",
       "        4.20871875e-01,  3.16101919e+00, -9.33804081e+00, -6.30535309e+00,\n",
       "       -8.08288808e+00, -1.83992675e+01,  2.83368526e+00, -0.00000000e+00,\n",
       "       -1.45175399e+01, -2.29153624e+00,  7.38683998e+00,  2.70179918e+01,\n",
       "       -8.85368903e+00, -2.06081380e+01,  1.54549819e+01, -2.05357411e+01,\n",
       "        1.67065733e+02, -8.27843466e+00, -9.54412716e+00,  6.64255216e+00])"
      ]
     },
     "execution_count": 118,
     "metadata": {},
     "output_type": "execute_result"
    }
   ],
   "source": [
    "ls_lasso.coef_"
   ]
  },
  {
   "cell_type": "code",
   "execution_count": 119,
   "id": "cdea1cae",
   "metadata": {},
   "outputs": [
    {
     "data": {
      "text/plain": [
       "array([69.33154353, 97.69453389, 81.92097439, ..., 66.65919205,\n",
       "       96.02387062, 35.53432427])"
      ]
     },
     "execution_count": 119,
     "metadata": {},
     "output_type": "execute_result"
    }
   ],
   "source": [
    "Y_pred = ls_lasso.predict(X_test)\n",
    "Y_pred"
   ]
  },
  {
   "cell_type": "code",
   "execution_count": 120,
   "id": "d8d964bc",
   "metadata": {},
   "outputs": [
    {
     "name": "stdout",
     "output_type": "stream",
     "text": [
      "861.3473736163714\n"
     ]
    }
   ],
   "source": [
    "print(mean_squared_error(Y_pred, Y_test))"
   ]
  },
  {
   "cell_type": "code",
   "execution_count": 121,
   "id": "4def9053",
   "metadata": {},
   "outputs": [
    {
     "name": "stdout",
     "output_type": "stream",
     "text": [
      "29.348720135916853\n"
     ]
    }
   ],
   "source": [
    "print(np.sqrt(mean_squared_error(Y_pred, Y_test)))     # calculating RMSE"
   ]
  },
  {
   "cell_type": "markdown",
   "id": "f56b4777",
   "metadata": {},
   "source": [
    "Also not helping"
   ]
  },
  {
   "cell_type": "code",
   "execution_count": 122,
   "id": "5a4301c5",
   "metadata": {},
   "outputs": [
    {
     "data": {
      "text/plain": [
       "Lasso(alpha=1)"
      ]
     },
     "execution_count": 122,
     "metadata": {},
     "output_type": "execute_result"
    }
   ],
   "source": [
    "ls_model = Lasso(alpha = 1)    \n",
    "ls_model"
   ]
  },
  {
   "cell_type": "code",
   "execution_count": 123,
   "id": "64a6a828",
   "metadata": {},
   "outputs": [
    {
     "data": {
      "text/plain": [
       "Lasso(alpha=1)"
      ]
     },
     "execution_count": 123,
     "metadata": {},
     "output_type": "execute_result"
    }
   ],
   "source": [
    "ls_lasso = ls_model.fit(X_train, Y_train)\n",
    "ls_lasso"
   ]
  },
  {
   "cell_type": "code",
   "execution_count": 124,
   "id": "070831d3",
   "metadata": {},
   "outputs": [
    {
     "data": {
      "text/plain": [
       "array([ 0.06411841,  3.10768339, -0.        , -0.        ,  0.        ,\n",
       "        0.        , -0.        , -0.        , -0.        , -0.        ,\n",
       "        0.        , -0.        , -0.        , -0.        ,  0.        ,\n",
       "        0.        , -0.        , -0.        ,  0.        , -0.        ,\n",
       "        9.42018298, -0.        , -0.        ,  0.        ])"
      ]
     },
     "execution_count": 124,
     "metadata": {},
     "output_type": "execute_result"
    }
   ],
   "source": [
    "ls_lasso.coef_"
   ]
  },
  {
   "cell_type": "code",
   "execution_count": 125,
   "id": "f33de622",
   "metadata": {},
   "outputs": [
    {
     "data": {
      "text/plain": [
       "array([68.1075193 , 84.3594773 , 81.63650439, ..., 65.86337485,\n",
       "       96.86256779, 35.08653673])"
      ]
     },
     "execution_count": 125,
     "metadata": {},
     "output_type": "execute_result"
    }
   ],
   "source": [
    "Y_pred_ls = ls_lasso.predict(X_test)\n",
    "Y_pred_ls"
   ]
  },
  {
   "cell_type": "code",
   "execution_count": 126,
   "id": "6c9e4bcf",
   "metadata": {},
   "outputs": [
    {
     "name": "stdout",
     "output_type": "stream",
     "text": [
      "1119.542519953256\n"
     ]
    }
   ],
   "source": [
    "print(mean_squared_error(Y_pred_ls, Y_test))"
   ]
  },
  {
   "cell_type": "code",
   "execution_count": 127,
   "id": "1242c36c",
   "metadata": {},
   "outputs": [
    {
     "name": "stdout",
     "output_type": "stream",
     "text": [
      "33.4595654477648\n"
     ]
    }
   ],
   "source": [
    "print(np.sqrt(mean_squared_error(Y_pred_ls, Y_test)))     # calculating RMSE"
   ]
  },
  {
   "cell_type": "markdown",
   "id": "54b3e5af",
   "metadata": {},
   "source": [
    "The error is even increased by changing alpha to 1"
   ]
  },
  {
   "cell_type": "code",
   "execution_count": 128,
   "id": "59d7ed9a",
   "metadata": {},
   "outputs": [
    {
     "data": {
      "text/plain": [
       "0.7367881105824444"
      ]
     },
     "execution_count": 128,
     "metadata": {},
     "output_type": "execute_result"
    }
   ],
   "source": [
    "ls_lasso.score(X_train, Y_train)"
   ]
  },
  {
   "cell_type": "code",
   "execution_count": 129,
   "id": "fd78c0c3",
   "metadata": {},
   "outputs": [
    {
     "data": {
      "text/plain": [
       "0.7922579916279258"
      ]
     },
     "execution_count": 129,
     "metadata": {},
     "output_type": "execute_result"
    }
   ],
   "source": [
    "ls_lasso.score(X_test, Y_test)"
   ]
  },
  {
   "cell_type": "markdown",
   "id": "7924cb1e",
   "metadata": {},
   "source": [
    "While training, we are getting 73% accuracy where error is added. But while testing, the accuracy is increased to 79%. So that error was good while training the dataset to reduce overfitting."
   ]
  },
  {
   "cell_type": "markdown",
   "id": "c7c999a7",
   "metadata": {},
   "source": [
    "Let's check for Ridge Regression model"
   ]
  },
  {
   "cell_type": "code",
   "execution_count": 130,
   "id": "6752ce55",
   "metadata": {},
   "outputs": [
    {
     "data": {
      "text/plain": [
       "Ridge(alpha=0.001)"
      ]
     },
     "execution_count": 130,
     "metadata": {},
     "output_type": "execute_result"
    }
   ],
   "source": [
    "rd_model = Ridge(alpha = 0.001)\n",
    "rd_model"
   ]
  },
  {
   "cell_type": "code",
   "execution_count": 131,
   "id": "b616b74c",
   "metadata": {},
   "outputs": [
    {
     "data": {
      "text/plain": [
       "Ridge(alpha=0.001)"
      ]
     },
     "execution_count": 131,
     "metadata": {},
     "output_type": "execute_result"
    }
   ],
   "source": [
    "rd_ridge = rd_model.fit(X_train, Y_train)\n",
    "rd_ridge"
   ]
  },
  {
   "cell_type": "code",
   "execution_count": 132,
   "id": "633b19a3",
   "metadata": {},
   "outputs": [
    {
     "data": {
      "text/plain": [
       "0.783390771275625"
      ]
     },
     "execution_count": 132,
     "metadata": {},
     "output_type": "execute_result"
    }
   ],
   "source": [
    "rd_ridge.score(X_train, Y_train)"
   ]
  },
  {
   "cell_type": "code",
   "execution_count": 133,
   "id": "6866f879",
   "metadata": {},
   "outputs": [
    {
     "data": {
      "text/plain": [
       "0.8401689018852355"
      ]
     },
     "execution_count": 133,
     "metadata": {},
     "output_type": "execute_result"
    }
   ],
   "source": [
    "rd_ridge.score(X_test, Y_test)"
   ]
  },
  {
   "cell_type": "markdown",
   "id": "5f7b1174",
   "metadata": {},
   "source": [
    "Here ridge is giving good result"
   ]
  },
  {
   "cell_type": "code",
   "execution_count": 134,
   "id": "b3aaad69",
   "metadata": {},
   "outputs": [
    {
     "data": {
      "text/plain": [
       "array([69.33445787, 97.70405283, 81.92150356, ..., 66.65980048,\n",
       "       96.02546534, 35.53459661])"
      ]
     },
     "execution_count": 134,
     "metadata": {},
     "output_type": "execute_result"
    }
   ],
   "source": [
    "Y_pred_rd = rd_ridge.predict(X_test)\n",
    "Y_pred_rd"
   ]
  },
  {
   "cell_type": "code",
   "execution_count": 135,
   "id": "2a51e56c",
   "metadata": {},
   "outputs": [
    {
     "name": "stdout",
     "output_type": "stream",
     "text": [
      "861.345819040196\n"
     ]
    }
   ],
   "source": [
    "print(mean_squared_error(Y_pred_rd, Y_test))"
   ]
  },
  {
   "cell_type": "code",
   "execution_count": 136,
   "id": "d156ab1f",
   "metadata": {},
   "outputs": [
    {
     "name": "stdout",
     "output_type": "stream",
     "text": [
      "29.34869365133985\n"
     ]
    }
   ],
   "source": [
    "print(np.sqrt(mean_squared_error(Y_pred_rd, Y_test)))     # calculating RMSE"
   ]
  },
  {
   "cell_type": "markdown",
   "id": "08236ed2",
   "metadata": {},
   "source": [
    "# Standard Scaling"
   ]
  },
  {
   "cell_type": "code",
   "execution_count": 236,
   "id": "03d28662",
   "metadata": {},
   "outputs": [],
   "source": [
    "from sklearn.preprocessing import StandardScaler"
   ]
  },
  {
   "cell_type": "code",
   "execution_count": 237,
   "id": "66c3eb3f",
   "metadata": {},
   "outputs": [],
   "source": [
    "x = df7.drop(['price'], axis = 1)      # X = independent variables\n",
    "y = df7['price']       #Y = dependent variable"
   ]
  },
  {
   "cell_type": "code",
   "execution_count": 238,
   "id": "cadb7387",
   "metadata": {},
   "outputs": [],
   "source": [
    "scaler = StandardScaler()"
   ]
  },
  {
   "cell_type": "code",
   "execution_count": 239,
   "id": "c79d9037",
   "metadata": {},
   "outputs": [],
   "source": [
    "df_scaled = scaler.fit_transform(x)"
   ]
  },
  {
   "cell_type": "code",
   "execution_count": 240,
   "id": "03a1c2f4",
   "metadata": {},
   "outputs": [
    {
     "data": {
      "text/plain": [
       "array([[-0.46769909, -0.47130863,  0.38393834, ..., -1.67056466,\n",
       "         2.06007057, -0.26675066],\n",
       "       [-0.25499203, -0.47130863,  0.38393834, ...,  0.5986    ,\n",
       "        -0.48542026, -0.26675066],\n",
       "       [-0.0870654 , -0.47130863, -0.72501421, ..., -1.67056466,\n",
       "         2.06007057, -0.26675066],\n",
       "       ...,\n",
       "       [ 0.24319031,  0.5615311 ,  1.49289089, ...,  0.5986    ,\n",
       "        -0.48542026, -0.26675066],\n",
       "       [ 3.57261563,  1.59437083, -0.72501421, ...,  0.5986    ,\n",
       "        -0.48542026, -0.26675066],\n",
       "       [-1.06103985, -1.50414836, -0.72501421, ...,  0.5986    ,\n",
       "        -0.48542026, -0.26675066]])"
      ]
     },
     "execution_count": 240,
     "metadata": {},
     "output_type": "execute_result"
    }
   ],
   "source": [
    "df_scaled    # it is in the array form"
   ]
  },
  {
   "cell_type": "code",
   "execution_count": 241,
   "id": "7f0712e8",
   "metadata": {},
   "outputs": [
    {
     "data": {
      "text/html": [
       "<div>\n",
       "<style scoped>\n",
       "    .dataframe tbody tr th:only-of-type {\n",
       "        vertical-align: middle;\n",
       "    }\n",
       "\n",
       "    .dataframe tbody tr th {\n",
       "        vertical-align: top;\n",
       "    }\n",
       "\n",
       "    .dataframe thead th {\n",
       "        text-align: right;\n",
       "    }\n",
       "</style>\n",
       "<table border=\"1\" class=\"dataframe\">\n",
       "  <thead>\n",
       "    <tr style=\"text-align: right;\">\n",
       "      <th></th>\n",
       "      <th>total_sqft</th>\n",
       "      <th>bath</th>\n",
       "      <th>balcony</th>\n",
       "      <th>bhk</th>\n",
       "      <th>Whitefield</th>\n",
       "      <th>Sarjapur  Road</th>\n",
       "      <th>Electronic City</th>\n",
       "      <th>Kanakpura Road</th>\n",
       "      <th>Yelahanka</th>\n",
       "      <th>Raja Rajeshwari Nagar</th>\n",
       "      <th>...</th>\n",
       "      <th>Hennur Road</th>\n",
       "      <th>Hebbal</th>\n",
       "      <th>Haralur Road</th>\n",
       "      <th>Electronic City Phase II</th>\n",
       "      <th>7th Phase JP Nagar</th>\n",
       "      <th>Chandapura</th>\n",
       "      <th>Rajaji Nagar</th>\n",
       "      <th>Super built-up  Area</th>\n",
       "      <th>Built-up  Area</th>\n",
       "      <th>Plot  Area</th>\n",
       "    </tr>\n",
       "  </thead>\n",
       "  <tbody>\n",
       "    <tr>\n",
       "      <th>0</th>\n",
       "      <td>-0.467699</td>\n",
       "      <td>-0.471309</td>\n",
       "      <td>0.383938</td>\n",
       "      <td>-0.624975</td>\n",
       "      <td>-0.215341</td>\n",
       "      <td>-0.168171</td>\n",
       "      <td>-0.161146</td>\n",
       "      <td>-0.135391</td>\n",
       "      <td>-0.125613</td>\n",
       "      <td>-0.122192</td>\n",
       "      <td>...</td>\n",
       "      <td>-0.110493</td>\n",
       "      <td>-0.107922</td>\n",
       "      <td>-0.106615</td>\n",
       "      <td>-0.106176</td>\n",
       "      <td>10.309904</td>\n",
       "      <td>-0.082509</td>\n",
       "      <td>-0.080808</td>\n",
       "      <td>-1.670565</td>\n",
       "      <td>2.060071</td>\n",
       "      <td>-0.266751</td>\n",
       "    </tr>\n",
       "    <tr>\n",
       "      <th>1</th>\n",
       "      <td>-0.254992</td>\n",
       "      <td>-0.471309</td>\n",
       "      <td>0.383938</td>\n",
       "      <td>-0.624975</td>\n",
       "      <td>-0.215341</td>\n",
       "      <td>-0.168171</td>\n",
       "      <td>-0.161146</td>\n",
       "      <td>-0.135391</td>\n",
       "      <td>-0.125613</td>\n",
       "      <td>-0.122192</td>\n",
       "      <td>...</td>\n",
       "      <td>-0.110493</td>\n",
       "      <td>-0.107922</td>\n",
       "      <td>-0.106615</td>\n",
       "      <td>-0.106176</td>\n",
       "      <td>10.309904</td>\n",
       "      <td>-0.082509</td>\n",
       "      <td>-0.080808</td>\n",
       "      <td>0.598600</td>\n",
       "      <td>-0.485420</td>\n",
       "      <td>-0.266751</td>\n",
       "    </tr>\n",
       "    <tr>\n",
       "      <th>2</th>\n",
       "      <td>-0.087065</td>\n",
       "      <td>-0.471309</td>\n",
       "      <td>-0.725014</td>\n",
       "      <td>0.497211</td>\n",
       "      <td>-0.215341</td>\n",
       "      <td>-0.168171</td>\n",
       "      <td>-0.161146</td>\n",
       "      <td>-0.135391</td>\n",
       "      <td>-0.125613</td>\n",
       "      <td>-0.122192</td>\n",
       "      <td>...</td>\n",
       "      <td>-0.110493</td>\n",
       "      <td>-0.107922</td>\n",
       "      <td>-0.106615</td>\n",
       "      <td>-0.106176</td>\n",
       "      <td>10.309904</td>\n",
       "      <td>-0.082509</td>\n",
       "      <td>-0.080808</td>\n",
       "      <td>-1.670565</td>\n",
       "      <td>2.060071</td>\n",
       "      <td>-0.266751</td>\n",
       "    </tr>\n",
       "    <tr>\n",
       "      <th>3</th>\n",
       "      <td>0.394324</td>\n",
       "      <td>0.561531</td>\n",
       "      <td>-0.725014</td>\n",
       "      <td>0.497211</td>\n",
       "      <td>-0.215341</td>\n",
       "      <td>-0.168171</td>\n",
       "      <td>-0.161146</td>\n",
       "      <td>-0.135391</td>\n",
       "      <td>-0.125613</td>\n",
       "      <td>-0.122192</td>\n",
       "      <td>...</td>\n",
       "      <td>-0.110493</td>\n",
       "      <td>-0.107922</td>\n",
       "      <td>-0.106615</td>\n",
       "      <td>-0.106176</td>\n",
       "      <td>10.309904</td>\n",
       "      <td>-0.082509</td>\n",
       "      <td>-0.080808</td>\n",
       "      <td>-1.670565</td>\n",
       "      <td>2.060071</td>\n",
       "      <td>-0.266751</td>\n",
       "    </tr>\n",
       "    <tr>\n",
       "      <th>4</th>\n",
       "      <td>-0.282980</td>\n",
       "      <td>-0.471309</td>\n",
       "      <td>-0.725014</td>\n",
       "      <td>-0.624975</td>\n",
       "      <td>-0.215341</td>\n",
       "      <td>-0.168171</td>\n",
       "      <td>-0.161146</td>\n",
       "      <td>-0.135391</td>\n",
       "      <td>-0.125613</td>\n",
       "      <td>-0.122192</td>\n",
       "      <td>...</td>\n",
       "      <td>-0.110493</td>\n",
       "      <td>-0.107922</td>\n",
       "      <td>-0.106615</td>\n",
       "      <td>-0.106176</td>\n",
       "      <td>10.309904</td>\n",
       "      <td>-0.082509</td>\n",
       "      <td>-0.080808</td>\n",
       "      <td>-1.670565</td>\n",
       "      <td>2.060071</td>\n",
       "      <td>-0.266751</td>\n",
       "    </tr>\n",
       "    <tr>\n",
       "      <th>...</th>\n",
       "      <td>...</td>\n",
       "      <td>...</td>\n",
       "      <td>...</td>\n",
       "      <td>...</td>\n",
       "      <td>...</td>\n",
       "      <td>...</td>\n",
       "      <td>...</td>\n",
       "      <td>...</td>\n",
       "      <td>...</td>\n",
       "      <td>...</td>\n",
       "      <td>...</td>\n",
       "      <td>...</td>\n",
       "      <td>...</td>\n",
       "      <td>...</td>\n",
       "      <td>...</td>\n",
       "      <td>...</td>\n",
       "      <td>...</td>\n",
       "      <td>...</td>\n",
       "      <td>...</td>\n",
       "      <td>...</td>\n",
       "      <td>...</td>\n",
       "    </tr>\n",
       "    <tr>\n",
       "      <th>10939</th>\n",
       "      <td>-0.501284</td>\n",
       "      <td>-0.471309</td>\n",
       "      <td>0.383938</td>\n",
       "      <td>-0.624975</td>\n",
       "      <td>-0.215341</td>\n",
       "      <td>-0.168171</td>\n",
       "      <td>-0.161146</td>\n",
       "      <td>-0.135391</td>\n",
       "      <td>-0.125613</td>\n",
       "      <td>-0.122192</td>\n",
       "      <td>...</td>\n",
       "      <td>-0.110493</td>\n",
       "      <td>-0.107922</td>\n",
       "      <td>-0.106615</td>\n",
       "      <td>-0.106176</td>\n",
       "      <td>-0.096994</td>\n",
       "      <td>-0.082509</td>\n",
       "      <td>-0.080808</td>\n",
       "      <td>0.598600</td>\n",
       "      <td>-0.485420</td>\n",
       "      <td>-0.266751</td>\n",
       "    </tr>\n",
       "    <tr>\n",
       "      <th>10940</th>\n",
       "      <td>-0.263948</td>\n",
       "      <td>-0.471309</td>\n",
       "      <td>0.383938</td>\n",
       "      <td>-0.624975</td>\n",
       "      <td>-0.215341</td>\n",
       "      <td>-0.168171</td>\n",
       "      <td>-0.161146</td>\n",
       "      <td>-0.135391</td>\n",
       "      <td>-0.125613</td>\n",
       "      <td>-0.122192</td>\n",
       "      <td>...</td>\n",
       "      <td>-0.110493</td>\n",
       "      <td>-0.107922</td>\n",
       "      <td>-0.106615</td>\n",
       "      <td>-0.106176</td>\n",
       "      <td>-0.096994</td>\n",
       "      <td>-0.082509</td>\n",
       "      <td>-0.080808</td>\n",
       "      <td>0.598600</td>\n",
       "      <td>-0.485420</td>\n",
       "      <td>-0.266751</td>\n",
       "    </tr>\n",
       "    <tr>\n",
       "      <th>10941</th>\n",
       "      <td>0.243190</td>\n",
       "      <td>0.561531</td>\n",
       "      <td>1.492891</td>\n",
       "      <td>0.497211</td>\n",
       "      <td>-0.215341</td>\n",
       "      <td>-0.168171</td>\n",
       "      <td>-0.161146</td>\n",
       "      <td>-0.135391</td>\n",
       "      <td>-0.125613</td>\n",
       "      <td>-0.122192</td>\n",
       "      <td>...</td>\n",
       "      <td>-0.110493</td>\n",
       "      <td>-0.107922</td>\n",
       "      <td>-0.106615</td>\n",
       "      <td>-0.106176</td>\n",
       "      <td>-0.096994</td>\n",
       "      <td>-0.082509</td>\n",
       "      <td>-0.080808</td>\n",
       "      <td>0.598600</td>\n",
       "      <td>-0.485420</td>\n",
       "      <td>-0.266751</td>\n",
       "    </tr>\n",
       "    <tr>\n",
       "      <th>10942</th>\n",
       "      <td>3.572616</td>\n",
       "      <td>1.594371</td>\n",
       "      <td>-0.725014</td>\n",
       "      <td>1.619397</td>\n",
       "      <td>-0.215341</td>\n",
       "      <td>-0.168171</td>\n",
       "      <td>-0.161146</td>\n",
       "      <td>-0.135391</td>\n",
       "      <td>-0.125613</td>\n",
       "      <td>-0.122192</td>\n",
       "      <td>...</td>\n",
       "      <td>-0.110493</td>\n",
       "      <td>-0.107922</td>\n",
       "      <td>-0.106615</td>\n",
       "      <td>-0.106176</td>\n",
       "      <td>-0.096994</td>\n",
       "      <td>-0.082509</td>\n",
       "      <td>-0.080808</td>\n",
       "      <td>0.598600</td>\n",
       "      <td>-0.485420</td>\n",
       "      <td>-0.266751</td>\n",
       "    </tr>\n",
       "    <tr>\n",
       "      <th>10943</th>\n",
       "      <td>-1.061040</td>\n",
       "      <td>-1.504148</td>\n",
       "      <td>-0.725014</td>\n",
       "      <td>-1.747161</td>\n",
       "      <td>-0.215341</td>\n",
       "      <td>-0.168171</td>\n",
       "      <td>-0.161146</td>\n",
       "      <td>-0.135391</td>\n",
       "      <td>-0.125613</td>\n",
       "      <td>-0.122192</td>\n",
       "      <td>...</td>\n",
       "      <td>-0.110493</td>\n",
       "      <td>-0.107922</td>\n",
       "      <td>-0.106615</td>\n",
       "      <td>-0.106176</td>\n",
       "      <td>-0.096994</td>\n",
       "      <td>-0.082509</td>\n",
       "      <td>-0.080808</td>\n",
       "      <td>0.598600</td>\n",
       "      <td>-0.485420</td>\n",
       "      <td>-0.266751</td>\n",
       "    </tr>\n",
       "  </tbody>\n",
       "</table>\n",
       "<p>10944 rows × 24 columns</p>\n",
       "</div>"
      ],
      "text/plain": [
       "       total_sqft      bath   balcony       bhk  Whitefield  Sarjapur  Road  \\\n",
       "0       -0.467699 -0.471309  0.383938 -0.624975   -0.215341       -0.168171   \n",
       "1       -0.254992 -0.471309  0.383938 -0.624975   -0.215341       -0.168171   \n",
       "2       -0.087065 -0.471309 -0.725014  0.497211   -0.215341       -0.168171   \n",
       "3        0.394324  0.561531 -0.725014  0.497211   -0.215341       -0.168171   \n",
       "4       -0.282980 -0.471309 -0.725014 -0.624975   -0.215341       -0.168171   \n",
       "...           ...       ...       ...       ...         ...             ...   \n",
       "10939   -0.501284 -0.471309  0.383938 -0.624975   -0.215341       -0.168171   \n",
       "10940   -0.263948 -0.471309  0.383938 -0.624975   -0.215341       -0.168171   \n",
       "10941    0.243190  0.561531  1.492891  0.497211   -0.215341       -0.168171   \n",
       "10942    3.572616  1.594371 -0.725014  1.619397   -0.215341       -0.168171   \n",
       "10943   -1.061040 -1.504148 -0.725014 -1.747161   -0.215341       -0.168171   \n",
       "\n",
       "       Electronic City  Kanakpura Road  Yelahanka  Raja Rajeshwari Nagar  ...  \\\n",
       "0            -0.161146       -0.135391  -0.125613              -0.122192  ...   \n",
       "1            -0.161146       -0.135391  -0.125613              -0.122192  ...   \n",
       "2            -0.161146       -0.135391  -0.125613              -0.122192  ...   \n",
       "3            -0.161146       -0.135391  -0.125613              -0.122192  ...   \n",
       "4            -0.161146       -0.135391  -0.125613              -0.122192  ...   \n",
       "...                ...             ...        ...                    ...  ...   \n",
       "10939        -0.161146       -0.135391  -0.125613              -0.122192  ...   \n",
       "10940        -0.161146       -0.135391  -0.125613              -0.122192  ...   \n",
       "10941        -0.161146       -0.135391  -0.125613              -0.122192  ...   \n",
       "10942        -0.161146       -0.135391  -0.125613              -0.122192  ...   \n",
       "10943        -0.161146       -0.135391  -0.125613              -0.122192  ...   \n",
       "\n",
       "       Hennur Road    Hebbal  Haralur Road  Electronic City Phase II  \\\n",
       "0        -0.110493 -0.107922     -0.106615                 -0.106176   \n",
       "1        -0.110493 -0.107922     -0.106615                 -0.106176   \n",
       "2        -0.110493 -0.107922     -0.106615                 -0.106176   \n",
       "3        -0.110493 -0.107922     -0.106615                 -0.106176   \n",
       "4        -0.110493 -0.107922     -0.106615                 -0.106176   \n",
       "...            ...       ...           ...                       ...   \n",
       "10939    -0.110493 -0.107922     -0.106615                 -0.106176   \n",
       "10940    -0.110493 -0.107922     -0.106615                 -0.106176   \n",
       "10941    -0.110493 -0.107922     -0.106615                 -0.106176   \n",
       "10942    -0.110493 -0.107922     -0.106615                 -0.106176   \n",
       "10943    -0.110493 -0.107922     -0.106615                 -0.106176   \n",
       "\n",
       "       7th Phase JP Nagar  Chandapura  Rajaji Nagar  Super built-up  Area  \\\n",
       "0               10.309904   -0.082509     -0.080808             -1.670565   \n",
       "1               10.309904   -0.082509     -0.080808              0.598600   \n",
       "2               10.309904   -0.082509     -0.080808             -1.670565   \n",
       "3               10.309904   -0.082509     -0.080808             -1.670565   \n",
       "4               10.309904   -0.082509     -0.080808             -1.670565   \n",
       "...                   ...         ...           ...                   ...   \n",
       "10939           -0.096994   -0.082509     -0.080808              0.598600   \n",
       "10940           -0.096994   -0.082509     -0.080808              0.598600   \n",
       "10941           -0.096994   -0.082509     -0.080808              0.598600   \n",
       "10942           -0.096994   -0.082509     -0.080808              0.598600   \n",
       "10943           -0.096994   -0.082509     -0.080808              0.598600   \n",
       "\n",
       "       Built-up  Area  Plot  Area  \n",
       "0            2.060071   -0.266751  \n",
       "1           -0.485420   -0.266751  \n",
       "2            2.060071   -0.266751  \n",
       "3            2.060071   -0.266751  \n",
       "4            2.060071   -0.266751  \n",
       "...               ...         ...  \n",
       "10939       -0.485420   -0.266751  \n",
       "10940       -0.485420   -0.266751  \n",
       "10941       -0.485420   -0.266751  \n",
       "10942       -0.485420   -0.266751  \n",
       "10943       -0.485420   -0.266751  \n",
       "\n",
       "[10944 rows x 24 columns]"
      ]
     },
     "execution_count": 241,
     "metadata": {},
     "output_type": "execute_result"
    }
   ],
   "source": [
    "pd.DataFrame(df_scaled, columns = x.columns)"
   ]
  },
  {
   "cell_type": "code",
   "execution_count": 242,
   "id": "1e619408",
   "metadata": {},
   "outputs": [],
   "source": [
    "from sklearn.linear_model import LinearRegression"
   ]
  },
  {
   "cell_type": "code",
   "execution_count": 243,
   "id": "54a4d9c1",
   "metadata": {},
   "outputs": [],
   "source": [
    "lr = LinearRegression()"
   ]
  },
  {
   "cell_type": "code",
   "execution_count": 244,
   "id": "cdf6c3ab",
   "metadata": {},
   "outputs": [],
   "source": [
    "X_train, X_test, Y_train, Y_test = train_test_split(x, y, test_size = 0.25, random_state = 10)   "
   ]
  },
  {
   "cell_type": "code",
   "execution_count": 245,
   "id": "f4f120c5",
   "metadata": {},
   "outputs": [],
   "source": [
    "lin_model = lr.fit(X_train, Y_train)"
   ]
  },
  {
   "cell_type": "code",
   "execution_count": 246,
   "id": "e07a1749",
   "metadata": {},
   "outputs": [
    {
     "data": {
      "text/plain": [
       "array([ 6.20394301e-02,  9.65983924e+00,  8.04758889e-02, -7.62366745e+00,\n",
       "        4.22826594e-01,  3.16454717e+00, -9.34213029e+00, -6.31128561e+00,\n",
       "       -8.08930907e+00, -1.84065566e+01,  2.84069452e+00, -3.80027479e-03,\n",
       "       -1.45253639e+01, -2.30000005e+00,  7.39567084e+00,  2.70271932e+01,\n",
       "       -8.86416323e+00, -2.06178085e+01,  1.54650854e+01, -2.05493354e+01,\n",
       "        1.67081408e+02, -8.29469889e+00, -9.56047527e+00,  6.62798303e+00])"
      ]
     },
     "execution_count": 246,
     "metadata": {},
     "output_type": "execute_result"
    }
   ],
   "source": [
    "lin_model.coef_"
   ]
  },
  {
   "cell_type": "code",
   "execution_count": 247,
   "id": "b04a764f",
   "metadata": {},
   "outputs": [
    {
     "data": {
      "text/plain": [
       "-4.966917214359327"
      ]
     },
     "execution_count": 247,
     "metadata": {},
     "output_type": "execute_result"
    }
   ],
   "source": [
    "lin_model.intercept_"
   ]
  },
  {
   "cell_type": "markdown",
   "id": "aa32561f",
   "metadata": {},
   "source": [
    "R^2 score"
   ]
  },
  {
   "cell_type": "code",
   "execution_count": 248,
   "id": "a779b12a",
   "metadata": {},
   "outputs": [
    {
     "data": {
      "text/plain": [
       "0.7833907712906157"
      ]
     },
     "execution_count": 248,
     "metadata": {},
     "output_type": "execute_result"
    }
   ],
   "source": [
    "lr.score(X_train, Y_train)    "
   ]
  },
  {
   "cell_type": "code",
   "execution_count": 249,
   "id": "9b3c10a5",
   "metadata": {},
   "outputs": [
    {
     "data": {
      "text/plain": [
       "0.84016899129214"
      ]
     },
     "execution_count": 249,
     "metadata": {},
     "output_type": "execute_result"
    }
   ],
   "source": [
    "lr.score(X_test, Y_test)    "
   ]
  },
  {
   "cell_type": "markdown",
   "id": "771cba55",
   "metadata": {},
   "source": [
    "TEST THE MODEL ON TESTING DATASET"
   ]
  },
  {
   "cell_type": "code",
   "execution_count": 250,
   "id": "056f861d",
   "metadata": {},
   "outputs": [],
   "source": [
    "from sklearn.metrics import mean_squared_error, mean_absolute_error"
   ]
  },
  {
   "cell_type": "code",
   "execution_count": 251,
   "id": "7c41f283",
   "metadata": {},
   "outputs": [
    {
     "data": {
      "text/plain": [
       "array([69.33446647, 97.70425209, 81.92148373, ..., 66.65978394,\n",
       "       96.02545851, 35.53460524])"
      ]
     },
     "execution_count": 251,
     "metadata": {},
     "output_type": "execute_result"
    }
   ],
   "source": [
    "Y_pred = lin_model.predict(X_test)\n",
    "Y_pred"
   ]
  },
  {
   "cell_type": "code",
   "execution_count": 252,
   "id": "c0b88fb5",
   "metadata": {},
   "outputs": [
    {
     "name": "stdout",
     "output_type": "stream",
     "text": [
      "861.3453372174204\n"
     ]
    }
   ],
   "source": [
    "print(mean_squared_error(Y_pred, Y_test))    # calculating MSE"
   ]
  },
  {
   "cell_type": "code",
   "execution_count": 253,
   "id": "3211480d",
   "metadata": {},
   "outputs": [
    {
     "name": "stdout",
     "output_type": "stream",
     "text": [
      "29.348685442748884\n"
     ]
    }
   ],
   "source": [
    "print(np.sqrt(mean_squared_error(Y_pred, Y_test)))     # calculating RMSE"
   ]
  },
  {
   "cell_type": "code",
   "execution_count": 254,
   "id": "58996ba7",
   "metadata": {},
   "outputs": [
    {
     "data": {
      "text/plain": [
       "<AxesSubplot:xlabel='price'>"
      ]
     },
     "execution_count": 254,
     "metadata": {},
     "output_type": "execute_result"
    },
    {
     "data": {
      "image/png": "[encoded data removed]",
      "text/plain": [
       "<Figure size 432x288 with 1 Axes>"
      ]
     },
     "metadata": {
      "needs_background": "light"
     },
     "output_type": "display_data"
    }
   ],
   "source": [
    "sns.regplot(Y_test, Y_pred)"
   ]
  },
  {
   "cell_type": "code",
   "execution_count": null,
   "id": "e5bebeff",
   "metadata": {},
   "outputs": [],
   "source": []
  },
  {
   "cell_type": "code",
   "execution_count": null,
   "id": "5f785e8e",
   "metadata": {},
   "outputs": [],
   "source": []
  },
  {
   "cell_type": "code",
   "execution_count": null,
   "id": "3fcd8caf",
   "metadata": {},
   "outputs": [],
   "source": []
  }
 ],
 "metadata": {
  "kernelspec": {
   "display_name": "Python 3",
   "language": "python",
   "name": "python3"
  },
  "language_info": {
   "codemirror_mode": {
    "name": "ipython",
    "version": 3
   },
   "file_extension": ".py",
   "mimetype": "text/x-python",
   "name": "python",
   "nbconvert_exporter": "python",
   "pygments_lexer": "ipython3",
   "version": "3.8.8"
  }
 },
 "nbformat": 4,
 "nbformat_minor": 5
}
